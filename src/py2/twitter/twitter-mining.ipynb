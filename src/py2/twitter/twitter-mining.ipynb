{
 "cells": [
  {
   "cell_type": "code",
   "execution_count": 1,
   "metadata": {
    "collapsed": false
   },
   "outputs": [
    {
     "name": "stdout",
     "output_type": "stream",
     "text": [
      "<twitter.api.Twitter object at 0x10dc7c990>\n"
     ]
    }
   ],
   "source": [
    "import twitter\n",
    "\n",
    "CONSUMER_KEY = 'P4XZ2GUkeqdhIlQMOredBuW05'\n",
    "CONSUMER_SECRET = 'r5TPb2UcM8bzxq7t5zflRPMHUrCfwNG4GRuVPXypowrpHhTmue'\n",
    "OAUTH_TOKEN = ''\n",
    "OAUTH_TOKEN_SECRET = ''\n",
    "\n",
    "auth = twitter.oauth.OAuth(OAUTH_TOKEN, OAUTH_TOKEN_SECRET,\n",
    "                          CONSUMER_KEY, CONSUMER_SECRET)\n",
    "\n",
    "twitter_api = twitter.Twitter(auth=auth)\n",
    "\n",
    "print twitter_api"
   ]
  },
  {
   "cell_type": "code",
   "execution_count": 2,
   "metadata": {
    "collapsed": false
   },
   "outputs": [
    {
     "name": "stdout",
     "output_type": "stream",
     "text": [
      "[{u'created_at': u'2016-04-06T02:15:56Z', u'trends': [{u'url': u'http://twitter.com/search?q=%23BBB16', u'query': u'%23BBB16', u'tweet_volume': 456508, u'name': u'#BBB16', u'promoted_content': None}, {u'url': u'http://twitter.com/search?q=%23BlackGirlsRock', u'query': u'%23BlackGirlsRock', u'tweet_volume': 120974, u'name': u'#BlackGirlsRock', u'promoted_content': None}, {u'url': u'http://twitter.com/search?q=Wisconsin', u'query': u'Wisconsin', u'tweet_volume': 492404, u'name': u'Wisconsin', u'promoted_content': None}, {u'url': u'http://twitter.com/search?q=%23ShadowhuntersChat', u'query': u'%23ShadowhuntersChat', u'tweet_volume': 76260, u'name': u'#ShadowhuntersChat', u'promoted_content': None}, {u'url': u'http://twitter.com/search?q=%23MartesIntratable', u'query': u'%23MartesIntratable', u'tweet_volume': 23716, u'name': u'#MartesIntratable', u'promoted_content': None}, {u'url': u'http://twitter.com/search?q=%23CallejerosInocentes', u'query': u'%23CallejerosInocentes', u'tweet_volume': 27803, u'name': u'#CallejerosInocentes', u'promoted_content': None}, {u'url': u'http://twitter.com/search?q=%22Carol+Paix%C3%A3o%22', u'query': u'%22Carol+Paix%C3%A3o%22', u'tweet_volume': None, u'name': u'Carol Paix\\xe3o', u'promoted_content': None}, {u'url': u'http://twitter.com/search?q=%22L%C3%A1zaro+B%C3%A1ez%22', u'query': u'%22L%C3%A1zaro+B%C3%A1ez%22', u'tweet_volume': 98834, u'name': u'L\\xe1zaro B\\xe1ez', u'promoted_content': None}, {u'url': u'http://twitter.com/search?q=Trujillanos', u'query': u'Trujillanos', u'tweet_volume': 12760, u'name': u'Trujillanos', u'promoted_content': None}, {u'url': u'http://twitter.com/search?q=%22WE+RESPECT+MALIA%22', u'query': u'%22WE+RESPECT+MALIA%22', u'tweet_volume': 10312, u'name': u'WE RESPECT MALIA', u'promoted_content': None}, {u'url': u'http://twitter.com/search?q=Polaco', u'query': u'Polaco', u'tweet_volume': 10153, u'name': u'Polaco', u'promoted_content': None}, {u'url': u'http://twitter.com/search?q=Toluca', u'query': u'Toluca', u'tweet_volume': 11329, u'name': u'Toluca', u'promoted_content': None}, {u'url': u'http://twitter.com/search?q=Su%C3%A1rez', u'query': u'Su%C3%A1rez', u'tweet_volume': 391414, u'name': u'Su\\xe1rez', u'promoted_content': None}, {u'url': u'http://twitter.com/search?q=%22EL+BAILANDO+TU+DESTINO+VIGNA%22', u'query': u'%22EL+BAILANDO+TU+DESTINO+VIGNA%22', u'tweet_volume': 14056, u'name': u'EL BAILANDO TU DESTINO VIGNA', u'promoted_content': None}, {u'url': u'http://twitter.com/search?q=%EC%8A%A4%EC%9C%84%EB%8B%88', u'query': u'%EC%8A%A4%EC%9C%84%EB%8B%88', u'tweet_volume': None, u'name': u'\\uc2a4\\uc704\\ub2c8', u'promoted_content': None}, {u'url': u'http://twitter.com/search?q=%23ElDesencuentroFinal', u'query': u'%23ElDesencuentroFinal', u'tweet_volume': None, u'name': u'#ElDesencuentroFinal', u'promoted_content': None}, {u'url': u'http://twitter.com/search?q=%23TagueirosSempreSdv', u'query': u'%23TagueirosSempreSdv', u'tweet_volume': 15980, u'name': u'#TagueirosSempreSdv', u'promoted_content': None}, {u'url': u'http://twitter.com/search?q=%23HoyEsNocheDeHZ', u'query': u'%23HoyEsNocheDeHZ', u'tweet_volume': None, u'name': u'#HoyEsNocheDeHZ', u'promoted_content': None}, {u'url': u'http://twitter.com/search?q=%23EspiasDelAmor', u'query': u'%23EspiasDelAmor', u'tweet_volume': None, u'name': u'#EspiasDelAmor', u'promoted_content': None}, {u'url': u'http://twitter.com/search?q=%23DeclaroSinMiedo', u'query': u'%23DeclaroSinMiedo', u'tweet_volume': None, u'name': u'#DeclaroSinMiedo', u'promoted_content': None}, {u'url': u'http://twitter.com/search?q=%23ThePeopleVsOJSimpson', u'query': u'%23ThePeopleVsOJSimpson', u'tweet_volume': None, u'name': u'#ThePeopleVsOJSimpson', u'promoted_content': None}, {u'url': u'http://twitter.com/search?q=%23DetencionPorSospecha', u'query': u'%23DetencionPorSospecha', u'tweet_volume': None, u'name': u'#DetencionPorSospecha', u'promoted_content': None}, {u'url': u'http://twitter.com/search?q=%23MacriOffShore', u'query': u'%23MacriOffShore', u'tweet_volume': 26378, u'name': u'#MacriOffShore', u'promoted_content': None}, {u'url': u'http://twitter.com/search?q=%23askconnor', u'query': u'%23askconnor', u'tweet_volume': None, u'name': u'#askconnor', u'promoted_content': None}, {u'url': u'http://twitter.com/search?q=%23%D8%A7%D9%84%D8%AD%D8%A8_%D9%81_%D9%83%D9%84%D9%85%D9%87', u'query': u'%23%D8%A7%D9%84%D8%AD%D8%A8_%D9%81_%D9%83%D9%84%D9%85%D9%87', u'tweet_volume': 15464, u'name': u'#\\u0627\\u0644\\u062d\\u0628_\\u0641_\\u0643\\u0644\\u0645\\u0647', u'promoted_content': None}, {u'url': u'http://twitter.com/search?q=%23CopaLibertadores', u'query': u'%23CopaLibertadores', u'tweet_volume': 12504, u'name': u'#CopaLibertadores', u'promoted_content': None}, {u'url': u'http://twitter.com/search?q=%23SoyFanDe', u'query': u'%23SoyFanDe', u'tweet_volume': None, u'name': u'#SoyFanDe', u'promoted_content': None}, {u'url': u'http://twitter.com/search?q=%23lovesick10days', u'query': u'%23lovesick10days', u'tweet_volume': 43485, u'name': u'#lovesick10days', u'promoted_content': None}, {u'url': u'http://twitter.com/search?q=%23DescribeAVideoGameBadly', u'query': u'%23DescribeAVideoGameBadly', u'tweet_volume': None, u'name': u'#DescribeAVideoGameBadly', u'promoted_content': None}, {u'url': u'http://twitter.com/search?q=%23PekinExpress', u'query': u'%23PekinExpress', u'tweet_volume': 37570, u'name': u'#PekinExpress', u'promoted_content': None}, {u'url': u'http://twitter.com/search?q=%23IdolFarewell', u'query': u'%23IdolFarewell', u'tweet_volume': None, u'name': u'#IdolFarewell', u'promoted_content': None}, {u'url': u'http://twitter.com/search?q=%23TotalDivas', u'query': u'%23TotalDivas', u'tweet_volume': 14813, u'name': u'#TotalDivas', u'promoted_content': None}, {u'url': u'http://twitter.com/search?q=%23BGC15', u'query': u'%23BGC15', u'tweet_volume': 14907, u'name': u'#BGC15', u'promoted_content': None}, {u'url': u'http://twitter.com/search?q=%23KeikoNoVa', u'query': u'%23KeikoNoVa', u'tweet_volume': 17456, u'name': u'#KeikoNoVa', u'promoted_content': None}, {u'url': u'http://twitter.com/search?q=%23LQSAHaVuelto', u'query': u'%23LQSAHaVuelto', u'tweet_volume': 26516, u'name': u'#LQSAHaVuelto', u'promoted_content': None}, {u'url': u'http://twitter.com/search?q=%23ConcaChampions', u'query': u'%23ConcaChampions', u'tweet_volume': None, u'name': u'#ConcaChampions', u'promoted_content': None}, {u'url': u'http://twitter.com/search?q=%23YooSiJin', u'query': u'%23YooSiJin', u'tweet_volume': None, u'name': u'#YooSiJin', u'promoted_content': None}, {u'url': u'http://twitter.com/search?q=%23%D8%AC%D9%85%D8%A7%D9%84_%D8%A7%D9%84%D8%A8%D9%86%D8%AA', u'query': u'%23%D8%AC%D9%85%D8%A7%D9%84_%D8%A7%D9%84%D8%A8%D9%86%D8%AA', u'tweet_volume': 28593, u'name': u'#\\u062c\\u0645\\u0627\\u0644_\\u0627\\u0644\\u0628\\u0646\\u062a', u'promoted_content': None}, {u'url': u'http://twitter.com/search?q=%23LeyAyudaHumanitariaYa', u'query': u'%23LeyAyudaHumanitariaYa', u'tweet_volume': None, u'name': u'#LeyAyudaHumanitariaYa', u'promoted_content': None}, {u'url': u'http://twitter.com/search?q=%23IfLovingYouIsWrong', u'query': u'%23IfLovingYouIsWrong', u'tweet_volume': None, u'name': u'#IfLovingYouIsWrong', u'promoted_content': None}, {u'url': u'http://twitter.com/search?q=%23ASKISSA', u'query': u'%23ASKISSA', u'tweet_volume': 27148, u'name': u'#ASKISSA', u'promoted_content': None}, {u'url': u'http://twitter.com/search?q=%23%D9%87%D9%84_%D8%B6%D8%AD%D9%83%D8%AA_%D8%A7%D9%84%D9%8A%D9%88%D9%85_%D8%B9%D9%84%D9%8A_%D9%86%D8%A7%D8%AF%D9%8A_%D8%A7%D9%84%D9%86%D8%B5%D8%B1', u'query': u'%23%D9%87%D9%84_%D8%B6%D8%AD%D9%83%D8%AA_%D8%A7%D9%84%D9%8A%D9%88%D9%85_%D8%B9%D9%84%D9%8A_%D9%86%D8%A7%D8%AF%D9%8A_%D8%A7%D9%84%D9%86%D8%B5%D8%B1', u'tweet_volume': 13659, u'name': u'#\\u0647\\u0644_\\u0636\\u062d\\u0643\\u062a_\\u0627\\u0644\\u064a\\u0648\\u0645_\\u0639\\u0644\\u064a_\\u0646\\u0627\\u062f\\u064a_\\u0627\\u0644\\u0646\\u0635\\u0631', u'promoted_content': None}, {u'url': u'http://twitter.com/search?q=%23LosMisteriosDeDios', u'query': u'%23LosMisteriosDeDios', u'tweet_volume': None, u'name': u'#LosMisteriosDeDios', u'promoted_content': None}, {u'url': u'http://twitter.com/search?q=%23nashdigi', u'query': u'%23nashdigi', u'tweet_volume': None, u'name': u'#nashdigi', u'promoted_content': None}, {u'url': u'http://twitter.com/search?q=%23EsTiempoDe', u'query': u'%23EsTiempoDe', u'tweet_volume': None, u'name': u'#EsTiempoDe', u'promoted_content': None}, {u'url': u'http://twitter.com/search?q=%23%D8%B4%D9%82%D9%8A%D9%82_%D8%A8%D9%84%D9%82%D9%8A%D8%B3_%D9%8A%D9%87%D9%8A%D9%86_%D8%A7%D9%84%D8%B3%D8%B9%D9%88%D8%AF%D9%8A%D9%8A%D9%86', u'query': u'%23%D8%B4%D9%82%D9%8A%D9%82_%D8%A8%D9%84%D9%82%D9%8A%D8%B3_%D9%8A%D9%87%D9%8A%D9%86_%D8%A7%D9%84%D8%B3%D8%B9%D9%88%D8%AF%D9%8A%D9%8A%D9%86', u'tweet_volume': None, u'name': u'#\\u0634\\u0642\\u064a\\u0642_\\u0628\\u0644\\u0642\\u064a\\u0633_\\u064a\\u0647\\u064a\\u0646_\\u0627\\u0644\\u0633\\u0639\\u0648\\u062f\\u064a\\u064a\\u0646', u'promoted_content': None}], u'as_of': u'2016-04-06T02:22:46Z', u'locations': [{u'woeid': 1, u'name': u'Worldwide'}]}]\n",
      "\n",
      "[{u'created_at': u'2016-04-06T02:21:01Z', u'trends': [{u'url': u'http://twitter.com/search?q=%23BBB16', u'query': u'%23BBB16', u'tweet_volume': 503698, u'name': u'#BBB16', u'promoted_content': None}, {u'url': u'http://twitter.com/search?q=%23TagueirosSempreSdv', u'query': u'%23TagueirosSempreSdv', u'tweet_volume': 16167, u'name': u'#TagueirosSempreSdv', u'promoted_content': None}, {u'url': u'http://twitter.com/search?q=%23ShadowhuntersFinale', u'query': u'%23ShadowhuntersFinale', u'tweet_volume': 25605, u'name': u'#ShadowhuntersFinale', u'promoted_content': None}, {u'url': u'http://twitter.com/search?q=Trujillanos', u'query': u'Trujillanos', u'tweet_volume': 12939, u'name': u'Trujillanos', u'promoted_content': None}, {u'url': u'http://twitter.com/search?q=%22WE+RESPECT+MALIA%22', u'query': u'%22WE+RESPECT+MALIA%22', u'tweet_volume': 10491, u'name': u'WE RESPECT MALIA', u'promoted_content': None}, {u'url': u'http://twitter.com/search?q=Ganso', u'query': u'Ganso', u'tweet_volume': None, u'name': u'Ganso', u'promoted_content': None}, {u'url': u'http://twitter.com/search?q=%23askalan', u'query': u'%23askalan', u'tweet_volume': 14052, u'name': u'#askalan', u'promoted_content': None}, {u'url': u'http://twitter.com/search?q=%23AdotadaMTV', u'query': u'%23AdotadaMTV', u'tweet_volume': None, u'name': u'#AdotadaMTV', u'promoted_content': None}, {u'url': u'http://twitter.com/search?q=Toluca', u'query': u'Toluca', u'tweet_volume': 11539, u'name': u'Toluca', u'promoted_content': None}, {u'url': u'http://twitter.com/search?q=JoanaDoAfronte', u'query': u'JoanaDoAfronte', u'tweet_volume': 14275, u'name': u'JoanaDoAfronte', u'promoted_content': None}, {u'url': u'http://twitter.com/search?q=Coruripe', u'query': u'Coruripe', u'tweet_volume': None, u'name': u'Coruripe', u'promoted_content': None}, {u'url': u'http://twitter.com/search?q=%22CASALZINHO+QUE+N%C3%83O+SE+ASSUME%22', u'query': u'%22CASALZINHO+QUE+N%C3%83O+SE+ASSUME%22', u'tweet_volume': None, u'name': u'CASALZINHO QUE N\\xc3O SE ASSUME', u'promoted_content': None}, {u'url': u'http://twitter.com/search?q=Tempestade', u'query': u'Tempestade', u'tweet_volume': None, u'name': u'Tempestade', u'promoted_content': None}, {u'url': u'http://twitter.com/search?q=%22Carol+Castro%22', u'query': u'%22Carol+Castro%22', u'tweet_volume': None, u'name': u'Carol Castro', u'promoted_content': None}, {u'url': u'http://twitter.com/search?q=%23lovesick10days', u'query': u'%23lovesick10days', u'tweet_volume': 43508, u'name': u'#lovesick10days', u'promoted_content': None}, {u'url': u'http://twitter.com/search?q=%23ClipeAmanhecerPaulaFernandes', u'query': u'%23ClipeAmanhecerPaulaFernandes', u'tweet_volume': None, u'name': u'#ClipeAmanhecerPaulaFernandes', u'promoted_content': None}, {u'url': u'http://twitter.com/search?q=%2340GrausDeAmor', u'query': u'%2340GrausDeAmor', u'tweet_volume': None, u'name': u'#40GrausDeAmor', u'promoted_content': None}, {u'url': u'http://twitter.com/search?q=%23SDSFantasy', u'query': u'%23SDSFantasy', u'tweet_volume': None, u'name': u'#SDSFantasy', u'promoted_content': None}, {u'url': u'http://twitter.com/search?q=%23SouFatal', u'query': u'%23SouFatal', u'tweet_volume': None, u'name': u'#SouFatal', u'promoted_content': None}], u'as_of': u'2016-04-06T02:22:46Z', u'locations': [{u'woeid': 23424768, u'name': u'Brazil'}]}]\n"
     ]
    }
   ],
   "source": [
    "WORLD_WOE_ID = 1\n",
    "BR_WOE_ID = 23424768\n",
    "\n",
    "world_trends = twitter_api.trends.place(_id=WORLD_WOE_ID)\n",
    "br_trends = twitter_api.trends.place(_id=BR_WOE_ID)\n",
    "\n",
    "print world_trends\n",
    "print\n",
    "print br_trends"
   ]
  },
  {
   "cell_type": "code",
   "execution_count": 4,
   "metadata": {
    "collapsed": false
   },
   "outputs": [
    {
     "name": "stdout",
     "output_type": "stream",
     "text": [
      "[\n",
      " {\n",
      "  \"created_at\": \"2016-04-06T02:21:01Z\", \n",
      "  \"trends\": [\n",
      "   {\n",
      "    \"url\": \"http://twitter.com/search?q=%23BBB16\", \n",
      "    \"query\": \"%23BBB16\", \n",
      "    \"tweet_volume\": 503698, \n",
      "    \"name\": \"#BBB16\", \n",
      "    \"promoted_content\": null\n",
      "   }, \n",
      "   {\n",
      "    \"url\": \"http://twitter.com/search?q=%23TagueirosSempreSdv\", \n",
      "    \"query\": \"%23TagueirosSempreSdv\", \n",
      "    \"tweet_volume\": 16167, \n",
      "    \"name\": \"#TagueirosSempreSdv\", \n",
      "    \"promoted_content\": null\n",
      "   }, \n",
      "   {\n",
      "    \"url\": \"http://twitter.com/search?q=%23ShadowhuntersFinale\", \n",
      "    \"query\": \"%23ShadowhuntersFinale\", \n",
      "    \"tweet_volume\": 25605, \n",
      "    \"name\": \"#ShadowhuntersFinale\", \n",
      "    \"promoted_content\": null\n",
      "   }, \n",
      "   {\n",
      "    \"url\": \"http://twitter.com/search?q=Trujillanos\", \n",
      "    \"query\": \"Trujillanos\", \n",
      "    \"tweet_volume\": 12939, \n",
      "    \"name\": \"Trujillanos\", \n",
      "    \"promoted_content\": null\n",
      "   }, \n",
      "   {\n",
      "    \"url\": \"http://twitter.com/search?q=%22WE+RESPECT+MALIA%22\", \n",
      "    \"query\": \"%22WE+RESPECT+MALIA%22\", \n",
      "    \"tweet_volume\": 10491, \n",
      "    \"name\": \"WE RESPECT MALIA\", \n",
      "    \"promoted_content\": null\n",
      "   }, \n",
      "   {\n",
      "    \"url\": \"http://twitter.com/search?q=Ganso\", \n",
      "    \"query\": \"Ganso\", \n",
      "    \"tweet_volume\": null, \n",
      "    \"name\": \"Ganso\", \n",
      "    \"promoted_content\": null\n",
      "   }, \n",
      "   {\n",
      "    \"url\": \"http://twitter.com/search?q=%23askalan\", \n",
      "    \"query\": \"%23askalan\", \n",
      "    \"tweet_volume\": 14052, \n",
      "    \"name\": \"#askalan\", \n",
      "    \"promoted_content\": null\n",
      "   }, \n",
      "   {\n",
      "    \"url\": \"http://twitter.com/search?q=%23AdotadaMTV\", \n",
      "    \"query\": \"%23AdotadaMTV\", \n",
      "    \"tweet_volume\": null, \n",
      "    \"name\": \"#AdotadaMTV\", \n",
      "    \"promoted_content\": null\n",
      "   }, \n",
      "   {\n",
      "    \"url\": \"http://twitter.com/search?q=Toluca\", \n",
      "    \"query\": \"Toluca\", \n",
      "    \"tweet_volume\": 11539, \n",
      "    \"name\": \"Toluca\", \n",
      "    \"promoted_content\": null\n",
      "   }, \n",
      "   {\n",
      "    \"url\": \"http://twitter.com/search?q=JoanaDoAfronte\", \n",
      "    \"query\": \"JoanaDoAfronte\", \n",
      "    \"tweet_volume\": 14275, \n",
      "    \"name\": \"JoanaDoAfronte\", \n",
      "    \"promoted_content\": null\n",
      "   }, \n",
      "   {\n",
      "    \"url\": \"http://twitter.com/search?q=Coruripe\", \n",
      "    \"query\": \"Coruripe\", \n",
      "    \"tweet_volume\": null, \n",
      "    \"name\": \"Coruripe\", \n",
      "    \"promoted_content\": null\n",
      "   }, \n",
      "   {\n",
      "    \"url\": \"http://twitter.com/search?q=%22CASALZINHO+QUE+N%C3%83O+SE+ASSUME%22\", \n",
      "    \"query\": \"%22CASALZINHO+QUE+N%C3%83O+SE+ASSUME%22\", \n",
      "    \"tweet_volume\": null, \n",
      "    \"name\": \"CASALZINHO QUE N\\u00c3O SE ASSUME\", \n",
      "    \"promoted_content\": null\n",
      "   }, \n",
      "   {\n",
      "    \"url\": \"http://twitter.com/search?q=Tempestade\", \n",
      "    \"query\": \"Tempestade\", \n",
      "    \"tweet_volume\": null, \n",
      "    \"name\": \"Tempestade\", \n",
      "    \"promoted_content\": null\n",
      "   }, \n",
      "   {\n",
      "    \"url\": \"http://twitter.com/search?q=%22Carol+Castro%22\", \n",
      "    \"query\": \"%22Carol+Castro%22\", \n",
      "    \"tweet_volume\": null, \n",
      "    \"name\": \"Carol Castro\", \n",
      "    \"promoted_content\": null\n",
      "   }, \n",
      "   {\n",
      "    \"url\": \"http://twitter.com/search?q=%23lovesick10days\", \n",
      "    \"query\": \"%23lovesick10days\", \n",
      "    \"tweet_volume\": 43508, \n",
      "    \"name\": \"#lovesick10days\", \n",
      "    \"promoted_content\": null\n",
      "   }, \n",
      "   {\n",
      "    \"url\": \"http://twitter.com/search?q=%23ClipeAmanhecerPaulaFernandes\", \n",
      "    \"query\": \"%23ClipeAmanhecerPaulaFernandes\", \n",
      "    \"tweet_volume\": null, \n",
      "    \"name\": \"#ClipeAmanhecerPaulaFernandes\", \n",
      "    \"promoted_content\": null\n",
      "   }, \n",
      "   {\n",
      "    \"url\": \"http://twitter.com/search?q=%2340GrausDeAmor\", \n",
      "    \"query\": \"%2340GrausDeAmor\", \n",
      "    \"tweet_volume\": null, \n",
      "    \"name\": \"#40GrausDeAmor\", \n",
      "    \"promoted_content\": null\n",
      "   }, \n",
      "   {\n",
      "    \"url\": \"http://twitter.com/search?q=%23SDSFantasy\", \n",
      "    \"query\": \"%23SDSFantasy\", \n",
      "    \"tweet_volume\": null, \n",
      "    \"name\": \"#SDSFantasy\", \n",
      "    \"promoted_content\": null\n",
      "   }, \n",
      "   {\n",
      "    \"url\": \"http://twitter.com/search?q=%23SouFatal\", \n",
      "    \"query\": \"%23SouFatal\", \n",
      "    \"tweet_volume\": null, \n",
      "    \"name\": \"#SouFatal\", \n",
      "    \"promoted_content\": null\n",
      "   }\n",
      "  ], \n",
      "  \"as_of\": \"2016-04-06T02:22:46Z\", \n",
      "  \"locations\": [\n",
      "   {\n",
      "    \"woeid\": 23424768, \n",
      "    \"name\": \"Brazil\"\n",
      "   }\n",
      "  ]\n",
      " }\n",
      "]\n"
     ]
    }
   ],
   "source": [
    "import json\n",
    "\n",
    "print json.dumps(br_trends, indent=1)"
   ]
  },
  {
   "cell_type": "code",
   "execution_count": null,
   "metadata": {
    "collapsed": true
   },
   "outputs": [],
   "source": []
  }
 ],
 "metadata": {
  "kernelspec": {
   "display_name": "Python 2",
   "language": "python",
   "name": "python2"
  },
  "language_info": {
   "codemirror_mode": {
    "name": "ipython",
    "version": 2
   },
   "file_extension": ".py",
   "mimetype": "text/x-python",
   "name": "python",
   "nbconvert_exporter": "python",
   "pygments_lexer": "ipython2",
   "version": "2.7.11"
  }
 },
 "nbformat": 4,
 "nbformat_minor": 0
}
