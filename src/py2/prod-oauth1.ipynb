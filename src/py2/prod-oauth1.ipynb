{
 "cells": [
  {
   "cell_type": "code",
   "execution_count": null,
   "metadata": {
    "collapsed": false
   },
   "outputs": [],
   "source": [
    "from rauth.service import OAuth1Service\n",
    "\n",
    "linkedin = OAuth1Service(\n",
    "    consumer_key='77yy744nq5ogpd',\n",
    "    consumer_secret='mHIGRRFUtMs5sRO3',\n",
    "    name='linkedin',\n",
    "    request_token_url='https://api.linkedin.com/uas/oauth/requestToken',\n",
    "    authorize_url='https://api.linkedin.com/uas/oauth/authorize',\n",
    "    access_token_url='https://api.linkedin.com/uas/oauth/accessToken',\n",
    "    base_url='http://api.linkedin.com/v1/')\n",
    "\n",
    "request_token, request_token_secret = linkedin.get_request_token()\n",
    "\n",
    "authorize_url = linkedin.get_authorize_url(request_token)\n",
    "\n",
    "print 'Acesse a URL para adquirir o PIN: ' + authorize_url\n",
    "pin = raw_input('Digite o PIN: ')\n",
    "\n",
    "session = linkedin.get_auth_session(request_token,\n",
    "                                    request_token_secret,\n",
    "                                    data={'oauth_verifier': pin},\n",
    "                                    header_auth=True)"
   ]
  },
  {
   "cell_type": "code",
   "execution_count": null,
   "metadata": {
    "collapsed": false
   },
   "outputs": [],
   "source": [
    "r = session.get('people/~/num-connections',\n",
    "                params={'type': 'SHAR', 'format': 'json'},\n",
    "                header_auth=True)\n",
    "\n",
    "updates = r.json()\n",
    "\n",
    "print updates"
   ]
  }
 ],
 "metadata": {
  "kernelspec": {
   "display_name": "Python 2",
   "language": "python",
   "name": "python2"
  },
  "language_info": {
   "codemirror_mode": {
    "name": "ipython",
    "version": 2
   },
   "file_extension": ".py",
   "mimetype": "text/x-python",
   "name": "python",
   "nbconvert_exporter": "python",
   "pygments_lexer": "ipython2",
   "version": "2.7.11"
  }
 },
 "nbformat": 4,
 "nbformat_minor": 0
}
