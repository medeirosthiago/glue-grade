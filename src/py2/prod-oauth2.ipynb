{
 "cells": [
  {
   "cell_type": "code",
   "execution_count": 4,
   "metadata": {
    "collapsed": false
   },
   "outputs": [
    {
     "name": "stdout",
     "output_type": "stream",
     "text": [
      "Acessar url: https://www.linkedin.com/uas/oauth2/authorization?scope=r_basicprofile&state=12345678&redirect_uri=http%3A%2F%2Flocalhost%3A8000%2Fauth%2Flinkedin%2Fcallback&response_type=code&client_id=77yy744nq5ogpd\n",
      "Digitar o código do navegador: AQSWaHHukxODJpc8GXElkPz1AHhfi-N-wC6lgCmU7oTSK_ylUZNe-_3LYUk6oHZ0_ijGQFNLxd0sO-4RUgurf9nkcyrtY6jBE0KVdtrayWl1-pUEzz8&state=12345678\n"
     ]
    },
    {
     "ename": "KeyError",
     "evalue": "'Decoder failed to handle access_token with data as returned by provider. A different decoder may be needed. Provider returned: {\"error_description\":\"missing required parameters, includes an invalid parameter value, parameter more than once. : grant_type\",\"error\":\"invalid_request\"}'",
     "output_type": "error",
     "traceback": [
      "\u001b[0;31m---------------------------------------------------------------------------\u001b[0m",
      "\u001b[0;31mKeyError\u001b[0m                                  Traceback (most recent call last)",
      "\u001b[0;32m<ipython-input-4-372a33dbced0>\u001b[0m in \u001b[0;36m<module>\u001b[0;34m()\u001b[0m\n\u001b[1;32m     23\u001b[0m \u001b[0;34m\u001b[0m\u001b[0m\n\u001b[1;32m     24\u001b[0m session = linkedin.get_auth_session(data={'code': code,\n\u001b[0;32m---> 25\u001b[0;31m                                            'redirect_uri': redirect_uri})\n\u001b[0m",
      "\u001b[0;32m/Users/thiago/Envs/tcc-py2/lib/python2.7/site-packages/rauth/service.pyc\u001b[0m in \u001b[0;36mget_auth_session\u001b[0;34m(self, method, **kwargs)\u001b[0m\n\u001b[1;32m    554\u001b[0m         \u001b[0;34m:\u001b[0m\u001b[0mtype\u001b[0m\u001b[0;31m \u001b[0m\u001b[0;31m\\\u001b[0m\u001b[0;34m*\u001b[0m\u001b[0;31m\\\u001b[0m\u001b[0;34m*\u001b[0m\u001b[0mkwargs\u001b[0m\u001b[0;34m:\u001b[0m \u001b[0mdict\u001b[0m\u001b[0;34m\u001b[0m\u001b[0m\n\u001b[1;32m    555\u001b[0m         '''\n\u001b[0;32m--> 556\u001b[0;31m         \u001b[0msession\u001b[0m \u001b[0;34m=\u001b[0m \u001b[0mself\u001b[0m\u001b[0;34m.\u001b[0m\u001b[0mget_session\u001b[0m\u001b[0;34m(\u001b[0m\u001b[0mself\u001b[0m\u001b[0;34m.\u001b[0m\u001b[0mget_access_token\u001b[0m\u001b[0;34m(\u001b[0m\u001b[0mmethod\u001b[0m\u001b[0;34m,\u001b[0m \u001b[0;34m**\u001b[0m\u001b[0mkwargs\u001b[0m\u001b[0;34m)\u001b[0m\u001b[0;34m)\u001b[0m\u001b[0;34m\u001b[0m\u001b[0m\n\u001b[0m\u001b[1;32m    557\u001b[0m \u001b[0;34m\u001b[0m\u001b[0m\n\u001b[1;32m    558\u001b[0m         \u001b[0;32mif\u001b[0m \u001b[0mself\u001b[0m\u001b[0;34m.\u001b[0m\u001b[0maccess_token_response\u001b[0m\u001b[0;34m:\u001b[0m\u001b[0;34m\u001b[0m\u001b[0m\n",
      "\u001b[0;32m/Users/thiago/Envs/tcc-py2/lib/python2.7/site-packages/rauth/service.pyc\u001b[0m in \u001b[0;36mget_access_token\u001b[0;34m(self, method, decoder, key, **kwargs)\u001b[0m\n\u001b[1;32m    540\u001b[0m         '''\n\u001b[1;32m    541\u001b[0m         \u001b[0mr\u001b[0m \u001b[0;34m=\u001b[0m \u001b[0mself\u001b[0m\u001b[0;34m.\u001b[0m\u001b[0mget_raw_access_token\u001b[0m\u001b[0;34m(\u001b[0m\u001b[0mmethod\u001b[0m\u001b[0;34m,\u001b[0m \u001b[0;34m**\u001b[0m\u001b[0mkwargs\u001b[0m\u001b[0;34m)\u001b[0m\u001b[0;34m\u001b[0m\u001b[0m\n\u001b[0;32m--> 542\u001b[0;31m         \u001b[0maccess_token\u001b[0m\u001b[0;34m,\u001b[0m \u001b[0;34m=\u001b[0m \u001b[0mprocess_token_request\u001b[0m\u001b[0;34m(\u001b[0m\u001b[0mr\u001b[0m\u001b[0;34m,\u001b[0m \u001b[0mdecoder\u001b[0m\u001b[0;34m,\u001b[0m \u001b[0mkey\u001b[0m\u001b[0;34m)\u001b[0m\u001b[0;34m\u001b[0m\u001b[0m\n\u001b[0m\u001b[1;32m    543\u001b[0m         \u001b[0;32mreturn\u001b[0m \u001b[0maccess_token\u001b[0m\u001b[0;34m\u001b[0m\u001b[0m\n\u001b[1;32m    544\u001b[0m \u001b[0;34m\u001b[0m\u001b[0m\n",
      "\u001b[0;32m/Users/thiago/Envs/tcc-py2/lib/python2.7/site-packages/rauth/service.pyc\u001b[0m in \u001b[0;36mprocess_token_request\u001b[0;34m(r, decoder, *args)\u001b[0m\n\u001b[1;32m     22\u001b[0m     \u001b[0;32mexcept\u001b[0m \u001b[0mKeyError\u001b[0m \u001b[0;32mas\u001b[0m \u001b[0me\u001b[0m\u001b[0;34m:\u001b[0m  \u001b[0;31m# pragma: no cover\u001b[0m\u001b[0;34m\u001b[0m\u001b[0m\n\u001b[1;32m     23\u001b[0m         \u001b[0mbad_key\u001b[0m \u001b[0;34m=\u001b[0m \u001b[0me\u001b[0m\u001b[0;34m.\u001b[0m\u001b[0margs\u001b[0m\u001b[0;34m[\u001b[0m\u001b[0;36m0\u001b[0m\u001b[0;34m]\u001b[0m\u001b[0;34m\u001b[0m\u001b[0m\n\u001b[0;32m---> 24\u001b[0;31m         \u001b[0;32mraise\u001b[0m \u001b[0mKeyError\u001b[0m\u001b[0;34m(\u001b[0m\u001b[0mPROCESS_TOKEN_ERROR\u001b[0m\u001b[0;34m.\u001b[0m\u001b[0mformat\u001b[0m\u001b[0;34m(\u001b[0m\u001b[0mkey\u001b[0m\u001b[0;34m=\u001b[0m\u001b[0mbad_key\u001b[0m\u001b[0;34m,\u001b[0m \u001b[0mraw\u001b[0m\u001b[0;34m=\u001b[0m\u001b[0mr\u001b[0m\u001b[0;34m.\u001b[0m\u001b[0mcontent\u001b[0m\u001b[0;34m)\u001b[0m\u001b[0;34m)\u001b[0m\u001b[0;34m\u001b[0m\u001b[0m\n\u001b[0m\u001b[1;32m     25\u001b[0m \u001b[0;34m\u001b[0m\u001b[0m\n\u001b[1;32m     26\u001b[0m \u001b[0;34m\u001b[0m\u001b[0m\n",
      "\u001b[0;31mKeyError\u001b[0m: 'Decoder failed to handle access_token with data as returned by provider. A different decoder may be needed. Provider returned: {\"error_description\":\"missing required parameters, includes an invalid parameter value, parameter more than once. : grant_type\",\"error\":\"invalid_request\"}'"
     ]
    }
   ],
   "source": [
    "import random, json\n",
    "from rauth import OAuth2Service\n",
    "\n",
    "linkedin = OAuth2Service(\n",
    "    client_id='77yy744nq5ogpd',\n",
    "    client_secret='mHIGRRFUtMs5sRO3',\n",
    "    name='linkedin',\n",
    "    authorize_url='https://www.linkedin.com/uas/oauth2/authorization',\n",
    "    access_token_url='https://www.linkedin.com/uas/oauth2/accessToken',\n",
    "    base_url='https://api.linkedin.com/v1/')\n",
    "\n",
    "redirect_uri = 'http://localhost:8000/auth/linkedin/callback'\n",
    "\n",
    "params = {'scope': 'r_basicprofile',\n",
    "          'state': '12345678',\n",
    "          'response_type': 'code',\n",
    "          'redirect_uri': redirect_uri}\n",
    "\n",
    "authorize_url = linkedin.get_authorize_url(**params)\n",
    "\n",
    "print 'Acessar url: ' + authorize_url\n",
    "code = raw_input('Digitar o código do navegador: ')\n",
    "\n",
    "session = linkedin.get_auth_session(data={'code': code,\n",
    "                                           'redirect_uri':e redirect_uri})"
   ]
  },
  {
   "cell_type": "code",
   "execution_count": null,
   "metadata": {
    "collapsed": true
   },
   "outputs": [],
   "source": [
    "r = session.get('people/~/',\n",
    "                params={'type': 'SHAR', 'format': 'json'},\n",
    "                header_auth=True)\n",
    "\n",
    "updates = r.json()\n",
    "\n",
    "print updates"
   ]
  }
 ],
 "metadata": {
  "kernelspec": {
   "display_name": "Python 2",
   "language": "python",
   "name": "python2"
  },
  "language_info": {
   "codemirror_mode": {
    "name": "ipython",
    "version": 2
   },
   "file_extension": ".py",
   "mimetype": "text/x-python",
   "name": "python",
   "nbconvert_exporter": "python",
   "pygments_lexer": "ipython2",
   "version": "2.7.11"
  }
 },
 "nbformat": 4,
 "nbformat_minor": 0
}
