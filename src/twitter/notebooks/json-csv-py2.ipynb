{
 "cells": [
  {
   "cell_type": "code",
   "execution_count": 6,
   "metadata": {
    "collapsed": false
   },
   "outputs": [
    {
     "ename": "NameError",
     "evalue": "name 'tweets' is not defined",
     "output_type": "error",
     "traceback": [
      "\u001b[0;31m---------------------------------------------------------------------------\u001b[0m",
      "\u001b[0;31mNameError\u001b[0m                                 Traceback (most recent call last)",
      "\u001b[0;32m<ipython-input-6-d77e1840da81>\u001b[0m in \u001b[0;36m<module>\u001b[0;34m()\u001b[0m\n\u001b[1;32m      7\u001b[0m \u001b[0;34m\u001b[0m\u001b[0m\n\u001b[1;32m      8\u001b[0m \u001b[0;34m\u001b[0m\u001b[0m\n\u001b[0;32m----> 9\u001b[0;31m \u001b[0mids\u001b[0m \u001b[0;34m=\u001b[0m \u001b[0;34m[\u001b[0m\u001b[0mtweet\u001b[0m\u001b[0;34m[\u001b[0m\u001b[0;34m'id_str'\u001b[0m\u001b[0;34m]\u001b[0m \u001b[0;32mfor\u001b[0m \u001b[0mtweet\u001b[0m \u001b[0;32min\u001b[0m \u001b[0mtweets\u001b[0m\u001b[0;34m]\u001b[0m\u001b[0;34m\u001b[0m\u001b[0m\n\u001b[0m\u001b[1;32m     10\u001b[0m \u001b[0mtimes\u001b[0m \u001b[0;34m=\u001b[0m \u001b[0;34m[\u001b[0m\u001b[0mtweet\u001b[0m\u001b[0;34m[\u001b[0m\u001b[0;34m'created_at'\u001b[0m\u001b[0;34m]\u001b[0m \u001b[0;32mfor\u001b[0m \u001b[0mtweet\u001b[0m \u001b[0;32min\u001b[0m \u001b[0mtweets\u001b[0m\u001b[0;34m]\u001b[0m\u001b[0;34m\u001b[0m\u001b[0m\n\u001b[1;32m     11\u001b[0m \u001b[0;32mprint\u001b[0m \u001b[0;34m'OK! 2'\u001b[0m\u001b[0;34m\u001b[0m\u001b[0m\n",
      "\u001b[0;31mNameError\u001b[0m: name 'tweets' is not defined"
     ]
    }
   ],
   "source": [
    "#import module\n",
    "import json\n",
    "from csv import writer\n",
    "\n",
    "with open('data-docker/test2.json') as data_file:    \n",
    "    data = json.load(data_file)\n",
    "\n",
    "\n",
    "ids = [tweet['id_str'] for tweet in tweets]\n",
    "times = [tweet['created_at'] for tweet in tweets]\n",
    "print 'OK! 2'\n",
    "\n",
    "# #variables\n",
    "# ids = [tweet['id_str'] for tweet in tweets]\n",
    "# times = [tweet['created_at'] for tweet in tweets]\n",
    "# users = [tweet['user']['name'] for tweet in tweets]\n",
    "# texts = [tweet['text'] for tweet in tweets]\n",
    "# print 'OK! 3'\n",
    "# lats = [(T['geo']['coordinates'][0] if T['geo'] else None) for T in tweets]\n",
    "# lons = [(T['geo']['coordinates'][1] if T['geo'] else None) for T in tweets]\n",
    "# print 'OK! 4'\n",
    "# place_names = [(T['place']['full_name'] if T['place'] else None) for T in tweets]\n",
    "# place_types = [(T['place']['place_type'] if T['place'] else None) for T in tweets]\n",
    "# print 'OK! 5'\n",
    "\n",
    "# #output file\n",
    "# out = open('tweets_file.csv', 'w')\n",
    "# print >> out, 'id,created,text,user,lat,lon,place name,place type'\n",
    "# rows = zip(ids, times, texts, users, lats, lons, place_names, place_types)\n",
    "# csv = writer(out)\n",
    "# print 'OK! 6'\n",
    "# for row in rows:\n",
    "#     values = [(value.encode('utf8') if hasattr(value, 'encode') else value) for value in row]\n",
    "#     csv.writerow(values)\n",
    "# out.close()"
   ]
  },
  {
   "cell_type": "code",
   "execution_count": null,
   "metadata": {
    "collapsed": true
   },
   "outputs": [],
   "source": []
  }
 ],
 "metadata": {
  "kernelspec": {
   "display_name": "Python 2",
   "language": "python",
   "name": "python2"
  },
  "language_info": {
   "codemirror_mode": {
    "name": "ipython",
    "version": 2
   },
   "file_extension": ".py",
   "mimetype": "text/x-python",
   "name": "python",
   "nbconvert_exporter": "python",
   "pygments_lexer": "ipython2",
   "version": "2.7.11"
  }
 },
 "nbformat": 4,
 "nbformat_minor": 0
}
