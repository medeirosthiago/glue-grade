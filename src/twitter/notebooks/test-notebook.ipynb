{
 "cells": [
  {
   "cell_type": "code",
   "execution_count": 2,
   "metadata": {
    "collapsed": false
   },
   "outputs": [
    {
     "name": "stdout",
     "output_type": "stream",
     "text": [
      "[nltk_data] Downloading package punkt to /Users/thiago/nltk_data...\n",
      "[nltk_data]   Package punkt is already up-to-date!\n",
      "[nltk_data] Downloading package mac_morpho to\n",
      "[nltk_data]     /Users/thiago/nltk_data...\n",
      "[nltk_data]   Package mac_morpho is already up-to-date!\n",
      "[nltk_data] Downloading package stopwords to\n",
      "[nltk_data]     /Users/thiago/nltk_data...\n",
      "[nltk_data]   Package stopwords is already up-to-date!\n"
     ]
    },
    {
     "data": {
      "text/plain": [
       "True"
      ]
     },
     "execution_count": 2,
     "metadata": {},
     "output_type": "execute_result"
    }
   ],
   "source": [
    "%matplotlib inline\n",
    "\n",
    "import folium\n",
    "import json\n",
    "import matplotlib as mpl\n",
    "import matplotlib.pyplot as plt\n",
    "import nltk\n",
    "import numpy as np\n",
    "import operator \n",
    "import os\n",
    "import pandas as pd\n",
    "import plotly.plotly as py\n",
    "import pytz\n",
    "import random\n",
    "import re\n",
    "import seaborn as sns\n",
    "import string\n",
    "import sys\n",
    "import time\n",
    "import vincent\n",
    "\n",
    "from collections import Counter\n",
    "from collections import defaultdict\n",
    "from datetime import datetime\n",
    "from matplotlib import dates\n",
    "from matplotlib import rcParams\n",
    "from matplotlib.ticker import MaxNLocator\n",
    "from mpltools import style\n",
    "from nltk import FreqDist\n",
    "from nltk import bigrams \n",
    "from nltk.tokenize import word_tokenize\n",
    "from nltk.corpus import stopwords\n",
    "from os import path\n",
    "from pandas.tseries.resample import TimeGrouper\n",
    "from pandas.tseries.offsets import DateOffset\n",
    "from scipy.misc import imread\n",
    "from textblob import TextBlob\n",
    "from wordcloud import WordCloud, STOPWORDS, ImageColorGenerator\n",
    "\n",
    "nltk.download('punkt')\n",
    "nltk.download('mac_morpho')\n",
    "nltk.download('stopwords')"
   ]
  },
  {
   "cell_type": "code",
   "execution_count": 3,
   "metadata": {
    "collapsed": false
   },
   "outputs": [
    {
     "name": "stdout",
     "output_type": "stream",
     "text": [
      "OK!\n"
     ]
    }
   ],
   "source": [
    "sns.set_palette(\"deep\", desat=.6)\n",
    "sns.set_context(rc={\"figure.figsize\": (8, 4)})\n",
    "style.use('ggplot')\n",
    "rcParams['axes.labelsize'] = 9\n",
    "rcParams['xtick.labelsize'] = 9\n",
    "rcParams['ytick.labelsize'] = 9\n",
    "rcParams['legend.fontsize'] = 7\n",
    "# rcParams['font.serif'] = ['Computer Modern Roman']\n",
    "rcParams['font.serif'] = ['Ubuntu']\n",
    "rcParams['text.usetex'] = False\n",
    "rcParams['figure.figsize'] = 20, 10\n",
    "\n",
    "# pd.set_option('display.max_colwidth', 200)\n",
    "# pd.options.display.mpl_style = 'default'\n",
    "# matplotlib.style.use('ggplot')\n",
    "# sns.set_context('talk')\n",
    "# sns.set_style('whitegrid')\n",
    "\n",
    "print 'OK!'"
   ]
  },
  {
   "cell_type": "markdown",
   "metadata": {},
   "source": [
    "* * *\n",
    "\n",
    "### Testando *folium* e *data frames*"
   ]
  },
  {
   "cell_type": "code",
   "execution_count": 4,
   "metadata": {
    "collapsed": false
   },
   "outputs": [
    {
     "name": "stdout",
     "output_type": "stream",
     "text": [
      "OK!\n"
     ]
    }
   ],
   "source": [
    "tweets = pd.read_json(\"data/small-data-fixed.json\")\n",
    "print 'OK!'"
   ]
  },
  {
   "cell_type": "code",
   "execution_count": 5,
   "metadata": {
    "collapsed": false
   },
   "outputs": [
    {
     "data": {
      "text/plain": [
       "pandas.core.frame.DataFrame"
      ]
     },
     "execution_count": 5,
     "metadata": {},
     "output_type": "execute_result"
    }
   ],
   "source": [
    "type(tweets)"
   ]
  },
  {
   "cell_type": "code",
   "execution_count": 6,
   "metadata": {
    "collapsed": false
   },
   "outputs": [
    {
     "name": "stdout",
     "output_type": "stream",
     "text": [
      "<class 'pandas.core.frame.DataFrame'>\n",
      "Int64Index: 358293 entries, 0 to 358292\n",
      "Data columns (total 31 columns):\n",
      "contributors                 0 non-null float64\n",
      "coordinates                  470 non-null object\n",
      "created_at                   358293 non-null datetime64[ns]\n",
      "entities                     358293 non-null object\n",
      "extended_entities            164504 non-null object\n",
      "favorite_count               358293 non-null int64\n",
      "favorited                    358293 non-null bool\n",
      "filter_level                 358293 non-null object\n",
      "geo                          470 non-null object\n",
      "id                           358293 non-null int64\n",
      "id_str                       358293 non-null int64\n",
      "in_reply_to_screen_name      4820 non-null object\n",
      "in_reply_to_status_id        3303 non-null float64\n",
      "in_reply_to_status_id_str    3303 non-null float64\n",
      "in_reply_to_user_id          4820 non-null float64\n",
      "in_reply_to_user_id_str      4820 non-null float64\n",
      "is_quote_status              358293 non-null bool\n",
      "lang                         358293 non-null object\n",
      "place                        7803 non-null object\n",
      "possibly_sensitive           197101 non-null float64\n",
      "quoted_status                18300 non-null object\n",
      "quoted_status_id             18300 non-null float64\n",
      "quoted_status_id_str         18300 non-null float64\n",
      "retweet_count                358293 non-null int64\n",
      "retweeted                    358293 non-null bool\n",
      "retweeted_status             258109 non-null object\n",
      "source                       358293 non-null object\n",
      "text                         358293 non-null object\n",
      "timestamp_ms                 358293 non-null datetime64[ns]\n",
      "truncated                    358293 non-null bool\n",
      "user                         358293 non-null object\n",
      "dtypes: bool(4), datetime64[ns](2), float64(8), int64(4), object(13)\n",
      "memory usage: 77.9+ MB\n"
     ]
    }
   ],
   "source": [
    "tweets.info()"
   ]
  },
  {
   "cell_type": "code",
   "execution_count": 55,
   "metadata": {
    "collapsed": false
   },
   "outputs": [
    {
     "name": "stdout",
     "output_type": "stream",
     "text": [
      "[-19.83755667, -43.98846667]\n"
     ]
    }
   ],
   "source": [
    "list_coordinate = []\n",
    "for col in tweets['coordinates'][~tweets['coordinates'].isnull()]:\n",
    "    coord = col['coordinates'][::-1]\n",
    "    list_coordinate.append(coord)\n",
    "    \n",
    "len(list_coordinate)\n",
    "print list_coordinate[0]"
   ]
  },
  {
   "cell_type": "code",
   "execution_count": 69,
   "metadata": {
    "collapsed": false
   },
   "outputs": [
    {
     "ename": "TypeError",
     "evalue": "string indices must be integers",
     "output_type": "error",
     "traceback": [
      "\u001b[0;31m---------------------------------------------------------------------------\u001b[0m",
      "\u001b[0;31mTypeError\u001b[0m                                 Traceback (most recent call last)",
      "\u001b[0;32m<ipython-input-69-9d7b58656e34>\u001b[0m in \u001b[0;36m<module>\u001b[0;34m()\u001b[0m\n\u001b[1;32m      1\u001b[0m \u001b[0mlist_coord_text\u001b[0m \u001b[0;34m=\u001b[0m \u001b[0;34m[\u001b[0m\u001b[0;34m]\u001b[0m\u001b[0;34m\u001b[0m\u001b[0m\n\u001b[1;32m      2\u001b[0m \u001b[0;32mfor\u001b[0m \u001b[0mcol\u001b[0m \u001b[0;32min\u001b[0m \u001b[0mtweets\u001b[0m\u001b[0;34m[\u001b[0m\u001b[0;34m[\u001b[0m\u001b[0;34m'coordinates'\u001b[0m\u001b[0;34m,\u001b[0m\u001b[0;34m'text'\u001b[0m\u001b[0;34m]\u001b[0m\u001b[0;34m]\u001b[0m\u001b[0;34m[\u001b[0m\u001b[0;34m~\u001b[0m\u001b[0mtweets\u001b[0m\u001b[0;34m[\u001b[0m\u001b[0;34m'coordinates'\u001b[0m\u001b[0;34m]\u001b[0m\u001b[0;34m.\u001b[0m\u001b[0misnull\u001b[0m\u001b[0;34m(\u001b[0m\u001b[0;34m)\u001b[0m\u001b[0;34m]\u001b[0m\u001b[0;34m:\u001b[0m\u001b[0;34m\u001b[0m\u001b[0m\n\u001b[0;32m----> 3\u001b[0;31m     \u001b[0;32mfor\u001b[0m \u001b[0mi\u001b[0m \u001b[0;32min\u001b[0m \u001b[0mcol\u001b[0m\u001b[0;34m[\u001b[0m\u001b[0;34m'text'\u001b[0m\u001b[0;34m]\u001b[0m\u001b[0;34m:\u001b[0m\u001b[0;34m\u001b[0m\u001b[0m\n\u001b[0m\u001b[1;32m      4\u001b[0m         \u001b[0maux\u001b[0m \u001b[0;34m=\u001b[0m \u001b[0mi\u001b[0m\u001b[0;34m\u001b[0m\u001b[0m\n\u001b[1;32m      5\u001b[0m         \u001b[0mlist_coord_text\u001b[0m\u001b[0;34m.\u001b[0m\u001b[0mappend\u001b[0m\u001b[0;34m(\u001b[0m\u001b[0maux\u001b[0m\u001b[0;34m)\u001b[0m\u001b[0;34m\u001b[0m\u001b[0m\n",
      "\u001b[0;31mTypeError\u001b[0m: string indices must be integers"
     ]
    }
   ],
   "source": [
    "list_coord_text = []\n",
    "for col in tweets[['coordinates','text']][~tweets['coordinates'].isnull()]:\n",
    "    for i in col['text']:\n",
    "        aux = i\n",
    "        list_coord_text.append(aux)\n",
    "    \n",
    "len(list_coord_text)\n",
    "print list_coord_text"
   ]
  },
  {
   "cell_type": "code",
   "execution_count": 70,
   "metadata": {
    "collapsed": false
   },
   "outputs": [
    {
     "data": {
      "text/html": [
       "<div>\n",
       "<table border=\"1\" class=\"dataframe\">\n",
       "  <thead>\n",
       "    <tr style=\"text-align: right;\">\n",
       "      <th></th>\n",
       "      <th>coordinates</th>\n",
       "      <th>text</th>\n",
       "      <th>user</th>\n",
       "    </tr>\n",
       "  </thead>\n",
       "  <tbody>\n",
       "    <tr>\n",
       "      <th>96</th>\n",
       "      <td>{u'type': u'Point', u'coordinates': [-43.98846...</td>\n",
       "      <td>@ApyusCom Isso vai ser muito, muito legal! Tô ...</td>\n",
       "      <td>{u'follow_request_sent': None, u'profile_use_b...</td>\n",
       "    </tr>\n",
       "    <tr>\n",
       "      <th>257</th>\n",
       "      <td>{u'type': u'Point', u'coordinates': [-44.07219...</td>\n",
       "      <td>Que o principado da corrupção seja extinto do ...</td>\n",
       "      <td>{u'follow_request_sent': None, u'profile_use_b...</td>\n",
       "    </tr>\n",
       "    <tr>\n",
       "      <th>598</th>\n",
       "      <td>{u'type': u'Point', u'coordinates': [-49.94293...</td>\n",
       "      <td>Esse papo de \"impiechment é golpe\" é tão verda...</td>\n",
       "      <td>{u'follow_request_sent': None, u'profile_use_b...</td>\n",
       "    </tr>\n",
       "    <tr>\n",
       "      <th>1428</th>\n",
       "      <td>{u'type': u'Point', u'coordinates': [-47.9287,...</td>\n",
       "      <td>1. #ImpeachmentDay\\n2. Leicester\\n3. #DomingoD...</td>\n",
       "      <td>{u'follow_request_sent': None, u'profile_use_b...</td>\n",
       "    </tr>\n",
       "    <tr>\n",
       "      <th>1572</th>\n",
       "      <td>{u'type': u'Point', u'coordinates': [-47.88279...</td>\n",
       "      <td>é hoje Pátria Amada ✌ #pazeamor #impeachment #...</td>\n",
       "      <td>{u'follow_request_sent': None, u'profile_use_b...</td>\n",
       "    </tr>\n",
       "    <tr>\n",
       "      <th>1615</th>\n",
       "      <td>{u'type': u'Point', u'coordinates': [-9.1413, ...</td>\n",
       "      <td>6. Benfica B\\n7. Porto B\\n8. #EquipaB\\n9. #Imp...</td>\n",
       "      <td>{u'follow_request_sent': None, u'profile_use_b...</td>\n",
       "    </tr>\n",
       "    <tr>\n",
       "      <th>1701</th>\n",
       "      <td>{u'type': u'Point', u'coordinates': [-43.98848...</td>\n",
       "      <td>Saindo...\\r É agora ou nunca! Pena q n tem @lo...</td>\n",
       "      <td>{u'follow_request_sent': None, u'profile_use_b...</td>\n",
       "    </tr>\n",
       "    <tr>\n",
       "      <th>1723</th>\n",
       "      <td>{u'type': u'Point', u'coordinates': [-47.89916...</td>\n",
       "      <td>Brasília ta fervendo hoje contra o golpe! #juv...</td>\n",
       "      <td>{u'follow_request_sent': None, u'profile_use_b...</td>\n",
       "    </tr>\n",
       "    <tr>\n",
       "      <th>3149</th>\n",
       "      <td>{u'type': u'Point', u'coordinates': [-43.17408...</td>\n",
       "      <td>#naovaitergolpe @ Praia De Copacabana https://...</td>\n",
       "      <td>{u'follow_request_sent': None, u'profile_use_b...</td>\n",
       "    </tr>\n",
       "    <tr>\n",
       "      <th>3346</th>\n",
       "      <td>{u'type': u'Point', u'coordinates': [-43.17109...</td>\n",
       "      <td>#naovaitergolpe @ Praia do Leme https://t.co/g...</td>\n",
       "      <td>{u'follow_request_sent': None, u'profile_use_b...</td>\n",
       "    </tr>\n",
       "    <tr>\n",
       "      <th>3594</th>\n",
       "      <td>{u'type': u'Point', u'coordinates': [-40.33692...</td>\n",
       "      <td>Que seja feita a vontade de Deus! 🙏🏻😊😘\\n\\n...</td>\n",
       "      <td>{u'follow_request_sent': None, u'profile_use_b...</td>\n",
       "    </tr>\n",
       "    <tr>\n",
       "      <th>4338</th>\n",
       "      <td>{u'type': u'Point', u'coordinates': [-43.35451...</td>\n",
       "      <td>#ImpeachmentDay dia mais historicamente inútil...</td>\n",
       "      <td>{u'follow_request_sent': None, u'profile_use_b...</td>\n",
       "    </tr>\n",
       "    <tr>\n",
       "      <th>4510</th>\n",
       "      <td>{u'type': u'Point', u'coordinates': [-51.13664...</td>\n",
       "      <td>é hoje BRASIL #ImpeachmentJa #ForaPT #ForaDilm...</td>\n",
       "      <td>{u'follow_request_sent': None, u'profile_use_b...</td>\n",
       "    </tr>\n",
       "    <tr>\n",
       "      <th>4537</th>\n",
       "      <td>{u'type': u'Point', u'coordinates': [-43.43264...</td>\n",
       "      <td>DEMOCRACIA É ISSO QUE EU QUERO! #NAOVAITERGOLPE</td>\n",
       "      <td>{u'follow_request_sent': None, u'profile_use_b...</td>\n",
       "    </tr>\n",
       "    <tr>\n",
       "      <th>4886</th>\n",
       "      <td>{u'type': u'Point', u'coordinates': [-51.13668...</td>\n",
       "      <td>É hoje BRASIL #impeachmentday https://t.co/jvN...</td>\n",
       "      <td>{u'follow_request_sent': None, u'profile_use_b...</td>\n",
       "    </tr>\n",
       "    <tr>\n",
       "      <th>6737</th>\n",
       "      <td>{u'type': u'Point', u'coordinates': [72.8826, ...</td>\n",
       "      <td>#impeachmentday is now trending in India https...</td>\n",
       "      <td>{u'follow_request_sent': None, u'profile_use_b...</td>\n",
       "    </tr>\n",
       "    <tr>\n",
       "      <th>7284</th>\n",
       "      <td>{u'type': u'Point', u'coordinates': [-46.75984...</td>\n",
       "      <td>\"@MBLivre: Na Paulista o MBL já está pronto! h...</td>\n",
       "      <td>{u'follow_request_sent': None, u'profile_use_b...</td>\n",
       "    </tr>\n",
       "    <tr>\n",
       "      <th>7351</th>\n",
       "      <td>{u'type': u'Point', u'coordinates': [-44.0539,...</td>\n",
       "      <td>Vamos à luta #mudabrasil #minhabandeiranãoéver...</td>\n",
       "      <td>{u'follow_request_sent': None, u'profile_use_b...</td>\n",
       "    </tr>\n",
       "    <tr>\n",
       "      <th>7611</th>\n",
       "      <td>{u'type': u'Point', u'coordinates': [-54.96942...</td>\n",
       "      <td>Ai... Ai... Ai... Ai... Esta chegando la huera...</td>\n",
       "      <td>{u'follow_request_sent': None, u'profile_use_b...</td>\n",
       "    </tr>\n",
       "    <tr>\n",
       "      <th>7851</th>\n",
       "      <td>{u'type': u'Point', u'coordinates': [-49.32468...</td>\n",
       "      <td>#ImpeachmentDay se meu Domingo vai ser ruim im...</td>\n",
       "      <td>{u'follow_request_sent': None, u'profile_use_b...</td>\n",
       "    </tr>\n",
       "    <tr>\n",
       "      <th>8420</th>\n",
       "      <td>{u'type': u'Point', u'coordinates': [-58.3735,...</td>\n",
       "      <td>#ImpeachmentDay empieza a ser Tendencia, con 9...</td>\n",
       "      <td>{u'follow_request_sent': None, u'profile_use_b...</td>\n",
       "    </tr>\n",
       "    <tr>\n",
       "      <th>9297</th>\n",
       "      <td>{u'type': u'Point', u'coordinates': [-47.87548...</td>\n",
       "      <td>#foradilma vamos mostrar do que é feito um bom...</td>\n",
       "      <td>{u'follow_request_sent': None, u'profile_use_b...</td>\n",
       "    </tr>\n",
       "    <tr>\n",
       "      <th>9348</th>\n",
       "      <td>{u'type': u'Point', u'coordinates': [-47.86761...</td>\n",
       "      <td>Nos preparativos para o impeachment! #forapt #...</td>\n",
       "      <td>{u'follow_request_sent': None, u'profile_use_b...</td>\n",
       "    </tr>\n",
       "    <tr>\n",
       "      <th>9463</th>\n",
       "      <td>{u'type': u'Point', u'coordinates': [-35.2167,...</td>\n",
       "      <td>Na minha janela e no meu coração! #impeachment...</td>\n",
       "      <td>{u'follow_request_sent': None, u'profile_use_b...</td>\n",
       "    </tr>\n",
       "    <tr>\n",
       "      <th>10439</th>\n",
       "      <td>{u'type': u'Point', u'coordinates': [-43.18729...</td>\n",
       "      <td>Uh! Uh! É Furacão!  #naovaitergolpe #furacao20...</td>\n",
       "      <td>{u'follow_request_sent': None, u'profile_use_b...</td>\n",
       "    </tr>\n",
       "    <tr>\n",
       "      <th>10754</th>\n",
       "      <td>{u'type': u'Point', u'coordinates': [-9.1413, ...</td>\n",
       "      <td>#ImpeachmentDay just started trending with 997...</td>\n",
       "      <td>{u'follow_request_sent': None, u'profile_use_b...</td>\n",
       "    </tr>\n",
       "    <tr>\n",
       "      <th>11580</th>\n",
       "      <td>{u'type': u'Point', u'coordinates': [-47.9287,...</td>\n",
       "      <td>1. #ImpeachmentDay\\n2. Leicester\\n3. #DomingoD...</td>\n",
       "      <td>{u'follow_request_sent': None, u'profile_use_b...</td>\n",
       "    </tr>\n",
       "    <tr>\n",
       "      <th>11743</th>\n",
       "      <td>{u'type': u'Point', u'coordinates': [-9.1413, ...</td>\n",
       "      <td>6. #2YearsSinceMagconBrokeUp\\n7. Axl Rose\\n8. ...</td>\n",
       "      <td>{u'follow_request_sent': None, u'profile_use_b...</td>\n",
       "    </tr>\n",
       "    <tr>\n",
       "      <th>12703</th>\n",
       "      <td>{u'type': u'Point', u'coordinates': [-35.69951...</td>\n",
       "      <td>#ForaPT #ForaDilma 👏🏻👏🏻👏🏻👏🏻🇧🇷🇧🇷🇧�...</td>\n",
       "      <td>{u'follow_request_sent': None, u'profile_use_b...</td>\n",
       "    </tr>\n",
       "    <tr>\n",
       "      <th>13303</th>\n",
       "      <td>{u'type': u'Point', u'coordinates': [-43.06529...</td>\n",
       "      <td>#impeachmentDAY</td>\n",
       "      <td>{u'follow_request_sent': None, u'profile_use_b...</td>\n",
       "    </tr>\n",
       "    <tr>\n",
       "      <th>...</th>\n",
       "      <td>...</td>\n",
       "      <td>...</td>\n",
       "      <td>...</td>\n",
       "    </tr>\n",
       "    <tr>\n",
       "      <th>335476</th>\n",
       "      <td>{u'type': u'Point', u'coordinates': [-46.78936...</td>\n",
       "      <td>Poxa ultimo role por aqui  #ImpeachmentDay htt...</td>\n",
       "      <td>{u'follow_request_sent': None, u'profile_use_b...</td>\n",
       "    </tr>\n",
       "    <tr>\n",
       "      <th>336405</th>\n",
       "      <td>{u'type': u'Point', u'coordinates': [-43.94420...</td>\n",
       "      <td>EU VOTO SIM #tchauquerida #foradilma</td>\n",
       "      <td>{u'follow_request_sent': None, u'profile_use_b...</td>\n",
       "    </tr>\n",
       "    <tr>\n",
       "      <th>337369</th>\n",
       "      <td>{u'type': u'Point', u'coordinates': [-43.69916...</td>\n",
       "      <td>#ImpeachmentDay é Brasil,  e foi que foi kkkkk...</td>\n",
       "      <td>{u'follow_request_sent': None, u'profile_use_b...</td>\n",
       "    </tr>\n",
       "    <tr>\n",
       "      <th>337565</th>\n",
       "      <td>{u'type': u'Point', u'coordinates': [-47.94210...</td>\n",
       "      <td>Pelo meu país, eu acredito. 💚💛💙\\n•\\n•\\n•\\n•...</td>\n",
       "      <td>{u'follow_request_sent': None, u'profile_use_b...</td>\n",
       "    </tr>\n",
       "    <tr>\n",
       "      <th>338195</th>\n",
       "      <td>{u'type': u'Point', u'coordinates': [-46.6333,...</td>\n",
       "      <td>Fiquei curioso ....#impechment #tchauquerida #...</td>\n",
       "      <td>{u'follow_request_sent': None, u'profile_use_b...</td>\n",
       "    </tr>\n",
       "    <tr>\n",
       "      <th>341112</th>\n",
       "      <td>{u'type': u'Point', u'coordinates': [-40.73845...</td>\n",
       "      <td>#TchauQuerida #ForaPT #ForaDilma #naovamosdesi...</td>\n",
       "      <td>{u'follow_request_sent': None, u'profile_use_b...</td>\n",
       "    </tr>\n",
       "    <tr>\n",
       "      <th>341360</th>\n",
       "      <td>{u'type': u'Point', u'coordinates': [-43.2333,...</td>\n",
       "      <td>Não tenho mais forças para rir. 😂😂😂😂 #tele...</td>\n",
       "      <td>{u'follow_request_sent': None, u'profile_use_b...</td>\n",
       "    </tr>\n",
       "    <tr>\n",
       "      <th>342723</th>\n",
       "      <td>{u'type': u'Point', u'coordinates': [-46.8842,...</td>\n",
       "      <td>#ForaDilma #ForaPT\\nUm país é muito mais que u...</td>\n",
       "      <td>{u'follow_request_sent': None, u'profile_use_b...</td>\n",
       "    </tr>\n",
       "    <tr>\n",
       "      <th>342740</th>\n",
       "      <td>{u'type': u'Point', u'coordinates': [-47.86541...</td>\n",
       "      <td>👆🙏✌️🎉 #foradilma @ Congresso Nacional Brasi...</td>\n",
       "      <td>{u'follow_request_sent': None, u'profile_use_b...</td>\n",
       "    </tr>\n",
       "    <tr>\n",
       "      <th>346792</th>\n",
       "      <td>{u'type': u'Point', u'coordinates': [-49.08193...</td>\n",
       "      <td>#ImpeachmentDay como volta deputado? Rsrsrsrs</td>\n",
       "      <td>{u'follow_request_sent': None, u'profile_use_b...</td>\n",
       "    </tr>\n",
       "    <tr>\n",
       "      <th>347620</th>\n",
       "      <td>{u'type': u'Point', u'coordinates': [-70.6483,...</td>\n",
       "      <td>#foradilma es ahora una tendencia en #Santiago...</td>\n",
       "      <td>{u'follow_request_sent': None, u'profile_use_b...</td>\n",
       "    </tr>\n",
       "    <tr>\n",
       "      <th>349565</th>\n",
       "      <td>{u'type': u'Point', u'coordinates': [-47.07491...</td>\n",
       "      <td>Será que as pessoas sabem??? #foracunha #impea...</td>\n",
       "      <td>{u'follow_request_sent': None, u'profile_use_b...</td>\n",
       "    </tr>\n",
       "    <tr>\n",
       "      <th>350077</th>\n",
       "      <td>{u'type': u'Point', u'coordinates': [-41.85893...</td>\n",
       "      <td>@MeuMundo_Manuca no Enem vão perguntar pra que...</td>\n",
       "      <td>{u'follow_request_sent': None, u'profile_use_b...</td>\n",
       "    </tr>\n",
       "    <tr>\n",
       "      <th>350881</th>\n",
       "      <td>{u'type': u'Point', u'coordinates': [-38.49793...</td>\n",
       "      <td>Eu voto sim! #TchauQuerida #foradilma #forapt ...</td>\n",
       "      <td>{u'follow_request_sent': None, u'profile_use_b...</td>\n",
       "    </tr>\n",
       "    <tr>\n",
       "      <th>350906</th>\n",
       "      <td>{u'type': u'Point', u'coordinates': [-49.42045...</td>\n",
       "      <td>Eu voto sim, mas gente, VAI VIR OLIMPÍADAS E N...</td>\n",
       "      <td>{u'follow_request_sent': None, u'profile_use_b...</td>\n",
       "    </tr>\n",
       "    <tr>\n",
       "      <th>352677</th>\n",
       "      <td>{u'type': u'Point', u'coordinates': [-48.01947...</td>\n",
       "      <td>Dezessete de abril de dois mil e dezesseis. Di...</td>\n",
       "      <td>{u'follow_request_sent': None, u'profile_use_b...</td>\n",
       "    </tr>\n",
       "    <tr>\n",
       "      <th>352790</th>\n",
       "      <td>{u'type': u'Point', u'coordinates': [-47.11031...</td>\n",
       "      <td>Tchau querida 😂😂\\n#ImpeachmentDay</td>\n",
       "      <td>{u'follow_request_sent': None, u'profile_use_b...</td>\n",
       "    </tr>\n",
       "    <tr>\n",
       "      <th>353430</th>\n",
       "      <td>{u'type': u'Point', u'coordinates': [-46.67025...</td>\n",
       "      <td>@LindbergFarias #ImpeachmentDay sao paulo Nasc...</td>\n",
       "      <td>{u'follow_request_sent': None, u'profile_use_b...</td>\n",
       "    </tr>\n",
       "    <tr>\n",
       "      <th>353607</th>\n",
       "      <td>{u'type': u'Point', u'coordinates': [-46.78936...</td>\n",
       "      <td>Eu tava esperando o estado islamico explodir a...</td>\n",
       "      <td>{u'follow_request_sent': None, u'profile_use_b...</td>\n",
       "    </tr>\n",
       "    <tr>\n",
       "      <th>353632</th>\n",
       "      <td>{u'type': u'Point', u'coordinates': [-47.93509...</td>\n",
       "      <td>vou ficar até o fim porque quero tuitar o plac...</td>\n",
       "      <td>{u'follow_request_sent': None, u'profile_use_b...</td>\n",
       "    </tr>\n",
       "    <tr>\n",
       "      <th>354499</th>\n",
       "      <td>{u'type': u'Point', u'coordinates': [-47.94210...</td>\n",
       "      <td>#impeachmentday #TCHAUQUERIDA @ Esplanada Dos ...</td>\n",
       "      <td>{u'follow_request_sent': None, u'profile_use_b...</td>\n",
       "    </tr>\n",
       "    <tr>\n",
       "      <th>355500</th>\n",
       "      <td>{u'type': u'Point', u'coordinates': [-46.70543...</td>\n",
       "      <td>#ImpeachmentDay eu não aguento mais faz uns 84...</td>\n",
       "      <td>{u'follow_request_sent': None, u'profile_use_b...</td>\n",
       "    </tr>\n",
       "    <tr>\n",
       "      <th>356622</th>\n",
       "      <td>{u'type': u'Point', u'coordinates': [-35.36346...</td>\n",
       "      <td>Parabéns Ao meu deputado @DanielCoelho45 #Impe...</td>\n",
       "      <td>{u'follow_request_sent': None, u'profile_use_b...</td>\n",
       "    </tr>\n",
       "    <tr>\n",
       "      <th>356832</th>\n",
       "      <td>{u'type': u'Point', u'coordinates': [-43.2333,...</td>\n",
       "      <td>#foradilma\\n#forapt @ Rio de Janeiro, Brazil h...</td>\n",
       "      <td>{u'follow_request_sent': None, u'profile_use_b...</td>\n",
       "    </tr>\n",
       "    <tr>\n",
       "      <th>357312</th>\n",
       "      <td>{u'type': u'Point', u'coordinates': [-46.64767...</td>\n",
       "      <td>17 de Abril \\nImpeachment de Dilma  Rousseff \\...</td>\n",
       "      <td>{u'follow_request_sent': None, u'profile_use_b...</td>\n",
       "    </tr>\n",
       "    <tr>\n",
       "      <th>357420</th>\n",
       "      <td>{u'type': u'Point', u'coordinates': [-43.44034...</td>\n",
       "      <td>Vamos ver um pouco de @RaulEEsparza em @nbcsvu...</td>\n",
       "      <td>{u'follow_request_sent': None, u'profile_use_b...</td>\n",
       "    </tr>\n",
       "    <tr>\n",
       "      <th>357450</th>\n",
       "      <td>{u'type': u'Point', u'coordinates': [-51.10931...</td>\n",
       "      <td>#naovaitergolpe sou contra impeachment sou de ...</td>\n",
       "      <td>{u'follow_request_sent': None, u'profile_use_b...</td>\n",
       "    </tr>\n",
       "    <tr>\n",
       "      <th>357532</th>\n",
       "      <td>{u'type': u'Point', u'coordinates': [-46.70543...</td>\n",
       "      <td>#ImpeachmentDay falta dois</td>\n",
       "      <td>{u'follow_request_sent': None, u'profile_use_b...</td>\n",
       "    </tr>\n",
       "    <tr>\n",
       "      <th>357735</th>\n",
       "      <td>{u'type': u'Point', u'coordinates': [-46.62423...</td>\n",
       "      <td>Se fodeu Dilma kkkkkkkkkkk 😂😂😂 #Impeachmentday</td>\n",
       "      <td>{u'follow_request_sent': None, u'profile_use_b...</td>\n",
       "    </tr>\n",
       "    <tr>\n",
       "      <th>357791</th>\n",
       "      <td>{u'type': u'Point', u'coordinates': [-45.87861...</td>\n",
       "      <td>#Impeachmentday\\n#forapt #foradilma #porumbras...</td>\n",
       "      <td>{u'follow_request_sent': None, u'profile_use_b...</td>\n",
       "    </tr>\n",
       "  </tbody>\n",
       "</table>\n",
       "<p>470 rows × 3 columns</p>\n",
       "</div>"
      ],
      "text/plain": [
       "                                              coordinates  \\\n",
       "96      {u'type': u'Point', u'coordinates': [-43.98846...   \n",
       "257     {u'type': u'Point', u'coordinates': [-44.07219...   \n",
       "598     {u'type': u'Point', u'coordinates': [-49.94293...   \n",
       "1428    {u'type': u'Point', u'coordinates': [-47.9287,...   \n",
       "1572    {u'type': u'Point', u'coordinates': [-47.88279...   \n",
       "1615    {u'type': u'Point', u'coordinates': [-9.1413, ...   \n",
       "1701    {u'type': u'Point', u'coordinates': [-43.98848...   \n",
       "1723    {u'type': u'Point', u'coordinates': [-47.89916...   \n",
       "3149    {u'type': u'Point', u'coordinates': [-43.17408...   \n",
       "3346    {u'type': u'Point', u'coordinates': [-43.17109...   \n",
       "3594    {u'type': u'Point', u'coordinates': [-40.33692...   \n",
       "4338    {u'type': u'Point', u'coordinates': [-43.35451...   \n",
       "4510    {u'type': u'Point', u'coordinates': [-51.13664...   \n",
       "4537    {u'type': u'Point', u'coordinates': [-43.43264...   \n",
       "4886    {u'type': u'Point', u'coordinates': [-51.13668...   \n",
       "6737    {u'type': u'Point', u'coordinates': [72.8826, ...   \n",
       "7284    {u'type': u'Point', u'coordinates': [-46.75984...   \n",
       "7351    {u'type': u'Point', u'coordinates': [-44.0539,...   \n",
       "7611    {u'type': u'Point', u'coordinates': [-54.96942...   \n",
       "7851    {u'type': u'Point', u'coordinates': [-49.32468...   \n",
       "8420    {u'type': u'Point', u'coordinates': [-58.3735,...   \n",
       "9297    {u'type': u'Point', u'coordinates': [-47.87548...   \n",
       "9348    {u'type': u'Point', u'coordinates': [-47.86761...   \n",
       "9463    {u'type': u'Point', u'coordinates': [-35.2167,...   \n",
       "10439   {u'type': u'Point', u'coordinates': [-43.18729...   \n",
       "10754   {u'type': u'Point', u'coordinates': [-9.1413, ...   \n",
       "11580   {u'type': u'Point', u'coordinates': [-47.9287,...   \n",
       "11743   {u'type': u'Point', u'coordinates': [-9.1413, ...   \n",
       "12703   {u'type': u'Point', u'coordinates': [-35.69951...   \n",
       "13303   {u'type': u'Point', u'coordinates': [-43.06529...   \n",
       "...                                                   ...   \n",
       "335476  {u'type': u'Point', u'coordinates': [-46.78936...   \n",
       "336405  {u'type': u'Point', u'coordinates': [-43.94420...   \n",
       "337369  {u'type': u'Point', u'coordinates': [-43.69916...   \n",
       "337565  {u'type': u'Point', u'coordinates': [-47.94210...   \n",
       "338195  {u'type': u'Point', u'coordinates': [-46.6333,...   \n",
       "341112  {u'type': u'Point', u'coordinates': [-40.73845...   \n",
       "341360  {u'type': u'Point', u'coordinates': [-43.2333,...   \n",
       "342723  {u'type': u'Point', u'coordinates': [-46.8842,...   \n",
       "342740  {u'type': u'Point', u'coordinates': [-47.86541...   \n",
       "346792  {u'type': u'Point', u'coordinates': [-49.08193...   \n",
       "347620  {u'type': u'Point', u'coordinates': [-70.6483,...   \n",
       "349565  {u'type': u'Point', u'coordinates': [-47.07491...   \n",
       "350077  {u'type': u'Point', u'coordinates': [-41.85893...   \n",
       "350881  {u'type': u'Point', u'coordinates': [-38.49793...   \n",
       "350906  {u'type': u'Point', u'coordinates': [-49.42045...   \n",
       "352677  {u'type': u'Point', u'coordinates': [-48.01947...   \n",
       "352790  {u'type': u'Point', u'coordinates': [-47.11031...   \n",
       "353430  {u'type': u'Point', u'coordinates': [-46.67025...   \n",
       "353607  {u'type': u'Point', u'coordinates': [-46.78936...   \n",
       "353632  {u'type': u'Point', u'coordinates': [-47.93509...   \n",
       "354499  {u'type': u'Point', u'coordinates': [-47.94210...   \n",
       "355500  {u'type': u'Point', u'coordinates': [-46.70543...   \n",
       "356622  {u'type': u'Point', u'coordinates': [-35.36346...   \n",
       "356832  {u'type': u'Point', u'coordinates': [-43.2333,...   \n",
       "357312  {u'type': u'Point', u'coordinates': [-46.64767...   \n",
       "357420  {u'type': u'Point', u'coordinates': [-43.44034...   \n",
       "357450  {u'type': u'Point', u'coordinates': [-51.10931...   \n",
       "357532  {u'type': u'Point', u'coordinates': [-46.70543...   \n",
       "357735  {u'type': u'Point', u'coordinates': [-46.62423...   \n",
       "357791  {u'type': u'Point', u'coordinates': [-45.87861...   \n",
       "\n",
       "                                                     text  \\\n",
       "96      @ApyusCom Isso vai ser muito, muito legal! Tô ...   \n",
       "257     Que o principado da corrupção seja extinto do ...   \n",
       "598     Esse papo de \"impiechment é golpe\" é tão verda...   \n",
       "1428    1. #ImpeachmentDay\\n2. Leicester\\n3. #DomingoD...   \n",
       "1572    é hoje Pátria Amada ✌ #pazeamor #impeachment #...   \n",
       "1615    6. Benfica B\\n7. Porto B\\n8. #EquipaB\\n9. #Imp...   \n",
       "1701    Saindo...\\r É agora ou nunca! Pena q n tem @lo...   \n",
       "1723    Brasília ta fervendo hoje contra o golpe! #juv...   \n",
       "3149    #naovaitergolpe @ Praia De Copacabana https://...   \n",
       "3346    #naovaitergolpe @ Praia do Leme https://t.co/g...   \n",
       "3594    Que seja feita a vontade de Deus! 🙏🏻😊😘\\n\\n...   \n",
       "4338    #ImpeachmentDay dia mais historicamente inútil...   \n",
       "4510    é hoje BRASIL #ImpeachmentJa #ForaPT #ForaDilm...   \n",
       "4537      DEMOCRACIA É ISSO QUE EU QUERO! #NAOVAITERGOLPE   \n",
       "4886    É hoje BRASIL #impeachmentday https://t.co/jvN...   \n",
       "6737    #impeachmentday is now trending in India https...   \n",
       "7284    \"@MBLivre: Na Paulista o MBL já está pronto! h...   \n",
       "7351    Vamos à luta #mudabrasil #minhabandeiranãoéver...   \n",
       "7611    Ai... Ai... Ai... Ai... Esta chegando la huera...   \n",
       "7851    #ImpeachmentDay se meu Domingo vai ser ruim im...   \n",
       "8420    #ImpeachmentDay empieza a ser Tendencia, con 9...   \n",
       "9297    #foradilma vamos mostrar do que é feito um bom...   \n",
       "9348    Nos preparativos para o impeachment! #forapt #...   \n",
       "9463    Na minha janela e no meu coração! #impeachment...   \n",
       "10439   Uh! Uh! É Furacão!  #naovaitergolpe #furacao20...   \n",
       "10754   #ImpeachmentDay just started trending with 997...   \n",
       "11580   1. #ImpeachmentDay\\n2. Leicester\\n3. #DomingoD...   \n",
       "11743   6. #2YearsSinceMagconBrokeUp\\n7. Axl Rose\\n8. ...   \n",
       "12703   #ForaPT #ForaDilma 👏🏻👏🏻👏🏻👏🏻🇧🇷🇧🇷🇧�...   \n",
       "13303                                     #impeachmentDAY   \n",
       "...                                                   ...   \n",
       "335476  Poxa ultimo role por aqui  #ImpeachmentDay htt...   \n",
       "336405               EU VOTO SIM #tchauquerida #foradilma   \n",
       "337369  #ImpeachmentDay é Brasil,  e foi que foi kkkkk...   \n",
       "337565  Pelo meu país, eu acredito. 💚💛💙\\n•\\n•\\n•\\n•...   \n",
       "338195  Fiquei curioso ....#impechment #tchauquerida #...   \n",
       "341112  #TchauQuerida #ForaPT #ForaDilma #naovamosdesi...   \n",
       "341360  Não tenho mais forças para rir. 😂😂😂😂 #tele...   \n",
       "342723  #ForaDilma #ForaPT\\nUm país é muito mais que u...   \n",
       "342740  👆🙏✌️🎉 #foradilma @ Congresso Nacional Brasi...   \n",
       "346792      #ImpeachmentDay como volta deputado? Rsrsrsrs   \n",
       "347620  #foradilma es ahora una tendencia en #Santiago...   \n",
       "349565  Será que as pessoas sabem??? #foracunha #impea...   \n",
       "350077  @MeuMundo_Manuca no Enem vão perguntar pra que...   \n",
       "350881  Eu voto sim! #TchauQuerida #foradilma #forapt ...   \n",
       "350906  Eu voto sim, mas gente, VAI VIR OLIMPÍADAS E N...   \n",
       "352677  Dezessete de abril de dois mil e dezesseis. Di...   \n",
       "352790                Tchau querida 😂😂\\n#ImpeachmentDay   \n",
       "353430  @LindbergFarias #ImpeachmentDay sao paulo Nasc...   \n",
       "353607  Eu tava esperando o estado islamico explodir a...   \n",
       "353632  vou ficar até o fim porque quero tuitar o plac...   \n",
       "354499  #impeachmentday #TCHAUQUERIDA @ Esplanada Dos ...   \n",
       "355500  #ImpeachmentDay eu não aguento mais faz uns 84...   \n",
       "356622  Parabéns Ao meu deputado @DanielCoelho45 #Impe...   \n",
       "356832  #foradilma\\n#forapt @ Rio de Janeiro, Brazil h...   \n",
       "357312  17 de Abril \\nImpeachment de Dilma  Rousseff \\...   \n",
       "357420  Vamos ver um pouco de @RaulEEsparza em @nbcsvu...   \n",
       "357450  #naovaitergolpe sou contra impeachment sou de ...   \n",
       "357532                         #ImpeachmentDay falta dois   \n",
       "357735  Se fodeu Dilma kkkkkkkkkkk 😂😂😂 #Impeachmentday   \n",
       "357791  #Impeachmentday\\n#forapt #foradilma #porumbras...   \n",
       "\n",
       "                                                     user  \n",
       "96      {u'follow_request_sent': None, u'profile_use_b...  \n",
       "257     {u'follow_request_sent': None, u'profile_use_b...  \n",
       "598     {u'follow_request_sent': None, u'profile_use_b...  \n",
       "1428    {u'follow_request_sent': None, u'profile_use_b...  \n",
       "1572    {u'follow_request_sent': None, u'profile_use_b...  \n",
       "1615    {u'follow_request_sent': None, u'profile_use_b...  \n",
       "1701    {u'follow_request_sent': None, u'profile_use_b...  \n",
       "1723    {u'follow_request_sent': None, u'profile_use_b...  \n",
       "3149    {u'follow_request_sent': None, u'profile_use_b...  \n",
       "3346    {u'follow_request_sent': None, u'profile_use_b...  \n",
       "3594    {u'follow_request_sent': None, u'profile_use_b...  \n",
       "4338    {u'follow_request_sent': None, u'profile_use_b...  \n",
       "4510    {u'follow_request_sent': None, u'profile_use_b...  \n",
       "4537    {u'follow_request_sent': None, u'profile_use_b...  \n",
       "4886    {u'follow_request_sent': None, u'profile_use_b...  \n",
       "6737    {u'follow_request_sent': None, u'profile_use_b...  \n",
       "7284    {u'follow_request_sent': None, u'profile_use_b...  \n",
       "7351    {u'follow_request_sent': None, u'profile_use_b...  \n",
       "7611    {u'follow_request_sent': None, u'profile_use_b...  \n",
       "7851    {u'follow_request_sent': None, u'profile_use_b...  \n",
       "8420    {u'follow_request_sent': None, u'profile_use_b...  \n",
       "9297    {u'follow_request_sent': None, u'profile_use_b...  \n",
       "9348    {u'follow_request_sent': None, u'profile_use_b...  \n",
       "9463    {u'follow_request_sent': None, u'profile_use_b...  \n",
       "10439   {u'follow_request_sent': None, u'profile_use_b...  \n",
       "10754   {u'follow_request_sent': None, u'profile_use_b...  \n",
       "11580   {u'follow_request_sent': None, u'profile_use_b...  \n",
       "11743   {u'follow_request_sent': None, u'profile_use_b...  \n",
       "12703   {u'follow_request_sent': None, u'profile_use_b...  \n",
       "13303   {u'follow_request_sent': None, u'profile_use_b...  \n",
       "...                                                   ...  \n",
       "335476  {u'follow_request_sent': None, u'profile_use_b...  \n",
       "336405  {u'follow_request_sent': None, u'profile_use_b...  \n",
       "337369  {u'follow_request_sent': None, u'profile_use_b...  \n",
       "337565  {u'follow_request_sent': None, u'profile_use_b...  \n",
       "338195  {u'follow_request_sent': None, u'profile_use_b...  \n",
       "341112  {u'follow_request_sent': None, u'profile_use_b...  \n",
       "341360  {u'follow_request_sent': None, u'profile_use_b...  \n",
       "342723  {u'follow_request_sent': None, u'profile_use_b...  \n",
       "342740  {u'follow_request_sent': None, u'profile_use_b...  \n",
       "346792  {u'follow_request_sent': None, u'profile_use_b...  \n",
       "347620  {u'follow_request_sent': None, u'profile_use_b...  \n",
       "349565  {u'follow_request_sent': None, u'profile_use_b...  \n",
       "350077  {u'follow_request_sent': None, u'profile_use_b...  \n",
       "350881  {u'follow_request_sent': None, u'profile_use_b...  \n",
       "350906  {u'follow_request_sent': None, u'profile_use_b...  \n",
       "352677  {u'follow_request_sent': None, u'profile_use_b...  \n",
       "352790  {u'follow_request_sent': None, u'profile_use_b...  \n",
       "353430  {u'follow_request_sent': None, u'profile_use_b...  \n",
       "353607  {u'follow_request_sent': None, u'profile_use_b...  \n",
       "353632  {u'follow_request_sent': None, u'profile_use_b...  \n",
       "354499  {u'follow_request_sent': None, u'profile_use_b...  \n",
       "355500  {u'follow_request_sent': None, u'profile_use_b...  \n",
       "356622  {u'follow_request_sent': None, u'profile_use_b...  \n",
       "356832  {u'follow_request_sent': None, u'profile_use_b...  \n",
       "357312  {u'follow_request_sent': None, u'profile_use_b...  \n",
       "357420  {u'follow_request_sent': None, u'profile_use_b...  \n",
       "357450  {u'follow_request_sent': None, u'profile_use_b...  \n",
       "357532  {u'follow_request_sent': None, u'profile_use_b...  \n",
       "357735  {u'follow_request_sent': None, u'profile_use_b...  \n",
       "357791  {u'follow_request_sent': None, u'profile_use_b...  \n",
       "\n",
       "[470 rows x 3 columns]"
      ]
     },
     "execution_count": 70,
     "metadata": {},
     "output_type": "execute_result"
    }
   ],
   "source": [
    "tweets[['coordinates','text','user']][~tweets['coordinates'].isnull()]"
   ]
  },
  {
   "cell_type": "code",
   "execution_count": null,
   "metadata": {
    "collapsed": true
   },
   "outputs": [],
   "source": [
    "tweets['name']"
   ]
  },
  {
   "cell_type": "code",
   "execution_count": null,
   "metadata": {
    "collapsed": true
   },
   "outputs": [],
   "source": [
    "tweets['text']"
   ]
  },
  {
   "cell_type": "code",
   "execution_count": 21,
   "metadata": {
    "collapsed": false
   },
   "outputs": [
    {
     "data": {
      "text/plain": [
       "0"
      ]
     },
     "execution_count": 21,
     "metadata": {},
     "output_type": "execute_result"
    }
   ],
   "source": [
    "len(coordinate_text)"
   ]
  },
  {
   "cell_type": "code",
   "execution_count": null,
   "metadata": {
    "collapsed": false
   },
   "outputs": [],
   "source": [
    "coords = tweets['coordinates']\n",
    "coords = coords[~coords.isnull()]\n",
    "coords = coords.apply(lambda d: d['coordinates'][::-1])\n",
    "coords.head(20)"
   ]
  },
  {
   "cell_type": "code",
   "execution_count": null,
   "metadata": {
    "collapsed": false
   },
   "outputs": [],
   "source": [
    "m = folium.Map([-14,-53.25], zoom_start=4)\n",
    "\n",
    "for c in coordinate:\n",
    "    folium.Marker(c, popup='Testing!').add_to(m)\n",
    "\n",
    "m"
   ]
  },
  {
   "cell_type": "code",
   "execution_count": null,
   "metadata": {
    "collapsed": false
   },
   "outputs": [],
   "source": [
    "tweets.text.head()"
   ]
  },
  {
   "cell_type": "code",
   "execution_count": null,
   "metadata": {
    "collapsed": false
   },
   "outputs": [],
   "source": [
    "tweets.user.head()"
   ]
  },
  {
   "cell_type": "code",
   "execution_count": null,
   "metadata": {
    "collapsed": false
   },
   "outputs": [],
   "source": [
    "df = pd.DataFrame()\n",
    "df['text'] = tweets['text']\n",
    "df['coordinates'] = tweets['coordinates']\n",
    "df['user'] = tweets['user']\n",
    "df.head()\n",
    "\n",
    "\n",
    "# df['text'] = map(lambda df: df['text'].encode('utf-8'), tweets)\n",
    "# df['user'] = map(lambda df: df['user']['screen_name'], tweets)"
   ]
  },
  {
   "cell_type": "code",
   "execution_count": null,
   "metadata": {
    "collapsed": true
   },
   "outputs": [],
   "source": [
    "def word_in_text(word, text):\n",
    "    word = word.lower()\n",
    "    text = text.lower()\n",
    "    match = re.search(word, text)\n",
    "    if match:\n",
    "        return True\n",
    "    return False\n",
    "\n",
    "tweets['NaoVaiTerGolpe'] = tweets['text'].apply(lambda tweet: word_in_text('NaoVaiTerGolpe', tweet))\n",
    "tweets['TchauQuerida'] = tweets['text'].apply(lambda tweet: word_in_text('TchauQuerida', tweet))\n",
    "tweets['ForaDilma'] = tweets['text'].apply(lambda tweet: word_in_text('ForaDilma', tweet))\n",
    "tweets['BrasilContraOGolpe'] = tweets['text'].apply(lambda tweet: word_in_text('BrasilContraOGolpe', tweet))\n",
    "tweets['ForaCunha'] = tweets['text'].apply(lambda tweet: word_in_text('ForaCunha', tweet))\n",
    "\n",
    "tweets['user'] = map(lambda tweet: tweet['user']['screen_name'], tweets_data)"
   ]
  },
  {
   "cell_type": "markdown",
   "metadata": {},
   "source": [
    "* * * \n",
    "\n",
    "### Funções de teste"
   ]
  },
  {
   "cell_type": "code",
   "execution_count": null,
   "metadata": {
    "collapsed": true
   },
   "outputs": [],
   "source": [
    "def datetimeify(df):\n",
    "    df['created_at'] = pd.DatetimeIndex(df.created_at)\n",
    "    return df"
   ]
  },
  {
   "cell_type": "code",
   "execution_count": null,
   "metadata": {
    "collapsed": true
   },
   "outputs": [],
   "source": [
    "def sentiment(df):\n",
    "    text = df.dropna(subset=['text']).text\n",
    "    sentiment = text.apply(lambda text: TextBlob(text).sentiment)\n",
    "    df['polarity'] = sentiment.apply(lambda sentiment: sentiment.polarity)\n",
    "    df['subjectivity'] = sentiment.apply(lambda sentiment: sentiment.subjectivity)\n",
    "    return df"
   ]
  },
  {
   "cell_type": "code",
   "execution_count": null,
   "metadata": {
    "collapsed": true
   },
   "outputs": [],
   "source": [
    "def influence(df):\n",
    "    internal = np.sqrt(df.user_followers_count.apply(lambda x: x + 1))\n",
    "    external = np.sqrt(df.retweet_count.apply(lambda x: x + 1))\n",
    "    df['influence'] = internal * external\n",
    "    return df"
   ]
  },
  {
   "cell_type": "code",
   "execution_count": null,
   "metadata": {
    "collapsed": true
   },
   "outputs": [],
   "source": [
    "def influenced_polarity(df):\n",
    "    df['influenced_polarity'] = df.polarity * df['influence']\n",
    "    return df"
   ]
  },
  {
   "cell_type": "code",
   "execution_count": null,
   "metadata": {
    "collapsed": true
   },
   "outputs": [],
   "source": [
    "def georeference(df):\n",
    "    def place_to_coordinate(place_str, kind):\n",
    "        if pd.isnull(place_str):\n",
    "            return float('nan')\n",
    "        number_matcher = r'(-?\\d+\\.\\d+)[,\\]]'\n",
    "        coordinates = re.findall(number_matcher, place_str)\n",
    "        coordinate = tuple(float(n) for n in coordinates[:2])\n",
    "\n",
    "        if kind == 'longitude':\n",
    "            return coordinate[0]\n",
    "        elif kind == 'latitude':\n",
    "            return coordinate[1]\n",
    "    df['latitude'] = df.place.apply(place_to_coordinate, kind='latitude')\n",
    "    df['longitude'] = df.place.apply(place_to_coordinate, kind='longitude')\n",
    "\n",
    "    return df"
   ]
  },
  {
   "cell_type": "code",
   "execution_count": null,
   "metadata": {
    "collapsed": true
   },
   "outputs": [],
   "source": [
    "def preprocess(df):\n",
    "    return (df.pipe(datetimeify))"
   ]
  },
  {
   "cell_type": "code",
   "execution_count": null,
   "metadata": {
    "collapsed": true
   },
   "outputs": [],
   "source": [
    "def preprocess_df(df):\n",
    "    cleaned = df.pipe(set_hashtags)\n",
    "    copy = cleaned.copy()\n",
    "    return preprocess(copy)\n"
   ]
  },
  {
   "cell_type": "code",
   "execution_count": null,
   "metadata": {
    "collapsed": false
   },
   "outputs": [],
   "source": [
    "def load_df(input_filename):\n",
    "    raw_df = pd.read_json(input_filename)\n",
    "    return preprocess(raw_df)\n",
    "\n",
    "print 'OK'\n"
   ]
  },
  {
   "cell_type": "markdown",
   "metadata": {},
   "source": [
    "* * *\n",
    "\n",
    "### Horários de Tweets"
   ]
  },
  {
   "cell_type": "code",
   "execution_count": null,
   "metadata": {
    "collapsed": false
   },
   "outputs": [],
   "source": [
    "tweets['created_at'] = pd.to_datetime(pd.Series(tweets['created_at']))\n",
    "\n",
    "tweets.set_index('created_at', drop=False, inplace=True)\n",
    "\n",
    "tweets.index = tweets.index.tz_localize('GMT')\n",
    "tweets.index = tweets.index - DateOffset(hours = 3)\n",
    "tweets.index\n",
    "\n",
    "tweets.head()"
   ]
  },
  {
   "cell_type": "code",
   "execution_count": null,
   "metadata": {
    "collapsed": false
   },
   "outputs": [],
   "source": [
    "tweets30s = tweets['created_at'].resample('1h', how='count')\n",
    "tweets30s.head()"
   ]
  },
  {
   "cell_type": "code",
   "execution_count": null,
   "metadata": {
    "collapsed": false
   },
   "outputs": [],
   "source": [
    "avg = tweets30s.mean()\n",
    "\n",
    "vincent.core.initialize_notebook()\n",
    "area = vincent.Area(tweets30s)\n",
    "area.colors(brew='Spectral')\n",
    "area.display()"
   ]
  },
  {
   "cell_type": "markdown",
   "metadata": {},
   "source": [
    "* * *\n",
    "\n",
    "### Testes sentimental analysis"
   ]
  },
  {
   "cell_type": "code",
   "execution_count": null,
   "metadata": {
    "collapsed": false
   },
   "outputs": [],
   "source": [
    "emoticons_str = r\"\"\"\n",
    "    (?:\n",
    "        [:=;] # Eyes\n",
    "        [oO\\-]? # Nose (optional)\n",
    "        [D\\)\\]\\(\\]/\\\\OpP] # Mouth\n",
    "    )\"\"\"\n",
    " \n",
    "regex_str = [\n",
    "    emoticons_str,\n",
    "    r'<[^>]+>', # HTML tags\n",
    "    r'(?:@[\\w_]+)', # @-mentions\n",
    "    r\"(?:\\#+[\\w_]+[\\w\\'_\\-]*[\\w_]+)\", # hash-tags\n",
    "    r'http[s]?://(?:[a-z]|[0-9]|[$-_@.&+]|[!*\\(\\),]|(?:%[0-9a-f][0-9a-f]))+', # URLs\n",
    " \n",
    "    r'(?:(?:\\d+,?)+(?:\\.?\\d+)?)', # numbers\n",
    "    r\"(?:[a-z][a-z'\\-_]+[a-z])\", # words with - and '\n",
    "    r'(?:[\\w_]+)', # other words\n",
    "    r'(?:\\S)' # anything else\n",
    "]\n",
    "    \n",
    "tokens_re = re.compile(r'('+'|'.join(regex_str)+')', re.VERBOSE | re.IGNORECASE)\n",
    "emoticon_re = re.compile(r'^'+emoticons_str+'$', re.VERBOSE | re.IGNORECASE)\n",
    " \n",
    "def tokenize(s):\n",
    "    return tokens_re.findall(s)\n",
    " \n",
    "def preprocess(s, lowercase=True):\n",
    "    tokens = tokenize(s)\n",
    "    if lowercase:\n",
    "        tokens = [token if emoticon_re.search(token) else token.lower() for token in tokens]\n",
    "    return tokens\n",
    " \n",
    "tweet = \"RT @medeirosthiiago: testando exemplo TCC! :D http://example.com #ImpeachmentDay\"\n",
    "print(preprocess(tweet))\n",
    "# ['RT', '@marcobonzanini', ':', 'just', 'an', 'example', '!', ':D', 'http://example.com', '#NLP']\n"
   ]
  }
 ],
 "metadata": {
  "kernelspec": {
   "display_name": "Python 2",
   "language": "python",
   "name": "python2"
  },
  "language_info": {
   "codemirror_mode": {
    "name": "ipython",
    "version": 2
   },
   "file_extension": ".py",
   "mimetype": "text/x-python",
   "name": "python",
   "nbconvert_exporter": "python",
   "pygments_lexer": "ipython2",
   "version": "2.7.11"
  }
 },
 "nbformat": 4,
 "nbformat_minor": 0
}
