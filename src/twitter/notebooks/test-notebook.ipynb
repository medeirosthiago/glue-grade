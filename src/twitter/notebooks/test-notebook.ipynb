{
 "cells": [
  {
   "cell_type": "code",
   "execution_count": 2,
   "metadata": {
    "collapsed": false
   },
   "outputs": [
    {
     "name": "stdout",
     "output_type": "stream",
     "text": [
      "[nltk_data] Downloading package punkt to /Users/thiago/nltk_data...\n",
      "[nltk_data]   Package punkt is already up-to-date!\n",
      "[nltk_data] Downloading package mac_morpho to\n",
      "[nltk_data]     /Users/thiago/nltk_data...\n",
      "[nltk_data]   Package mac_morpho is already up-to-date!\n",
      "[nltk_data] Downloading package stopwords to\n",
      "[nltk_data]     /Users/thiago/nltk_data...\n",
      "[nltk_data]   Package stopwords is already up-to-date!\n"
     ]
    },
    {
     "data": {
      "text/plain": [
       "True"
      ]
     },
     "execution_count": 2,
     "metadata": {},
     "output_type": "execute_result"
    }
   ],
   "source": [
    "%matplotlib inline\n",
    "\n",
    "import folium\n",
    "import json\n",
    "import matplotlib as mpl\n",
    "import matplotlib.pyplot as plt\n",
    "import nltk\n",
    "import numpy as np\n",
    "import operator \n",
    "import os\n",
    "import pandas as pd\n",
    "import plotly.plotly as py\n",
    "import pytz\n",
    "import random\n",
    "import re\n",
    "import seaborn as sns\n",
    "import string\n",
    "import sys\n",
    "import time\n",
    "import vincent\n",
    "\n",
    "from collections import Counter\n",
    "from collections import defaultdict\n",
    "from datetime import datetime\n",
    "from matplotlib import dates\n",
    "from matplotlib import rcParams\n",
    "from matplotlib.ticker import MaxNLocator\n",
    "from mpltools import style\n",
    "from nltk import FreqDist\n",
    "from nltk import bigrams \n",
    "from nltk.tokenize import word_tokenize\n",
    "from nltk.corpus import stopwords\n",
    "from os import path\n",
    "from pandas.tseries.resample import TimeGrouper\n",
    "from pandas.tseries.offsets import DateOffset\n",
    "from scipy.misc import imread\n",
    "from textblob import TextBlob\n",
    "from wordcloud import WordCloud, STOPWORDS, ImageColorGenerator\n",
    "\n",
    "nltk.download('punkt')\n",
    "nltk.download('mac_morpho')\n",
    "nltk.download('stopwords')"
   ]
  },
  {
   "cell_type": "code",
   "execution_count": 3,
   "metadata": {
    "collapsed": false
   },
   "outputs": [
    {
     "name": "stdout",
     "output_type": "stream",
     "text": [
      "OK!\n"
     ]
    }
   ],
   "source": [
    "sns.set_palette(\"deep\", desat=.6)\n",
    "sns.set_context(rc={\"figure.figsize\": (8, 4)})\n",
    "style.use('ggplot')\n",
    "rcParams['axes.labelsize'] = 9\n",
    "rcParams['xtick.labelsize'] = 9\n",
    "rcParams['ytick.labelsize'] = 9\n",
    "rcParams['legend.fontsize'] = 7\n",
    "# rcParams['font.serif'] = ['Computer Modern Roman']\n",
    "rcParams['font.serif'] = ['Ubuntu']\n",
    "rcParams['text.usetex'] = False\n",
    "rcParams['figure.figsize'] = 20, 10\n",
    "\n",
    "# pd.set_option('display.max_colwidth', 200)\n",
    "# pd.options.display.mpl_style = 'default'\n",
    "# matplotlib.style.use('ggplot')\n",
    "# sns.set_context('talk')\n",
    "# sns.set_style('whitegrid')\n",
    "\n",
    "print 'OK!'"
   ]
  },
  {
   "cell_type": "markdown",
   "metadata": {},
   "source": [
    "* * *\n",
    "\n",
    "### Testando *folium* e *data frames*"
   ]
  },
  {
   "cell_type": "code",
   "execution_count": 4,
   "metadata": {
    "collapsed": false
   },
   "outputs": [
    {
     "name": "stdout",
     "output_type": "stream",
     "text": [
      "OK!\n"
     ]
    }
   ],
   "source": [
    "tweets = pd.read_json(\"data/small-data-fixed.json\")\n",
    "print 'OK!'"
   ]
  },
  {
   "cell_type": "code",
   "execution_count": 5,
   "metadata": {
    "collapsed": false
   },
   "outputs": [
    {
     "data": {
      "text/plain": [
       "pandas.core.frame.DataFrame"
      ]
     },
     "execution_count": 5,
     "metadata": {},
     "output_type": "execute_result"
    }
   ],
   "source": [
    "type(tweets)"
   ]
  },
  {
   "cell_type": "code",
   "execution_count": 6,
   "metadata": {
    "collapsed": false
   },
   "outputs": [
    {
     "name": "stdout",
     "output_type": "stream",
     "text": [
      "<class 'pandas.core.frame.DataFrame'>\n",
      "Int64Index: 358293 entries, 0 to 358292\n",
      "Data columns (total 31 columns):\n",
      "contributors                 0 non-null float64\n",
      "coordinates                  470 non-null object\n",
      "created_at                   358293 non-null datetime64[ns]\n",
      "entities                     358293 non-null object\n",
      "extended_entities            164504 non-null object\n",
      "favorite_count               358293 non-null int64\n",
      "favorited                    358293 non-null bool\n",
      "filter_level                 358293 non-null object\n",
      "geo                          470 non-null object\n",
      "id                           358293 non-null int64\n",
      "id_str                       358293 non-null int64\n",
      "in_reply_to_screen_name      4820 non-null object\n",
      "in_reply_to_status_id        3303 non-null float64\n",
      "in_reply_to_status_id_str    3303 non-null float64\n",
      "in_reply_to_user_id          4820 non-null float64\n",
      "in_reply_to_user_id_str      4820 non-null float64\n",
      "is_quote_status              358293 non-null bool\n",
      "lang                         358293 non-null object\n",
      "place                        7803 non-null object\n",
      "possibly_sensitive           197101 non-null float64\n",
      "quoted_status                18300 non-null object\n",
      "quoted_status_id             18300 non-null float64\n",
      "quoted_status_id_str         18300 non-null float64\n",
      "retweet_count                358293 non-null int64\n",
      "retweeted                    358293 non-null bool\n",
      "retweeted_status             258109 non-null object\n",
      "source                       358293 non-null object\n",
      "text                         358293 non-null object\n",
      "timestamp_ms                 358293 non-null datetime64[ns]\n",
      "truncated                    358293 non-null bool\n",
      "user                         358293 non-null object\n",
      "dtypes: bool(4), datetime64[ns](2), float64(8), int64(4), object(13)\n",
      "memory usage: 77.9+ MB\n"
     ]
    }
   ],
   "source": [
    "tweets.info()"
   ]
  },
  {
   "cell_type": "code",
   "execution_count": 7,
   "metadata": {
    "collapsed": false
   },
   "outputs": [
    {
     "name": "stdout",
     "output_type": "stream",
     "text": [
      "[-19.83755667, -43.98846667]\n"
     ]
    }
   ],
   "source": [
    "test = tweets['coordinates'][96]['coordinates'][::-1]\n",
    "print test\n",
    "# print tweets['coordinates'][257]"
   ]
  },
  {
   "cell_type": "code",
   "execution_count": 47,
   "metadata": {
    "collapsed": false
   },
   "outputs": [
    {
     "name": "stdout",
     "output_type": "stream",
     "text": [
      "{u'type': u'Point', u'coordinates': [-43.98846667, -19.83755667]}\n",
      "[-19.83755667, -43.98846667]\n"
     ]
    }
   ],
   "source": [
    "# test['coordinates'][1][0]\n",
    "test2 = [test['coordinates'][1],test['coordinates'][0]]\n",
    "print test\n",
    "print test2\n"
   ]
  },
  {
   "cell_type": "code",
   "execution_count": 41,
   "metadata": {
    "collapsed": false
   },
   "outputs": [
    {
     "name": "stdout",
     "output_type": "stream",
     "text": [
      "{u'type': u'Point', u'coordinates': [-43.98846667, -19.83755667]}\n"
     ]
    },
    {
     "data": {
      "text/plain": [
       "dict"
      ]
     },
     "execution_count": 41,
     "metadata": {},
     "output_type": "execute_result"
    }
   ],
   "source": [
    "print test\n",
    "type(test)"
   ]
  },
  {
   "cell_type": "code",
   "execution_count": 24,
   "metadata": {
    "collapsed": false
   },
   "outputs": [
    {
     "data": {
      "text/plain": [
       "[-19.83755667, -43.98846667]"
      ]
     },
     "execution_count": 24,
     "metadata": {},
     "output_type": "execute_result"
    }
   ],
   "source": [
    "tweets['coordinates'][~tweets['coordinates'].isnull()][96]['coordinates'][::-1]"
   ]
  },
  {
   "cell_type": "code",
   "execution_count": 8,
   "metadata": {
    "collapsed": false
   },
   "outputs": [
    {
     "data": {
      "text/plain": [
       "96      [-19.83755667, -43.98846667]\n",
       "257       [-22.4835006, -44.0721959]\n",
       "598       [-22.2458872, -49.9429378]\n",
       "1428            [-15.7785, -47.9287]\n",
       "1572    [-15.79442326, -47.88279271]\n",
       "1615              [38.9901, -9.1413]\n",
       "1701       [-19.83754, -43.98848333]\n",
       "1723        [-15.7835, -47.89916389]\n",
       "3149    [-22.96394383, -43.17408138]\n",
       "3346          [-22.96423, -43.17109]\n",
       "3594    [-20.32700724, -40.33692957]\n",
       "4338      [-21.6855632, -43.3545121]\n",
       "4510      [-29.6890964, -51.1366438]\n",
       "4537    [-22.88908811, -43.43264018]\n",
       "4886        [-29.68912, -51.1366868]\n",
       "6737              [19.0728, 72.8826]\n",
       "7284    [-23.65133278, -46.75984952]\n",
       "7351            [-19.9319, -44.0539]\n",
       "7611      [-20.9308903, -54.9694217]\n",
       "7851      [-25.6440025, -49.3246874]\n",
       "Name: coordinates, dtype: object"
      ]
     },
     "execution_count": 8,
     "metadata": {},
     "output_type": "execute_result"
    }
   ],
   "source": [
    "coords = tweets['coordinates']\n",
    "coords = coords[~coords.isnull()]\n",
    "coords = coords.apply(lambda d: d['coordinates'][::-1])\n",
    "coords.head(20)"
   ]
  },
  {
   "cell_type": "code",
   "execution_count": 12,
   "metadata": {
    "collapsed": false
   },
   "outputs": [
    {
     "name": "stdout",
     "output_type": "stream",
     "text": [
      "96        [-19.83755667, -43.98846667]\n",
      "257         [-22.4835006, -44.0721959]\n",
      "598         [-22.2458872, -49.9429378]\n",
      "1428              [-15.7785, -47.9287]\n",
      "1572      [-15.79442326, -47.88279271]\n",
      "1615                [38.9901, -9.1413]\n",
      "1701         [-19.83754, -43.98848333]\n",
      "1723          [-15.7835, -47.89916389]\n",
      "3149      [-22.96394383, -43.17408138]\n",
      "3346            [-22.96423, -43.17109]\n",
      "3594      [-20.32700724, -40.33692957]\n",
      "4338        [-21.6855632, -43.3545121]\n",
      "4510        [-29.6890964, -51.1366438]\n",
      "4537      [-22.88908811, -43.43264018]\n",
      "4886          [-29.68912, -51.1366868]\n",
      "6737                [19.0728, 72.8826]\n",
      "7284      [-23.65133278, -46.75984952]\n",
      "7351              [-19.9319, -44.0539]\n",
      "7611        [-20.9308903, -54.9694217]\n",
      "7851        [-25.6440025, -49.3246874]\n",
      "8420              [-34.6085, -58.3735]\n",
      "9297      [-15.79641514, -47.87548632]\n",
      "9348      [-15.83634708, -47.86761644]\n",
      "9463              [-5.78333, -35.2167]\n",
      "10439     [-22.97240899, -43.18729227]\n",
      "10754               [38.9901, -9.1413]\n",
      "11580             [-15.7785, -47.9287]\n",
      "11743               [38.9901, -9.1413]\n",
      "12703      [-9.65598512, -35.69951249]\n",
      "13303           [-22.90762, -43.06529]\n",
      "                      ...             \n",
      "335476      [-23.4500816, -46.7893671]\n",
      "336405      [-19.9159613, -43.9442054]\n",
      "337369      [-22.9769098, -43.6991666]\n",
      "337565    [-15.79106017, -47.94210066]\n",
      "338195              [-23.55, -46.6333]\n",
      "341112    [-18.98501827, -40.73845708]\n",
      "341360               [-22.9, -43.2333]\n",
      "342723            [-23.1864, -46.8842]\n",
      "342740     [-15.7995279, -47.86541354]\n",
      "346792    [-26.90423386, -49.08193004]\n",
      "347620            [-33.4569, -70.6483]\n",
      "349565     [-22.92236555, -47.0749108]\n",
      "350077      [-22.0857704, -41.8589337]\n",
      "350881     [-3.73343904, -38.49793471]\n",
      "350906      [-28.6986325, -49.4204571]\n",
      "352677    [-15.86918605, -48.01947054]\n",
      "352790      [-23.0372381, -47.1103175]\n",
      "353430    [-23.60420868, -46.67025577]\n",
      "353607      [-23.4500652, -46.7893637]\n",
      "353632       [-15.796405, -47.9350992]\n",
      "354499    [-15.79106017, -47.94210066]\n",
      "355500         [-23.857395, -46.70543]\n",
      "356622     [-8.52252252, -35.36346755]\n",
      "356832               [-22.9, -43.2333]\n",
      "357312          [-23.56867, -46.64767]\n",
      "357420        [-23.0094199, -43.44034]\n",
      "357450      [-30.0283522, -51.1093104]\n",
      "357532         [-23.857395, -46.70543]\n",
      "357735      [-23.7219117, -46.6242313]\n",
      "357791    [-23.18638889, -45.87861111]\n",
      "Name: coordinates, dtype: object\n"
     ]
    }
   ],
   "source": [
    "print coords"
   ]
  },
  {
   "cell_type": "code",
   "execution_count": 13,
   "metadata": {
    "collapsed": false
   },
   "outputs": [
    {
     "data": {
      "text/plain": [
       "pandas.core.series.Series"
      ]
     },
     "execution_count": 13,
     "metadata": {},
     "output_type": "execute_result"
    }
   ],
   "source": [
    "type(coords)"
   ]
  },
  {
   "cell_type": "code",
   "execution_count": 31,
   "metadata": {
    "collapsed": false
   },
   "outputs": [
    {
     "data": {
      "text/html": [
       "<div style=\"width:100%;\"><div style=\"position:relative;width:100%;height:0;padding-bottom:60%;\"><iframe src=\"data:text/html;base64,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\" style=\"position:absolute;width:100%;height:100%;left:0;top:0;\"></iframe></div></div>"
      ],
      "text/plain": [
       "<folium.folium.Map at 0x5ed9be350>"
      ]
     },
     "execution_count": 31,
     "metadata": {},
     "output_type": "execute_result"
    }
   ],
   "source": [
    "m = folium.Map([-14,-53.25], zoom_start=4)\n",
    "\n",
    "folium.Marker([-19.83755667, -43.98846667],\n",
    "              popup=tweets['text'][257]).add_to(m)\n",
    "\n",
    "m"
   ]
  },
  {
   "cell_type": "code",
   "execution_count": 30,
   "metadata": {
    "collapsed": false
   },
   "outputs": [
    {
     "data": {
      "text/plain": [
       "0    RT @GringaBrazilien: Bom Dia Brasil, #Impeachm...\n",
       "1    RT @marisascruz: NOSSO HINO!\\nNOSSA BANDEIRA!\\...\n",
       "2    RT @GarotaCiume: Não sou petista, só não sou c...\n",
       "3                         #ThauQuerida #ImpeachmentDay\n",
       "4    RT @luadacamz: Eu quero Impeachment desse calo...\n",
       "Name: text, dtype: object"
      ]
     },
     "execution_count": 30,
     "metadata": {},
     "output_type": "execute_result"
    }
   ],
   "source": [
    "tweets.text.head()"
   ]
  },
  {
   "cell_type": "code",
   "execution_count": 31,
   "metadata": {
    "collapsed": false
   },
   "outputs": [
    {
     "data": {
      "text/plain": [
       "0    {u'follow_request_sent': None, u'profile_use_b...\n",
       "1    {u'follow_request_sent': None, u'profile_use_b...\n",
       "2    {u'follow_request_sent': None, u'profile_use_b...\n",
       "3    {u'follow_request_sent': None, u'profile_use_b...\n",
       "4    {u'follow_request_sent': None, u'profile_use_b...\n",
       "Name: user, dtype: object"
      ]
     },
     "execution_count": 31,
     "metadata": {},
     "output_type": "execute_result"
    }
   ],
   "source": [
    "tweets.user.head()"
   ]
  },
  {
   "cell_type": "code",
   "execution_count": null,
   "metadata": {
    "collapsed": false
   },
   "outputs": [],
   "source": [
    "df = pd.DataFrame()\n",
    "df['text'] = tweets['text']\n",
    "df['coordinates'] = tweets['coordinates']\n",
    "df['user'] = tweets['user']\n",
    "df.head()\n",
    "\n",
    "\n",
    "# df['text'] = map(lambda df: df['text'].encode('utf-8'), tweets)\n",
    "# df['user'] = map(lambda df: df['user']['screen_name'], tweets)"
   ]
  },
  {
   "cell_type": "code",
   "execution_count": null,
   "metadata": {
    "collapsed": true
   },
   "outputs": [],
   "source": [
    "def word_in_text(word, text):\n",
    "    word = word.lower()\n",
    "    text = text.lower()\n",
    "    match = re.search(word, text)\n",
    "    if match:\n",
    "        return True\n",
    "    return False\n",
    "\n",
    "tweets['NaoVaiTerGolpe'] = tweets['text'].apply(lambda tweet: word_in_text('NaoVaiTerGolpe', tweet))\n",
    "tweets['TchauQuerida'] = tweets['text'].apply(lambda tweet: word_in_text('TchauQuerida', tweet))\n",
    "tweets['ForaDilma'] = tweets['text'].apply(lambda tweet: word_in_text('ForaDilma', tweet))\n",
    "tweets['BrasilContraOGolpe'] = tweets['text'].apply(lambda tweet: word_in_text('BrasilContraOGolpe', tweet))\n",
    "tweets['ForaCunha'] = tweets['text'].apply(lambda tweet: word_in_text('ForaCunha', tweet))\n",
    "\n",
    "tweets['user'] = map(lambda tweet: tweet['user']['screen_name'], tweets_data)"
   ]
  },
  {
   "cell_type": "markdown",
   "metadata": {},
   "source": [
    "* * * \n",
    "\n",
    "### Funções de teste"
   ]
  },
  {
   "cell_type": "code",
   "execution_count": null,
   "metadata": {
    "collapsed": true
   },
   "outputs": [],
   "source": [
    "def datetimeify(df):\n",
    "    df['created_at'] = pd.DatetimeIndex(df.created_at)\n",
    "    return df"
   ]
  },
  {
   "cell_type": "code",
   "execution_count": null,
   "metadata": {
    "collapsed": true
   },
   "outputs": [],
   "source": [
    "def sentiment(df):\n",
    "    text = df.dropna(subset=['text']).text\n",
    "    sentiment = text.apply(lambda text: TextBlob(text).sentiment)\n",
    "    df['polarity'] = sentiment.apply(lambda sentiment: sentiment.polarity)\n",
    "    df['subjectivity'] = sentiment.apply(lambda sentiment: sentiment.subjectivity)\n",
    "    return df"
   ]
  },
  {
   "cell_type": "code",
   "execution_count": null,
   "metadata": {
    "collapsed": true
   },
   "outputs": [],
   "source": [
    "def influence(df):\n",
    "    internal = np.sqrt(df.user_followers_count.apply(lambda x: x + 1))\n",
    "    external = np.sqrt(df.retweet_count.apply(lambda x: x + 1))\n",
    "    df['influence'] = internal * external\n",
    "    return df"
   ]
  },
  {
   "cell_type": "code",
   "execution_count": null,
   "metadata": {
    "collapsed": true
   },
   "outputs": [],
   "source": [
    "def influenced_polarity(df):\n",
    "    df['influenced_polarity'] = df.polarity * df['influence']\n",
    "    return df"
   ]
  },
  {
   "cell_type": "code",
   "execution_count": null,
   "metadata": {
    "collapsed": true
   },
   "outputs": [],
   "source": [
    "def georeference(df):\n",
    "    def place_to_coordinate(place_str, kind):\n",
    "        if pd.isnull(place_str):\n",
    "            return float('nan')\n",
    "        number_matcher = r'(-?\\d+\\.\\d+)[,\\]]'\n",
    "        coordinates = re.findall(number_matcher, place_str)\n",
    "        coordinate = tuple(float(n) for n in coordinates[:2])\n",
    "\n",
    "        if kind == 'longitude':\n",
    "            return coordinate[0]\n",
    "        elif kind == 'latitude':\n",
    "            return coordinate[1]\n",
    "    df['latitude'] = df.place.apply(place_to_coordinate, kind='latitude')\n",
    "    df['longitude'] = df.place.apply(place_to_coordinate, kind='longitude')\n",
    "\n",
    "    return df"
   ]
  },
  {
   "cell_type": "code",
   "execution_count": null,
   "metadata": {
    "collapsed": true
   },
   "outputs": [],
   "source": [
    "def preprocess(df):\n",
    "    return (df.pipe(datetimeify))"
   ]
  },
  {
   "cell_type": "code",
   "execution_count": null,
   "metadata": {
    "collapsed": true
   },
   "outputs": [],
   "source": [
    "def preprocess_df(df):\n",
    "    cleaned = df.pipe(set_hashtags)\n",
    "    copy = cleaned.copy()\n",
    "    return preprocess(copy)\n"
   ]
  },
  {
   "cell_type": "code",
   "execution_count": null,
   "metadata": {
    "collapsed": false
   },
   "outputs": [],
   "source": [
    "def load_df(input_filename):\n",
    "    raw_df = pd.read_json(input_filename)\n",
    "    return preprocess(raw_df)\n",
    "\n",
    "print 'OK'\n"
   ]
  },
  {
   "cell_type": "markdown",
   "metadata": {},
   "source": [
    "* * *\n",
    "\n",
    "### Horários de Tweets"
   ]
  },
  {
   "cell_type": "code",
   "execution_count": 12,
   "metadata": {
    "collapsed": false
   },
   "outputs": [
    {
     "data": {
      "text/html": [
       "<div>\n",
       "<table border=\"1\" class=\"dataframe\">\n",
       "  <thead>\n",
       "    <tr style=\"text-align: right;\">\n",
       "      <th></th>\n",
       "      <th>contributors</th>\n",
       "      <th>coordinates</th>\n",
       "      <th>created_at</th>\n",
       "      <th>entities</th>\n",
       "      <th>extended_entities</th>\n",
       "      <th>favorite_count</th>\n",
       "      <th>favorited</th>\n",
       "      <th>filter_level</th>\n",
       "      <th>geo</th>\n",
       "      <th>id</th>\n",
       "      <th>...</th>\n",
       "      <th>quoted_status_id</th>\n",
       "      <th>quoted_status_id_str</th>\n",
       "      <th>retweet_count</th>\n",
       "      <th>retweeted</th>\n",
       "      <th>retweeted_status</th>\n",
       "      <th>source</th>\n",
       "      <th>text</th>\n",
       "      <th>timestamp_ms</th>\n",
       "      <th>truncated</th>\n",
       "      <th>user</th>\n",
       "    </tr>\n",
       "    <tr>\n",
       "      <th>created_at</th>\n",
       "      <th></th>\n",
       "      <th></th>\n",
       "      <th></th>\n",
       "      <th></th>\n",
       "      <th></th>\n",
       "      <th></th>\n",
       "      <th></th>\n",
       "      <th></th>\n",
       "      <th></th>\n",
       "      <th></th>\n",
       "      <th></th>\n",
       "      <th></th>\n",
       "      <th></th>\n",
       "      <th></th>\n",
       "      <th></th>\n",
       "      <th></th>\n",
       "      <th></th>\n",
       "      <th></th>\n",
       "      <th></th>\n",
       "      <th></th>\n",
       "      <th></th>\n",
       "    </tr>\n",
       "  </thead>\n",
       "  <tbody>\n",
       "    <tr>\n",
       "      <th>2016-04-17 12:15:21+00:00</th>\n",
       "      <td>NaN</td>\n",
       "      <td>None</td>\n",
       "      <td>2016-04-17 15:15:21</td>\n",
       "      <td>{u'user_mentions': [{u'id': 2294780467, u'indi...</td>\n",
       "      <td>{u'media': [{u'source_user_id': 2294780467, u'...</td>\n",
       "      <td>0</td>\n",
       "      <td>False</td>\n",
       "      <td>low</td>\n",
       "      <td>None</td>\n",
       "      <td>721718699565178880</td>\n",
       "      <td>...</td>\n",
       "      <td>NaN</td>\n",
       "      <td>NaN</td>\n",
       "      <td>0</td>\n",
       "      <td>False</td>\n",
       "      <td>{u'contributors': None, u'truncated': False, u...</td>\n",
       "      <td>&lt;a href=\"http://twitter.com\" rel=\"nofollow\"&gt;Tw...</td>\n",
       "      <td>RT @GringaBrazilien: Bom Dia Brasil, #Impeachm...</td>\n",
       "      <td>2016-04-17 15:15:21.518</td>\n",
       "      <td>False</td>\n",
       "      <td>{u'follow_request_sent': None, u'profile_use_b...</td>\n",
       "    </tr>\n",
       "    <tr>\n",
       "      <th>2016-04-17 12:15:21+00:00</th>\n",
       "      <td>NaN</td>\n",
       "      <td>None</td>\n",
       "      <td>2016-04-17 15:15:21</td>\n",
       "      <td>{u'user_mentions': [{u'id': 87843887, u'indice...</td>\n",
       "      <td>NaN</td>\n",
       "      <td>0</td>\n",
       "      <td>False</td>\n",
       "      <td>low</td>\n",
       "      <td>None</td>\n",
       "      <td>721718699288342528</td>\n",
       "      <td>...</td>\n",
       "      <td>NaN</td>\n",
       "      <td>NaN</td>\n",
       "      <td>0</td>\n",
       "      <td>False</td>\n",
       "      <td>{u'contributors': None, u'truncated': False, u...</td>\n",
       "      <td>&lt;a href=\"http://twitter.com/download/android\" ...</td>\n",
       "      <td>RT @marisascruz: NOSSO HINO!\\nNOSSA BANDEIRA!\\...</td>\n",
       "      <td>2016-04-17 15:15:21.452</td>\n",
       "      <td>False</td>\n",
       "      <td>{u'follow_request_sent': None, u'profile_use_b...</td>\n",
       "    </tr>\n",
       "    <tr>\n",
       "      <th>2016-04-17 12:15:21+00:00</th>\n",
       "      <td>NaN</td>\n",
       "      <td>None</td>\n",
       "      <td>2016-04-17 15:15:21</td>\n",
       "      <td>{u'user_mentions': [{u'id': 206181302, u'indic...</td>\n",
       "      <td>NaN</td>\n",
       "      <td>0</td>\n",
       "      <td>False</td>\n",
       "      <td>low</td>\n",
       "      <td>None</td>\n",
       "      <td>721718699418202112</td>\n",
       "      <td>...</td>\n",
       "      <td>NaN</td>\n",
       "      <td>NaN</td>\n",
       "      <td>0</td>\n",
       "      <td>False</td>\n",
       "      <td>{u'contributors': None, u'truncated': False, u...</td>\n",
       "      <td>&lt;a href=\"http://twitter.com/download/android\" ...</td>\n",
       "      <td>RT @GarotaCiume: Não sou petista, só não sou c...</td>\n",
       "      <td>2016-04-17 15:15:21.483</td>\n",
       "      <td>False</td>\n",
       "      <td>{u'follow_request_sent': None, u'profile_use_b...</td>\n",
       "    </tr>\n",
       "    <tr>\n",
       "      <th>2016-04-17 12:15:21+00:00</th>\n",
       "      <td>NaN</td>\n",
       "      <td>None</td>\n",
       "      <td>2016-04-17 15:15:21</td>\n",
       "      <td>{u'user_mentions': [], u'symbols': [], u'hasht...</td>\n",
       "      <td>NaN</td>\n",
       "      <td>0</td>\n",
       "      <td>False</td>\n",
       "      <td>low</td>\n",
       "      <td>None</td>\n",
       "      <td>721718700496273408</td>\n",
       "      <td>...</td>\n",
       "      <td>NaN</td>\n",
       "      <td>NaN</td>\n",
       "      <td>0</td>\n",
       "      <td>False</td>\n",
       "      <td>NaN</td>\n",
       "      <td>&lt;a href=\"http://twitter.com/#!/download/ipad\" ...</td>\n",
       "      <td>#ThauQuerida #ImpeachmentDay</td>\n",
       "      <td>2016-04-17 15:15:21.740</td>\n",
       "      <td>False</td>\n",
       "      <td>{u'follow_request_sent': None, u'profile_use_b...</td>\n",
       "    </tr>\n",
       "    <tr>\n",
       "      <th>2016-04-17 12:15:22+00:00</th>\n",
       "      <td>NaN</td>\n",
       "      <td>None</td>\n",
       "      <td>2016-04-17 15:15:22</td>\n",
       "      <td>{u'user_mentions': [{u'id': 409967714, u'indic...</td>\n",
       "      <td>NaN</td>\n",
       "      <td>0</td>\n",
       "      <td>False</td>\n",
       "      <td>low</td>\n",
       "      <td>None</td>\n",
       "      <td>721718702153023488</td>\n",
       "      <td>...</td>\n",
       "      <td>NaN</td>\n",
       "      <td>NaN</td>\n",
       "      <td>0</td>\n",
       "      <td>False</td>\n",
       "      <td>{u'contributors': None, u'truncated': False, u...</td>\n",
       "      <td>&lt;a href=\"http://twitter.com/download/android\" ...</td>\n",
       "      <td>RT @luadacamz: Eu quero Impeachment desse calo...</td>\n",
       "      <td>2016-04-17 15:15:22.135</td>\n",
       "      <td>False</td>\n",
       "      <td>{u'follow_request_sent': None, u'profile_use_b...</td>\n",
       "    </tr>\n",
       "  </tbody>\n",
       "</table>\n",
       "<p>5 rows × 31 columns</p>\n",
       "</div>"
      ],
      "text/plain": [
       "                           contributors coordinates          created_at  \\\n",
       "created_at                                                                \n",
       "2016-04-17 12:15:21+00:00           NaN        None 2016-04-17 15:15:21   \n",
       "2016-04-17 12:15:21+00:00           NaN        None 2016-04-17 15:15:21   \n",
       "2016-04-17 12:15:21+00:00           NaN        None 2016-04-17 15:15:21   \n",
       "2016-04-17 12:15:21+00:00           NaN        None 2016-04-17 15:15:21   \n",
       "2016-04-17 12:15:22+00:00           NaN        None 2016-04-17 15:15:22   \n",
       "\n",
       "                                                                    entities  \\\n",
       "created_at                                                                     \n",
       "2016-04-17 12:15:21+00:00  {u'user_mentions': [{u'id': 2294780467, u'indi...   \n",
       "2016-04-17 12:15:21+00:00  {u'user_mentions': [{u'id': 87843887, u'indice...   \n",
       "2016-04-17 12:15:21+00:00  {u'user_mentions': [{u'id': 206181302, u'indic...   \n",
       "2016-04-17 12:15:21+00:00  {u'user_mentions': [], u'symbols': [], u'hasht...   \n",
       "2016-04-17 12:15:22+00:00  {u'user_mentions': [{u'id': 409967714, u'indic...   \n",
       "\n",
       "                                                           extended_entities  \\\n",
       "created_at                                                                     \n",
       "2016-04-17 12:15:21+00:00  {u'media': [{u'source_user_id': 2294780467, u'...   \n",
       "2016-04-17 12:15:21+00:00                                                NaN   \n",
       "2016-04-17 12:15:21+00:00                                                NaN   \n",
       "2016-04-17 12:15:21+00:00                                                NaN   \n",
       "2016-04-17 12:15:22+00:00                                                NaN   \n",
       "\n",
       "                           favorite_count favorited filter_level   geo  \\\n",
       "created_at                                                               \n",
       "2016-04-17 12:15:21+00:00               0     False          low  None   \n",
       "2016-04-17 12:15:21+00:00               0     False          low  None   \n",
       "2016-04-17 12:15:21+00:00               0     False          low  None   \n",
       "2016-04-17 12:15:21+00:00               0     False          low  None   \n",
       "2016-04-17 12:15:22+00:00               0     False          low  None   \n",
       "\n",
       "                                           id  \\\n",
       "created_at                                      \n",
       "2016-04-17 12:15:21+00:00  721718699565178880   \n",
       "2016-04-17 12:15:21+00:00  721718699288342528   \n",
       "2016-04-17 12:15:21+00:00  721718699418202112   \n",
       "2016-04-17 12:15:21+00:00  721718700496273408   \n",
       "2016-04-17 12:15:22+00:00  721718702153023488   \n",
       "\n",
       "                                                 ...                          \\\n",
       "created_at                                       ...                           \n",
       "2016-04-17 12:15:21+00:00                        ...                           \n",
       "2016-04-17 12:15:21+00:00                        ...                           \n",
       "2016-04-17 12:15:21+00:00                        ...                           \n",
       "2016-04-17 12:15:21+00:00                        ...                           \n",
       "2016-04-17 12:15:22+00:00                        ...                           \n",
       "\n",
       "                           quoted_status_id quoted_status_id_str  \\\n",
       "created_at                                                         \n",
       "2016-04-17 12:15:21+00:00               NaN                  NaN   \n",
       "2016-04-17 12:15:21+00:00               NaN                  NaN   \n",
       "2016-04-17 12:15:21+00:00               NaN                  NaN   \n",
       "2016-04-17 12:15:21+00:00               NaN                  NaN   \n",
       "2016-04-17 12:15:22+00:00               NaN                  NaN   \n",
       "\n",
       "                           retweet_count  retweeted  \\\n",
       "created_at                                            \n",
       "2016-04-17 12:15:21+00:00              0      False   \n",
       "2016-04-17 12:15:21+00:00              0      False   \n",
       "2016-04-17 12:15:21+00:00              0      False   \n",
       "2016-04-17 12:15:21+00:00              0      False   \n",
       "2016-04-17 12:15:22+00:00              0      False   \n",
       "\n",
       "                                                            retweeted_status  \\\n",
       "created_at                                                                     \n",
       "2016-04-17 12:15:21+00:00  {u'contributors': None, u'truncated': False, u...   \n",
       "2016-04-17 12:15:21+00:00  {u'contributors': None, u'truncated': False, u...   \n",
       "2016-04-17 12:15:21+00:00  {u'contributors': None, u'truncated': False, u...   \n",
       "2016-04-17 12:15:21+00:00                                                NaN   \n",
       "2016-04-17 12:15:22+00:00  {u'contributors': None, u'truncated': False, u...   \n",
       "\n",
       "                                                                      source  \\\n",
       "created_at                                                                     \n",
       "2016-04-17 12:15:21+00:00  <a href=\"http://twitter.com\" rel=\"nofollow\">Tw...   \n",
       "2016-04-17 12:15:21+00:00  <a href=\"http://twitter.com/download/android\" ...   \n",
       "2016-04-17 12:15:21+00:00  <a href=\"http://twitter.com/download/android\" ...   \n",
       "2016-04-17 12:15:21+00:00  <a href=\"http://twitter.com/#!/download/ipad\" ...   \n",
       "2016-04-17 12:15:22+00:00  <a href=\"http://twitter.com/download/android\" ...   \n",
       "\n",
       "                                                                        text  \\\n",
       "created_at                                                                     \n",
       "2016-04-17 12:15:21+00:00  RT @GringaBrazilien: Bom Dia Brasil, #Impeachm...   \n",
       "2016-04-17 12:15:21+00:00  RT @marisascruz: NOSSO HINO!\\nNOSSA BANDEIRA!\\...   \n",
       "2016-04-17 12:15:21+00:00  RT @GarotaCiume: Não sou petista, só não sou c...   \n",
       "2016-04-17 12:15:21+00:00                       #ThauQuerida #ImpeachmentDay   \n",
       "2016-04-17 12:15:22+00:00  RT @luadacamz: Eu quero Impeachment desse calo...   \n",
       "\n",
       "                                     timestamp_ms truncated  \\\n",
       "created_at                                                    \n",
       "2016-04-17 12:15:21+00:00 2016-04-17 15:15:21.518     False   \n",
       "2016-04-17 12:15:21+00:00 2016-04-17 15:15:21.452     False   \n",
       "2016-04-17 12:15:21+00:00 2016-04-17 15:15:21.483     False   \n",
       "2016-04-17 12:15:21+00:00 2016-04-17 15:15:21.740     False   \n",
       "2016-04-17 12:15:22+00:00 2016-04-17 15:15:22.135     False   \n",
       "\n",
       "                                                                        user  \n",
       "created_at                                                                    \n",
       "2016-04-17 12:15:21+00:00  {u'follow_request_sent': None, u'profile_use_b...  \n",
       "2016-04-17 12:15:21+00:00  {u'follow_request_sent': None, u'profile_use_b...  \n",
       "2016-04-17 12:15:21+00:00  {u'follow_request_sent': None, u'profile_use_b...  \n",
       "2016-04-17 12:15:21+00:00  {u'follow_request_sent': None, u'profile_use_b...  \n",
       "2016-04-17 12:15:22+00:00  {u'follow_request_sent': None, u'profile_use_b...  \n",
       "\n",
       "[5 rows x 31 columns]"
      ]
     },
     "execution_count": 12,
     "metadata": {},
     "output_type": "execute_result"
    }
   ],
   "source": [
    "tweets['created_at'] = pd.to_datetime(pd.Series(tweets['created_at']))\n",
    "\n",
    "tweets.set_index('created_at', drop=False, inplace=True)\n",
    "\n",
    "tweets.index = tweets.index.tz_localize('GMT')\n",
    "tweets.index = tweets.index - DateOffset(hours = 3)\n",
    "tweets.index\n",
    "\n",
    "tweets.head()"
   ]
  },
  {
   "cell_type": "code",
   "execution_count": 13,
   "metadata": {
    "collapsed": false
   },
   "outputs": [
    {
     "data": {
      "text/plain": [
       "created_at\n",
       "2016-04-17 12:00:00+00:00    11536\n",
       "2016-04-17 13:00:00+00:00     9286\n",
       "2016-04-17 14:00:00+00:00    97672\n",
       "2016-04-17 15:00:00+00:00    78594\n",
       "2016-04-17 16:00:00+00:00    43528\n",
       "Freq: H, Name: created_at, dtype: int64"
      ]
     },
     "execution_count": 13,
     "metadata": {},
     "output_type": "execute_result"
    }
   ],
   "source": [
    "tweets30s = tweets['created_at'].resample('1h', how='count')\n",
    "tweets30s.head()"
   ]
  },
  {
   "cell_type": "code",
   "execution_count": 14,
   "metadata": {
    "collapsed": false
   },
   "outputs": [
    {
     "data": {
      "text/html": [
       "\n",
       "           <script>\n",
       "               \n",
       "                function vct_load_lib(url, callback){\n",
       "                      if(typeof d3 !== 'undefined' &&\n",
       "                         url === 'http://d3js.org/d3.v3.min.js'){\n",
       "                        callback()\n",
       "                      }\n",
       "                      var s = document.createElement('script');\n",
       "                      s.src = url;\n",
       "                      s.async = true;\n",
       "                      s.onreadystatechange = s.onload = callback;\n",
       "                      s.onerror = function(){\n",
       "                        console.warn(\"failed to load library \" + url);\n",
       "                        };\n",
       "                      document.getElementsByTagName(\"head\")[0].appendChild(s);\n",
       "                };\n",
       "                var vincent_event = new CustomEvent(\n",
       "                  \"vincent_libs_loaded\",\n",
       "                  {bubbles: true, cancelable: true}\n",
       "                );\n",
       "                \n",
       "               function load_all_libs(){\n",
       "                  console.log('Loading Vincent libs...')\n",
       "                  vct_load_lib('http://d3js.org/d3.v3.min.js', function(){\n",
       "                  vct_load_lib('http://d3js.org/d3.geo.projection.v0.min.js', function(){\n",
       "                  vct_load_lib('http://wrobstory.github.io/d3-cloud/d3.layout.cloud.js', function(){\n",
       "                  vct_load_lib('http://wrobstory.github.io/vega/vega.v1.3.3.js', function(){\n",
       "                  window.dispatchEvent(vincent_event);\n",
       "                  });\n",
       "                  });\n",
       "                  });\n",
       "                  });\n",
       "               };\n",
       "               if(typeof define === \"function\" && define.amd){\n",
       "                    if (window['d3'] === undefined ||\n",
       "                        window['topojson'] === undefined){\n",
       "                        require.config(\n",
       "                            {paths: {\n",
       "                              d3: 'http://d3js.org/d3.v3.min',\n",
       "                              topojson: 'http://d3js.org/topojson.v1.min'\n",
       "                              }\n",
       "                            }\n",
       "                          );\n",
       "                        require([\"d3\"], function(d3){\n",
       "                            console.log('Loading Vincent from require.js...')\n",
       "                            window.d3 = d3;\n",
       "                            require([\"topojson\"], function(topojson){\n",
       "                                window.topojson = topojson;\n",
       "                                load_all_libs();\n",
       "                            });\n",
       "                        });\n",
       "                    } else {\n",
       "                        load_all_libs();\n",
       "                    };\n",
       "               }else{\n",
       "                    console.log('Require.js not found, loading manually...')\n",
       "                    load_all_libs();\n",
       "               };\n",
       "\n",
       "           </script>"
      ],
      "text/plain": [
       "<IPython.core.display.HTML object>"
      ]
     },
     "metadata": {},
     "output_type": "display_data"
    },
    {
     "data": {
      "text/html": [
       "<div id=\"visc7125a015c1443afbbfd409f5739d2e1\"></div>\n",
       "<script>\n",
       "   ( function() {\n",
       "     var _do_plot = function() {\n",
       "       if (typeof vg === 'undefined') {\n",
       "         window.addEventListener('vincent_libs_loaded', _do_plot)\n",
       "         return;\n",
       "       }\n",
       "       vg.parse.spec({\"axes\": [{\"scale\": \"x\", \"type\": \"x\"}, {\"scale\": \"y\", \"type\": \"y\"}], \"data\": [{\"name\": \"table\", \"values\": [{\"col\": \"created_at\", \"idx\": 1460905200000, \"val\": 11536}, {\"col\": \"created_at\", \"idx\": 1460908800000, \"val\": 9286}, {\"col\": \"created_at\", \"idx\": 1460912400000, \"val\": 97672}, {\"col\": \"created_at\", \"idx\": 1460916000000, \"val\": 78594}, {\"col\": \"created_at\", \"idx\": 1460919600000, \"val\": 43528}, {\"col\": \"created_at\", \"idx\": 1460923200000, \"val\": 30934}, {\"col\": \"created_at\", \"idx\": 1460926800000, \"val\": 0}, {\"col\": \"created_at\", \"idx\": 1460930400000, \"val\": 0}, {\"col\": \"created_at\", \"idx\": 1460934000000, \"val\": 0}, {\"col\": \"created_at\", \"idx\": 1460937600000, \"val\": 0}, {\"col\": \"created_at\", \"idx\": 1460941200000, \"val\": 0}, {\"col\": \"created_at\", \"idx\": 1460944800000, \"val\": 86743}]}, {\"name\": \"stats\", \"source\": \"table\", \"transform\": [{\"keys\": [\"data.idx\"], \"type\": \"facet\"}, {\"type\": \"stats\", \"value\": \"data.val\"}]}], \"height\": 500, \"legends\": [], \"marks\": [{\"from\": {\"data\": \"table\", \"transform\": [{\"keys\": [\"data.col\"], \"type\": \"facet\"}, {\"height\": \"data.val\", \"point\": \"data.idx\", \"type\": \"stack\"}]}, \"marks\": [{\"properties\": {\"enter\": {\"fill\": {\"field\": \"data.col\", \"scale\": \"color\"}, \"interpolate\": {\"value\": \"monotone\"}, \"x\": {\"field\": \"data.idx\", \"scale\": \"x\"}, \"y\": {\"field\": \"y\", \"scale\": \"y\"}, \"y2\": {\"field\": \"y2\", \"scale\": \"y\"}}}, \"type\": \"area\"}], \"type\": \"group\"}], \"padding\": \"auto\", \"scales\": [{\"domain\": {\"data\": \"table\", \"field\": \"data.idx\"}, \"name\": \"x\", \"range\": \"width\", \"type\": \"time\", \"zero\": false}, {\"domain\": {\"data\": \"stats\", \"field\": \"sum\"}, \"name\": \"y\", \"nice\": true, \"range\": \"height\"}, {\"domain\": {\"data\": \"table\", \"field\": \"data.col\"}, \"name\": \"color\", \"range\": [\"#9e0142\", \"#d53e4f\", \"#f46d43\", \"#fdae61\", \"#fee08b\", \"#ffffbf\", \"#e6f598\", \"#abdda4\", \"#66c2a5\", \"#3288bd\", \"#5e4fa2\"], \"type\": \"ordinal\"}], \"width\": 960}, function(chart) {\n",
       "         chart({el: \"#visc7125a015c1443afbbfd409f5739d2e1\"}).update();\n",
       "       });\n",
       "     };\n",
       "     _do_plot();\n",
       "   })();\n",
       "</script>\n",
       "<style>.vega canvas {width: 100%;}</style>\n",
       "        "
      ],
      "text/plain": [
       "<IPython.core.display.HTML object>"
      ]
     },
     "metadata": {},
     "output_type": "display_data"
    }
   ],
   "source": [
    "avg = tweets30s.mean()\n",
    "\n",
    "vincent.core.initialize_notebook()\n",
    "area = vincent.Area(tweets30s)\n",
    "area.colors(brew='Spectral')\n",
    "area.display()"
   ]
  },
  {
   "cell_type": "markdown",
   "metadata": {},
   "source": [
    "* * *\n",
    "\n",
    "### Testes sentimental analysis"
   ]
  },
  {
   "cell_type": "code",
   "execution_count": 16,
   "metadata": {
    "collapsed": false
   },
   "outputs": [
    {
     "name": "stdout",
     "output_type": "stream",
     "text": [
      "['rt', '@medeirosthiiago', ':', 'testando', 'exemplo', 'tcc', '!', ':D', 'http://example.com', '#impeachmentday']\n"
     ]
    }
   ],
   "source": [
    "emoticons_str = r\"\"\"\n",
    "    (?:\n",
    "        [:=;] # Eyes\n",
    "        [oO\\-]? # Nose (optional)\n",
    "        [D\\)\\]\\(\\]/\\\\OpP] # Mouth\n",
    "    )\"\"\"\n",
    " \n",
    "regex_str = [\n",
    "    emoticons_str,\n",
    "    r'<[^>]+>', # HTML tags\n",
    "    r'(?:@[\\w_]+)', # @-mentions\n",
    "    r\"(?:\\#+[\\w_]+[\\w\\'_\\-]*[\\w_]+)\", # hash-tags\n",
    "    r'http[s]?://(?:[a-z]|[0-9]|[$-_@.&+]|[!*\\(\\),]|(?:%[0-9a-f][0-9a-f]))+', # URLs\n",
    " \n",
    "    r'(?:(?:\\d+,?)+(?:\\.?\\d+)?)', # numbers\n",
    "    r\"(?:[a-z][a-z'\\-_]+[a-z])\", # words with - and '\n",
    "    r'(?:[\\w_]+)', # other words\n",
    "    r'(?:\\S)' # anything else\n",
    "]\n",
    "    \n",
    "tokens_re = re.compile(r'('+'|'.join(regex_str)+')', re.VERBOSE | re.IGNORECASE)\n",
    "emoticon_re = re.compile(r'^'+emoticons_str+'$', re.VERBOSE | re.IGNORECASE)\n",
    " \n",
    "def tokenize(s):\n",
    "    return tokens_re.findall(s)\n",
    " \n",
    "def preprocess(s, lowercase=True):\n",
    "    tokens = tokenize(s)\n",
    "    if lowercase:\n",
    "        tokens = [token if emoticon_re.search(token) else token.lower() for token in tokens]\n",
    "    return tokens\n",
    " \n",
    "tweet = \"RT @medeirosthiiago: testando exemplo TCC! :D http://example.com #ImpeachmentDay\"\n",
    "print(preprocess(tweet))\n",
    "# ['RT', '@marcobonzanini', ':', 'just', 'an', 'example', '!', ':D', 'http://example.com', '#NLP']\n"
   ]
  }
 ],
 "metadata": {
  "kernelspec": {
   "display_name": "Python 2",
   "language": "python",
   "name": "python2"
  },
  "language_info": {
   "codemirror_mode": {
    "name": "ipython",
    "version": 2
   },
   "file_extension": ".py",
   "mimetype": "text/x-python",
   "name": "python",
   "nbconvert_exporter": "python",
   "pygments_lexer": "ipython2",
   "version": "2.7.11"
  }
 },
 "nbformat": 4,
 "nbformat_minor": 0
}
