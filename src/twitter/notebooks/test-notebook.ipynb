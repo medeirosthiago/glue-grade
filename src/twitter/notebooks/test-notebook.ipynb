{
 "cells": [
  {
   "cell_type": "code",
   "execution_count": 2,
   "metadata": {
    "collapsed": false
   },
   "outputs": [
    {
     "name": "stdout",
     "output_type": "stream",
     "text": [
      "[nltk_data] Downloading package punkt to /Users/thiago/nltk_data...\n",
      "[nltk_data]   Package punkt is already up-to-date!\n",
      "[nltk_data] Downloading package mac_morpho to\n",
      "[nltk_data]     /Users/thiago/nltk_data...\n",
      "[nltk_data]   Package mac_morpho is already up-to-date!\n",
      "[nltk_data] Downloading package stopwords to\n",
      "[nltk_data]     /Users/thiago/nltk_data...\n",
      "[nltk_data]   Package stopwords is already up-to-date!\n"
     ]
    },
    {
     "data": {
      "text/plain": [
       "True"
      ]
     },
     "execution_count": 2,
     "metadata": {},
     "output_type": "execute_result"
    }
   ],
   "source": [
    "%matplotlib inline\n",
    "\n",
    "import folium\n",
    "import json\n",
    "import matplotlib as mpl\n",
    "import matplotlib.pyplot as plt\n",
    "import nltk\n",
    "import numpy as np\n",
    "import operator \n",
    "import os\n",
    "import pandas as pd\n",
    "import pytz\n",
    "import random\n",
    "import re\n",
    "import seaborn as sns\n",
    "import string\n",
    "import sys\n",
    "import time\n",
    "import vincent\n",
    "\n",
    "from collections import Counter\n",
    "from collections import defaultdict\n",
    "from datetime import datetime\n",
    "from matplotlib import dates\n",
    "from matplotlib import rcParams\n",
    "from matplotlib.ticker import MaxNLocator\n",
    "from mpltools import style\n",
    "from nltk import FreqDist\n",
    "from nltk import bigrams \n",
    "from nltk.tokenize import word_tokenize\n",
    "from nltk.corpus import stopwords\n",
    "from os import path\n",
    "from pandas.tseries.resample import TimeGrouper\n",
    "from pandas.tseries.offsets import DateOffset\n",
    "from scipy.misc import imread\n",
    "from textblob import TextBlob\n",
    "from wordcloud import WordCloud, STOPWORDS, ImageColorGenerator\n",
    "\n",
    "nltk.download('punkt')\n",
    "nltk.download('mac_morpho')\n",
    "nltk.download('stopwords')"
   ]
  },
  {
   "cell_type": "code",
   "execution_count": 3,
   "metadata": {
    "collapsed": false
   },
   "outputs": [
    {
     "name": "stdout",
     "output_type": "stream",
     "text": [
      "OK!\n"
     ]
    }
   ],
   "source": [
    "sns.set_palette(\"deep\", desat=.6)\n",
    "sns.set_context(rc={\"figure.figsize\": (8, 4)})\n",
    "style.use('ggplot')\n",
    "rcParams['axes.labelsize'] = 9\n",
    "rcParams['xtick.labelsize'] = 9\n",
    "rcParams['ytick.labelsize'] = 9\n",
    "rcParams['legend.fontsize'] = 7\n",
    "# rcParams['font.serif'] = ['Computer Modern Roman']\n",
    "rcParams['font.serif'] = ['Ubuntu']\n",
    "rcParams['text.usetex'] = False\n",
    "rcParams['figure.figsize'] = 20, 10\n",
    "\n",
    "# pd.set_option('display.max_colwidth', 200)\n",
    "# pd.options.display.mpl_style = 'default'\n",
    "# matplotlib.style.use('ggplot')\n",
    "# sns.set_context('talk')\n",
    "# sns.set_style('whitegrid')\n",
    "\n",
    "print 'OK!'"
   ]
  },
  {
   "cell_type": "markdown",
   "metadata": {},
   "source": [
    "* * *\n",
    "\n",
    "### Testando *folium* e *data frames*"
   ]
  },
  {
   "cell_type": "code",
   "execution_count": 4,
   "metadata": {
    "collapsed": false
   },
   "outputs": [
    {
     "name": "stdout",
     "output_type": "stream",
     "text": [
      "OK!\n"
     ]
    }
   ],
   "source": [
    "df = pd.read_json(\"data/big-data-fixed.json\")\n",
    "print 'OK!'\n",
    "# df.info()"
   ]
  },
  {
   "cell_type": "code",
   "execution_count": 5,
   "metadata": {
    "collapsed": false
   },
   "outputs": [
    {
     "name": "stdout",
     "output_type": "stream",
     "text": [
      "<class 'pandas.core.frame.DataFrame'>\n",
      "Int64Index: 503017 entries, 0 to 503016\n",
      "Data columns (total 31 columns):\n",
      "contributors                 0 non-null float64\n",
      "coordinates                  430 non-null object\n",
      "created_at                   503017 non-null datetime64[ns]\n",
      "entities                     503017 non-null object\n",
      "extended_entities            223637 non-null object\n",
      "favorite_count               503017 non-null int64\n",
      "favorited                    503017 non-null bool\n",
      "filter_level                 503017 non-null object\n",
      "geo                          430 non-null object\n",
      "id                           503017 non-null int64\n",
      "id_str                       503017 non-null int64\n",
      "in_reply_to_screen_name      6889 non-null object\n",
      "in_reply_to_status_id        4927 non-null float64\n",
      "in_reply_to_status_id_str    4927 non-null float64\n",
      "in_reply_to_user_id          6889 non-null float64\n",
      "in_reply_to_user_id_str      6889 non-null float64\n",
      "is_quote_status              503017 non-null bool\n",
      "lang                         503017 non-null object\n",
      "place                        11616 non-null object\n",
      "possibly_sensitive           270536 non-null float64\n",
      "quoted_status                26073 non-null object\n",
      "quoted_status_id             26073 non-null float64\n",
      "quoted_status_id_str         26073 non-null float64\n",
      "retweet_count                503017 non-null int64\n",
      "retweeted                    503017 non-null bool\n",
      "retweeted_status             352158 non-null object\n",
      "source                       503017 non-null object\n",
      "text                         503017 non-null object\n",
      "timestamp_ms                 503017 non-null datetime64[ns]\n",
      "truncated                    503017 non-null bool\n",
      "user                         503017 non-null object\n",
      "dtypes: bool(4), datetime64[ns](2), float64(8), int64(4), object(13)\n",
      "memory usage: 109.4+ MB\n"
     ]
    }
   ],
   "source": [
    "df.info()"
   ]
  },
  {
   "cell_type": "code",
   "execution_count": 8,
   "metadata": {
    "collapsed": false
   },
   "outputs": [
    {
     "data": {
      "text/html": [
       "<div>\n",
       "<table border=\"1\" class=\"dataframe\">\n",
       "  <thead>\n",
       "    <tr style=\"text-align: right;\">\n",
       "      <th></th>\n",
       "      <th>contributors</th>\n",
       "      <th>coordinates</th>\n",
       "      <th>created_at</th>\n",
       "      <th>entities</th>\n",
       "      <th>extended_entities</th>\n",
       "      <th>favorite_count</th>\n",
       "      <th>favorited</th>\n",
       "      <th>filter_level</th>\n",
       "      <th>geo</th>\n",
       "      <th>id</th>\n",
       "      <th>...</th>\n",
       "      <th>quoted_status_id</th>\n",
       "      <th>quoted_status_id_str</th>\n",
       "      <th>retweet_count</th>\n",
       "      <th>retweeted</th>\n",
       "      <th>retweeted_status</th>\n",
       "      <th>source</th>\n",
       "      <th>text</th>\n",
       "      <th>timestamp_ms</th>\n",
       "      <th>truncated</th>\n",
       "      <th>user</th>\n",
       "    </tr>\n",
       "    <tr>\n",
       "      <th>created_at</th>\n",
       "      <th></th>\n",
       "      <th></th>\n",
       "      <th></th>\n",
       "      <th></th>\n",
       "      <th></th>\n",
       "      <th></th>\n",
       "      <th></th>\n",
       "      <th></th>\n",
       "      <th></th>\n",
       "      <th></th>\n",
       "      <th></th>\n",
       "      <th></th>\n",
       "      <th></th>\n",
       "      <th></th>\n",
       "      <th></th>\n",
       "      <th></th>\n",
       "      <th></th>\n",
       "      <th></th>\n",
       "      <th></th>\n",
       "      <th></th>\n",
       "      <th></th>\n",
       "    </tr>\n",
       "  </thead>\n",
       "  <tbody>\n",
       "    <tr>\n",
       "      <th>2016-04-17 09:13:02+00:00</th>\n",
       "      <td>NaN</td>\n",
       "      <td>None</td>\n",
       "      <td>2016-04-17 12:13:02</td>\n",
       "      <td>{u'user_mentions': [], u'symbols': [], u'hasht...</td>\n",
       "      <td>{u'media': [{u'source_user_id': 383766749, u's...</td>\n",
       "      <td>0</td>\n",
       "      <td>False</td>\n",
       "      <td>low</td>\n",
       "      <td>None</td>\n",
       "      <td>721672818824462336</td>\n",
       "      <td>...</td>\n",
       "      <td>7.216728e+17</td>\n",
       "      <td>7.216728e+17</td>\n",
       "      <td>0</td>\n",
       "      <td>False</td>\n",
       "      <td>NaN</td>\n",
       "      <td>&lt;a href=\"https://about.twitter.com/products/tw...</td>\n",
       "      <td>#VzlaRepudiaAlChavismo #FORAdilma #FORAlula #F...</td>\n",
       "      <td>2016-04-17 12:13:02.697</td>\n",
       "      <td>False</td>\n",
       "      <td>{u'follow_request_sent': None, u'profile_use_b...</td>\n",
       "    </tr>\n",
       "    <tr>\n",
       "      <th>2016-04-17 09:13:03+00:00</th>\n",
       "      <td>NaN</td>\n",
       "      <td>None</td>\n",
       "      <td>2016-04-17 12:13:03</td>\n",
       "      <td>{u'user_mentions': [], u'symbols': [], u'hasht...</td>\n",
       "      <td>NaN</td>\n",
       "      <td>0</td>\n",
       "      <td>False</td>\n",
       "      <td>low</td>\n",
       "      <td>None</td>\n",
       "      <td>721672820430925824</td>\n",
       "      <td>...</td>\n",
       "      <td>NaN</td>\n",
       "      <td>NaN</td>\n",
       "      <td>0</td>\n",
       "      <td>False</td>\n",
       "      <td>NaN</td>\n",
       "      <td>&lt;a href=\"http://twitter.com\" rel=\"nofollow\"&gt;Tw...</td>\n",
       "      <td>Gente... Renan Calheiros? Cê jura?\\n#Impeachme...</td>\n",
       "      <td>2016-04-17 12:13:03.080</td>\n",
       "      <td>False</td>\n",
       "      <td>{u'follow_request_sent': None, u'profile_use_b...</td>\n",
       "    </tr>\n",
       "    <tr>\n",
       "      <th>2016-04-17 09:13:02+00:00</th>\n",
       "      <td>NaN</td>\n",
       "      <td>None</td>\n",
       "      <td>2016-04-17 12:13:02</td>\n",
       "      <td>{u'user_mentions': [], u'symbols': [], u'hasht...</td>\n",
       "      <td>{u'media': [{u'expanded_url': u'http://twitter...</td>\n",
       "      <td>0</td>\n",
       "      <td>False</td>\n",
       "      <td>low</td>\n",
       "      <td>None</td>\n",
       "      <td>721672818467987456</td>\n",
       "      <td>...</td>\n",
       "      <td>NaN</td>\n",
       "      <td>NaN</td>\n",
       "      <td>0</td>\n",
       "      <td>False</td>\n",
       "      <td>NaN</td>\n",
       "      <td>&lt;a href=\"http://twitter.com/download/iphone\" r...</td>\n",
       "      <td>cara dos governistas qnd a dilma cair  #Impeac...</td>\n",
       "      <td>2016-04-17 12:13:02.612</td>\n",
       "      <td>False</td>\n",
       "      <td>{u'follow_request_sent': None, u'profile_use_b...</td>\n",
       "    </tr>\n",
       "    <tr>\n",
       "      <th>2016-04-17 09:13:03+00:00</th>\n",
       "      <td>NaN</td>\n",
       "      <td>None</td>\n",
       "      <td>2016-04-17 12:13:03</td>\n",
       "      <td>{u'user_mentions': [], u'symbols': [], u'hasht...</td>\n",
       "      <td>NaN</td>\n",
       "      <td>0</td>\n",
       "      <td>False</td>\n",
       "      <td>low</td>\n",
       "      <td>None</td>\n",
       "      <td>721672823090114562</td>\n",
       "      <td>...</td>\n",
       "      <td>NaN</td>\n",
       "      <td>NaN</td>\n",
       "      <td>0</td>\n",
       "      <td>False</td>\n",
       "      <td>NaN</td>\n",
       "      <td>&lt;a href=\"http://www.twitter.com\" rel=\"nofollow...</td>\n",
       "      <td>Hoje é um dia importante pro Brasil !!! Eu apo...</td>\n",
       "      <td>2016-04-17 12:13:03.714</td>\n",
       "      <td>False</td>\n",
       "      <td>{u'follow_request_sent': None, u'profile_use_b...</td>\n",
       "    </tr>\n",
       "    <tr>\n",
       "      <th>2016-04-17 09:13:03+00:00</th>\n",
       "      <td>NaN</td>\n",
       "      <td>None</td>\n",
       "      <td>2016-04-17 12:13:03</td>\n",
       "      <td>{u'user_mentions': [{u'id': 3931855841, u'indi...</td>\n",
       "      <td>{u'media': [{u'source_user_id': 3931855841, u'...</td>\n",
       "      <td>0</td>\n",
       "      <td>False</td>\n",
       "      <td>low</td>\n",
       "      <td>None</td>\n",
       "      <td>721672823731789824</td>\n",
       "      <td>...</td>\n",
       "      <td>NaN</td>\n",
       "      <td>NaN</td>\n",
       "      <td>0</td>\n",
       "      <td>False</td>\n",
       "      <td>{u'contributors': None, u'truncated': False, u...</td>\n",
       "      <td>&lt;a href=\"http://twitter.com/download/iphone\" r...</td>\n",
       "      <td>RT @Seu_Demo: Tudo pronto pro #ImpeachmentDay\\...</td>\n",
       "      <td>2016-04-17 12:13:03.867</td>\n",
       "      <td>False</td>\n",
       "      <td>{u'follow_request_sent': None, u'profile_use_b...</td>\n",
       "    </tr>\n",
       "  </tbody>\n",
       "</table>\n",
       "<p>5 rows × 31 columns</p>\n",
       "</div>"
      ],
      "text/plain": [
       "                           contributors coordinates          created_at  \\\n",
       "created_at                                                                \n",
       "2016-04-17 09:13:02+00:00           NaN        None 2016-04-17 12:13:02   \n",
       "2016-04-17 09:13:03+00:00           NaN        None 2016-04-17 12:13:03   \n",
       "2016-04-17 09:13:02+00:00           NaN        None 2016-04-17 12:13:02   \n",
       "2016-04-17 09:13:03+00:00           NaN        None 2016-04-17 12:13:03   \n",
       "2016-04-17 09:13:03+00:00           NaN        None 2016-04-17 12:13:03   \n",
       "\n",
       "                                                                    entities  \\\n",
       "created_at                                                                     \n",
       "2016-04-17 09:13:02+00:00  {u'user_mentions': [], u'symbols': [], u'hasht...   \n",
       "2016-04-17 09:13:03+00:00  {u'user_mentions': [], u'symbols': [], u'hasht...   \n",
       "2016-04-17 09:13:02+00:00  {u'user_mentions': [], u'symbols': [], u'hasht...   \n",
       "2016-04-17 09:13:03+00:00  {u'user_mentions': [], u'symbols': [], u'hasht...   \n",
       "2016-04-17 09:13:03+00:00  {u'user_mentions': [{u'id': 3931855841, u'indi...   \n",
       "\n",
       "                                                           extended_entities  \\\n",
       "created_at                                                                     \n",
       "2016-04-17 09:13:02+00:00  {u'media': [{u'source_user_id': 383766749, u's...   \n",
       "2016-04-17 09:13:03+00:00                                                NaN   \n",
       "2016-04-17 09:13:02+00:00  {u'media': [{u'expanded_url': u'http://twitter...   \n",
       "2016-04-17 09:13:03+00:00                                                NaN   \n",
       "2016-04-17 09:13:03+00:00  {u'media': [{u'source_user_id': 3931855841, u'...   \n",
       "\n",
       "                           favorite_count favorited filter_level   geo  \\\n",
       "created_at                                                               \n",
       "2016-04-17 09:13:02+00:00               0     False          low  None   \n",
       "2016-04-17 09:13:03+00:00               0     False          low  None   \n",
       "2016-04-17 09:13:02+00:00               0     False          low  None   \n",
       "2016-04-17 09:13:03+00:00               0     False          low  None   \n",
       "2016-04-17 09:13:03+00:00               0     False          low  None   \n",
       "\n",
       "                                           id  \\\n",
       "created_at                                      \n",
       "2016-04-17 09:13:02+00:00  721672818824462336   \n",
       "2016-04-17 09:13:03+00:00  721672820430925824   \n",
       "2016-04-17 09:13:02+00:00  721672818467987456   \n",
       "2016-04-17 09:13:03+00:00  721672823090114562   \n",
       "2016-04-17 09:13:03+00:00  721672823731789824   \n",
       "\n",
       "                                                 ...                          \\\n",
       "created_at                                       ...                           \n",
       "2016-04-17 09:13:02+00:00                        ...                           \n",
       "2016-04-17 09:13:03+00:00                        ...                           \n",
       "2016-04-17 09:13:02+00:00                        ...                           \n",
       "2016-04-17 09:13:03+00:00                        ...                           \n",
       "2016-04-17 09:13:03+00:00                        ...                           \n",
       "\n",
       "                           quoted_status_id quoted_status_id_str  \\\n",
       "created_at                                                         \n",
       "2016-04-17 09:13:02+00:00      7.216728e+17         7.216728e+17   \n",
       "2016-04-17 09:13:03+00:00               NaN                  NaN   \n",
       "2016-04-17 09:13:02+00:00               NaN                  NaN   \n",
       "2016-04-17 09:13:03+00:00               NaN                  NaN   \n",
       "2016-04-17 09:13:03+00:00               NaN                  NaN   \n",
       "\n",
       "                           retweet_count  retweeted  \\\n",
       "created_at                                            \n",
       "2016-04-17 09:13:02+00:00              0      False   \n",
       "2016-04-17 09:13:03+00:00              0      False   \n",
       "2016-04-17 09:13:02+00:00              0      False   \n",
       "2016-04-17 09:13:03+00:00              0      False   \n",
       "2016-04-17 09:13:03+00:00              0      False   \n",
       "\n",
       "                                                            retweeted_status  \\\n",
       "created_at                                                                     \n",
       "2016-04-17 09:13:02+00:00                                                NaN   \n",
       "2016-04-17 09:13:03+00:00                                                NaN   \n",
       "2016-04-17 09:13:02+00:00                                                NaN   \n",
       "2016-04-17 09:13:03+00:00                                                NaN   \n",
       "2016-04-17 09:13:03+00:00  {u'contributors': None, u'truncated': False, u...   \n",
       "\n",
       "                                                                      source  \\\n",
       "created_at                                                                     \n",
       "2016-04-17 09:13:02+00:00  <a href=\"https://about.twitter.com/products/tw...   \n",
       "2016-04-17 09:13:03+00:00  <a href=\"http://twitter.com\" rel=\"nofollow\">Tw...   \n",
       "2016-04-17 09:13:02+00:00  <a href=\"http://twitter.com/download/iphone\" r...   \n",
       "2016-04-17 09:13:03+00:00  <a href=\"http://www.twitter.com\" rel=\"nofollow...   \n",
       "2016-04-17 09:13:03+00:00  <a href=\"http://twitter.com/download/iphone\" r...   \n",
       "\n",
       "                                                                        text  \\\n",
       "created_at                                                                     \n",
       "2016-04-17 09:13:02+00:00  #VzlaRepudiaAlChavismo #FORAdilma #FORAlula #F...   \n",
       "2016-04-17 09:13:03+00:00  Gente... Renan Calheiros? Cê jura?\\n#Impeachme...   \n",
       "2016-04-17 09:13:02+00:00  cara dos governistas qnd a dilma cair  #Impeac...   \n",
       "2016-04-17 09:13:03+00:00  Hoje é um dia importante pro Brasil !!! Eu apo...   \n",
       "2016-04-17 09:13:03+00:00  RT @Seu_Demo: Tudo pronto pro #ImpeachmentDay\\...   \n",
       "\n",
       "                                     timestamp_ms truncated  \\\n",
       "created_at                                                    \n",
       "2016-04-17 09:13:02+00:00 2016-04-17 12:13:02.697     False   \n",
       "2016-04-17 09:13:03+00:00 2016-04-17 12:13:03.080     False   \n",
       "2016-04-17 09:13:02+00:00 2016-04-17 12:13:02.612     False   \n",
       "2016-04-17 09:13:03+00:00 2016-04-17 12:13:03.714     False   \n",
       "2016-04-17 09:13:03+00:00 2016-04-17 12:13:03.867     False   \n",
       "\n",
       "                                                                        user  \n",
       "created_at                                                                    \n",
       "2016-04-17 09:13:02+00:00  {u'follow_request_sent': None, u'profile_use_b...  \n",
       "2016-04-17 09:13:03+00:00  {u'follow_request_sent': None, u'profile_use_b...  \n",
       "2016-04-17 09:13:02+00:00  {u'follow_request_sent': None, u'profile_use_b...  \n",
       "2016-04-17 09:13:03+00:00  {u'follow_request_sent': None, u'profile_use_b...  \n",
       "2016-04-17 09:13:03+00:00  {u'follow_request_sent': None, u'profile_use_b...  \n",
       "\n",
       "[5 rows x 31 columns]"
      ]
     },
     "execution_count": 8,
     "metadata": {},
     "output_type": "execute_result"
    }
   ],
   "source": [
    "df['created_at'] = pd.to_datetime(pd.Series(df['created_at']))\n",
    "\n",
    "df.set_index('created_at', drop=False, inplace=True)\n",
    "\n",
    "# df.info()\n",
    "df.index = df.index.tz_localize('GMT')\n",
    "df.index = df.index - DateOffset(hours = 3)\n",
    "df.index\n",
    "\n",
    "df.head()"
   ]
  },
  {
   "cell_type": "code",
   "execution_count": 55,
   "metadata": {
    "collapsed": false
   },
   "outputs": [
    {
     "data": {
      "text/plain": [
       "created_at\n",
       "2016-04-17 09:13:00+00:00    186\n",
       "2016-04-17 09:14:00+00:00    210\n",
       "2016-04-17 09:15:00+00:00    201\n",
       "2016-04-17 09:16:00+00:00    209\n",
       "2016-04-17 09:17:00+00:00    232\n",
       "Freq: T, Name: created_at, dtype: int64"
      ]
     },
     "execution_count": 55,
     "metadata": {},
     "output_type": "execute_result"
    }
   ],
   "source": [
    "tweets30s = df['created_at'].resample('1t', how='count')\n",
    "tweets30s.head()"
   ]
  },
  {
   "cell_type": "code",
   "execution_count": 56,
   "metadata": {
    "collapsed": false
   },
   "outputs": [
    {
     "data": {
      "text/html": [
       "\n",
       "           <script>\n",
       "               \n",
       "                function vct_load_lib(url, callback){\n",
       "                      if(typeof d3 !== 'undefined' &&\n",
       "                         url === 'http://d3js.org/d3.v3.min.js'){\n",
       "                        callback()\n",
       "                      }\n",
       "                      var s = document.createElement('script');\n",
       "                      s.src = url;\n",
       "                      s.async = true;\n",
       "                      s.onreadystatechange = s.onload = callback;\n",
       "                      s.onerror = function(){\n",
       "                        console.warn(\"failed to load library \" + url);\n",
       "                        };\n",
       "                      document.getElementsByTagName(\"head\")[0].appendChild(s);\n",
       "                };\n",
       "                var vincent_event = new CustomEvent(\n",
       "                  \"vincent_libs_loaded\",\n",
       "                  {bubbles: true, cancelable: true}\n",
       "                );\n",
       "                \n",
       "               function load_all_libs(){\n",
       "                  console.log('Loading Vincent libs...')\n",
       "                  vct_load_lib('http://d3js.org/d3.v3.min.js', function(){\n",
       "                  vct_load_lib('http://d3js.org/d3.geo.projection.v0.min.js', function(){\n",
       "                  vct_load_lib('http://wrobstory.github.io/d3-cloud/d3.layout.cloud.js', function(){\n",
       "                  vct_load_lib('http://wrobstory.github.io/vega/vega.v1.3.3.js', function(){\n",
       "                  window.dispatchEvent(vincent_event);\n",
       "                  });\n",
       "                  });\n",
       "                  });\n",
       "                  });\n",
       "               };\n",
       "               if(typeof define === \"function\" && define.amd){\n",
       "                    if (window['d3'] === undefined ||\n",
       "                        window['topojson'] === undefined){\n",
       "                        require.config(\n",
       "                            {paths: {\n",
       "                              d3: 'http://d3js.org/d3.v3.min',\n",
       "                              topojson: 'http://d3js.org/topojson.v1.min'\n",
       "                              }\n",
       "                            }\n",
       "                          );\n",
       "                        require([\"d3\"], function(d3){\n",
       "                            console.log('Loading Vincent from require.js...')\n",
       "                            window.d3 = d3;\n",
       "                            require([\"topojson\"], function(topojson){\n",
       "                                window.topojson = topojson;\n",
       "                                load_all_libs();\n",
       "                            });\n",
       "                        });\n",
       "                    } else {\n",
       "                        load_all_libs();\n",
       "                    };\n",
       "               }else{\n",
       "                    console.log('Require.js not found, loading manually...')\n",
       "                    load_all_libs();\n",
       "               };\n",
       "\n",
       "           </script>"
      ],
      "text/plain": [
       "<IPython.core.display.HTML object>"
      ]
     },
     "metadata": {},
     "output_type": "display_data"
    },
    {
     "data": {
      "text/html": [
       "<div id=\"vis2200cef69b7b49edbeb4181065f7c8d1\"></div>\n",
       "<script>\n",
       "   ( function() {\n",
       "     var _do_plot = function() {\n",
       "       if (typeof vg === 'undefined') {\n",
       "         window.addEventListener('vincent_libs_loaded', _do_plot)\n",
       "         return;\n",
       "       }\n",
       "       vg.parse.spec({\"axes\": [{\"scale\": \"x\", \"type\": \"x\"}, {\"scale\": \"y\", \"type\": \"y\"}], \"data\": [{\"name\": \"table\", \"values\": [{\"col\": \"created_at\", \"idx\": 1460895180000, \"val\": 186}, {\"col\": \"created_at\", \"idx\": 1460895240000, \"val\": 210}, {\"col\": \"created_at\", \"idx\": 1460895300000, \"val\": 201}, {\"col\": \"created_at\", \"idx\": 1460895360000, \"val\": 209}, {\"col\": \"created_at\", \"idx\": 1460895420000, \"val\": 232}, {\"col\": \"created_at\", \"idx\": 1460895480000, \"val\": 215}, {\"col\": \"created_at\", \"idx\": 1460895540000, \"val\": 201}, {\"col\": \"created_at\", \"idx\": 1460895600000, \"val\": 198}, {\"col\": \"created_at\", \"idx\": 1460895660000, \"val\": 208}, {\"col\": \"created_at\", \"idx\": 1460895720000, \"val\": 199}, {\"col\": \"created_at\", \"idx\": 1460895780000, \"val\": 221}, {\"col\": \"created_at\", \"idx\": 1460895840000, \"val\": 237}, {\"col\": \"created_at\", \"idx\": 1460895900000, \"val\": 338}, {\"col\": \"created_at\", \"idx\": 1460895960000, \"val\": 249}, {\"col\": \"created_at\", \"idx\": 1460896020000, \"val\": 241}, {\"col\": \"created_at\", \"idx\": 1460896080000, \"val\": 221}, {\"col\": \"created_at\", \"idx\": 1460896140000, \"val\": 213}, {\"col\": \"created_at\", \"idx\": 1460896200000, \"val\": 241}, {\"col\": \"created_at\", \"idx\": 1460896260000, \"val\": 242}, {\"col\": \"created_at\", \"idx\": 1460896320000, \"val\": 224}, {\"col\": \"created_at\", \"idx\": 1460896380000, \"val\": 202}, {\"col\": \"created_at\", \"idx\": 1460896440000, \"val\": 212}, {\"col\": \"created_at\", \"idx\": 1460896500000, \"val\": 243}, {\"col\": \"created_at\", \"idx\": 1460896560000, \"val\": 226}, {\"col\": \"created_at\", \"idx\": 1460896620000, \"val\": 262}, {\"col\": \"created_at\", \"idx\": 1460896680000, \"val\": 254}, {\"col\": \"created_at\", \"idx\": 1460896740000, \"val\": 258}, {\"col\": \"created_at\", \"idx\": 1460896800000, \"val\": 276}, {\"col\": \"created_at\", \"idx\": 1460896860000, \"val\": 282}, {\"col\": \"created_at\", \"idx\": 1460896920000, \"val\": 274}, {\"col\": \"created_at\", \"idx\": 1460896980000, \"val\": 314}, {\"col\": \"created_at\", \"idx\": 1460897040000, \"val\": 286}, {\"col\": \"created_at\", \"idx\": 1460897100000, \"val\": 290}, {\"col\": \"created_at\", \"idx\": 1460897160000, \"val\": 296}, {\"col\": \"created_at\", \"idx\": 1460897220000, \"val\": 243}, {\"col\": \"created_at\", \"idx\": 1460897280000, \"val\": 289}, {\"col\": \"created_at\", \"idx\": 1460897340000, \"val\": 245}, {\"col\": \"created_at\", \"idx\": 1460897400000, \"val\": 218}, {\"col\": \"created_at\", \"idx\": 1460897460000, \"val\": 262}, {\"col\": \"created_at\", \"idx\": 1460897520000, \"val\": 290}, {\"col\": \"created_at\", \"idx\": 1460897580000, \"val\": 263}, {\"col\": \"created_at\", \"idx\": 1460897640000, \"val\": 263}, {\"col\": \"created_at\", \"idx\": 1460897700000, \"val\": 279}, {\"col\": \"created_at\", \"idx\": 1460897760000, \"val\": 291}, {\"col\": \"created_at\", \"idx\": 1460897820000, \"val\": 324}, {\"col\": \"created_at\", \"idx\": 1460897880000, \"val\": 304}, {\"col\": \"created_at\", \"idx\": 1460897940000, \"val\": 314}, {\"col\": \"created_at\", \"idx\": 1460898000000, \"val\": 303}, {\"col\": \"created_at\", \"idx\": 1460898060000, \"val\": 239}, {\"col\": \"created_at\", \"idx\": 1460898120000, \"val\": 323}, {\"col\": \"created_at\", \"idx\": 1460898180000, \"val\": 269}, {\"col\": \"created_at\", \"idx\": 1460898240000, \"val\": 278}, {\"col\": \"created_at\", \"idx\": 1460898300000, \"val\": 252}, {\"col\": \"created_at\", \"idx\": 1460898360000, \"val\": 276}, {\"col\": \"created_at\", \"idx\": 1460898420000, \"val\": 269}, {\"col\": \"created_at\", \"idx\": 1460898480000, \"val\": 294}, {\"col\": \"created_at\", \"idx\": 1460898540000, \"val\": 284}, {\"col\": \"created_at\", \"idx\": 1460898600000, \"val\": 272}, {\"col\": \"created_at\", \"idx\": 1460898660000, \"val\": 268}, {\"col\": \"created_at\", \"idx\": 1460898720000, \"val\": 287}, {\"col\": \"created_at\", \"idx\": 1460898780000, \"val\": 289}, {\"col\": \"created_at\", \"idx\": 1460898840000, \"val\": 310}, {\"col\": \"created_at\", \"idx\": 1460898900000, \"val\": 340}, {\"col\": \"created_at\", \"idx\": 1460898960000, \"val\": 278}, {\"col\": \"created_at\", \"idx\": 1460899020000, \"val\": 277}, {\"col\": \"created_at\", \"idx\": 1460899080000, \"val\": 280}, {\"col\": \"created_at\", \"idx\": 1460899140000, \"val\": 330}, {\"col\": \"created_at\", \"idx\": 1460899200000, \"val\": 315}, {\"col\": \"created_at\", \"idx\": 1460899260000, \"val\": 284}, {\"col\": \"created_at\", \"idx\": 1460899320000, \"val\": 324}, {\"col\": \"created_at\", \"idx\": 1460899380000, \"val\": 333}, {\"col\": \"created_at\", \"idx\": 1460899440000, \"val\": 300}, {\"col\": \"created_at\", \"idx\": 1460899500000, \"val\": 281}, {\"col\": \"created_at\", \"idx\": 1460899560000, \"val\": 297}, {\"col\": \"created_at\", \"idx\": 1460899620000, \"val\": 338}, {\"col\": \"created_at\", \"idx\": 1460899680000, \"val\": 344}, {\"col\": \"created_at\", \"idx\": 1460899740000, \"val\": 314}, {\"col\": \"created_at\", \"idx\": 1460899800000, \"val\": 346}, {\"col\": \"created_at\", \"idx\": 1460899860000, \"val\": 304}, {\"col\": \"created_at\", \"idx\": 1460899920000, \"val\": 322}, {\"col\": \"created_at\", \"idx\": 1460899980000, \"val\": 364}, {\"col\": \"created_at\", \"idx\": 1460900040000, \"val\": 323}, {\"col\": \"created_at\", \"idx\": 1460900100000, \"val\": 323}, {\"col\": \"created_at\", \"idx\": 1460900160000, \"val\": 274}, {\"col\": \"created_at\", \"idx\": 1460900220000, \"val\": 270}, {\"col\": \"created_at\", \"idx\": 1460900280000, \"val\": 280}, {\"col\": \"created_at\", \"idx\": 1460900340000, \"val\": 286}, {\"col\": \"created_at\", \"idx\": 1460900400000, \"val\": 343}, {\"col\": \"created_at\", \"idx\": 1460900460000, \"val\": 283}, {\"col\": \"created_at\", \"idx\": 1460900520000, \"val\": 299}, {\"col\": \"created_at\", \"idx\": 1460900580000, \"val\": 299}, {\"col\": \"created_at\", \"idx\": 1460900640000, \"val\": 307}, {\"col\": \"created_at\", \"idx\": 1460900700000, \"val\": 332}, {\"col\": \"created_at\", \"idx\": 1460900760000, \"val\": 362}, {\"col\": \"created_at\", \"idx\": 1460900820000, \"val\": 341}, {\"col\": \"created_at\", \"idx\": 1460900880000, \"val\": 338}, {\"col\": \"created_at\", \"idx\": 1460900940000, \"val\": 347}, {\"col\": \"created_at\", \"idx\": 1460901000000, \"val\": 330}, {\"col\": \"created_at\", \"idx\": 1460901060000, \"val\": 354}, {\"col\": \"created_at\", \"idx\": 1460901120000, \"val\": 387}, {\"col\": \"created_at\", \"idx\": 1460901180000, \"val\": 364}, {\"col\": \"created_at\", \"idx\": 1460901240000, \"val\": 344}, {\"col\": \"created_at\", \"idx\": 1460901300000, \"val\": 408}, {\"col\": \"created_at\", \"idx\": 1460901360000, \"val\": 373}, {\"col\": \"created_at\", \"idx\": 1460901420000, \"val\": 377}, {\"col\": \"created_at\", \"idx\": 1460901480000, \"val\": 404}, {\"col\": \"created_at\", \"idx\": 1460901540000, \"val\": 378}, {\"col\": \"created_at\", \"idx\": 1460901600000, \"val\": 391}, {\"col\": \"created_at\", \"idx\": 1460901660000, \"val\": 390}, {\"col\": \"created_at\", \"idx\": 1460901720000, \"val\": 387}, {\"col\": \"created_at\", \"idx\": 1460901780000, \"val\": 371}, {\"col\": \"created_at\", \"idx\": 1460901840000, \"val\": 435}, {\"col\": \"created_at\", \"idx\": 1460901900000, \"val\": 412}, {\"col\": \"created_at\", \"idx\": 1460901960000, \"val\": 438}, {\"col\": \"created_at\", \"idx\": 1460902020000, \"val\": 443}, {\"col\": \"created_at\", \"idx\": 1460902080000, \"val\": 419}, {\"col\": \"created_at\", \"idx\": 1460902140000, \"val\": 427}, {\"col\": \"created_at\", \"idx\": 1460902200000, \"val\": 422}, {\"col\": \"created_at\", \"idx\": 1460902260000, \"val\": 420}, {\"col\": \"created_at\", \"idx\": 1460902320000, \"val\": 406}, {\"col\": \"created_at\", \"idx\": 1460902380000, \"val\": 443}, {\"col\": \"created_at\", \"idx\": 1460902440000, \"val\": 437}, {\"col\": \"created_at\", \"idx\": 1460902500000, \"val\": 537}, {\"col\": \"created_at\", \"idx\": 1460902560000, \"val\": 500}, {\"col\": \"created_at\", \"idx\": 1460902620000, \"val\": 534}, {\"col\": \"created_at\", \"idx\": 1460902680000, \"val\": 470}, {\"col\": \"created_at\", \"idx\": 1460902740000, \"val\": 449}, {\"col\": \"created_at\", \"idx\": 1460902800000, \"val\": 406}, {\"col\": \"created_at\", \"idx\": 1460902860000, \"val\": 454}, {\"col\": \"created_at\", \"idx\": 1460902920000, \"val\": 416}, {\"col\": \"created_at\", \"idx\": 1460902980000, \"val\": 412}, {\"col\": \"created_at\", \"idx\": 1460903040000, \"val\": 432}, {\"col\": \"created_at\", \"idx\": 1460903100000, \"val\": 431}, {\"col\": \"created_at\", \"idx\": 1460903160000, \"val\": 450}, {\"col\": \"created_at\", \"idx\": 1460903220000, \"val\": 468}, {\"col\": \"created_at\", \"idx\": 1460903280000, \"val\": 463}, {\"col\": \"created_at\", \"idx\": 1460903340000, \"val\": 434}, {\"col\": \"created_at\", \"idx\": 1460903400000, \"val\": 447}, {\"col\": \"created_at\", \"idx\": 1460903460000, \"val\": 500}, {\"col\": \"created_at\", \"idx\": 1460903520000, \"val\": 467}, {\"col\": \"created_at\", \"idx\": 1460903580000, \"val\": 464}, {\"col\": \"created_at\", \"idx\": 1460903640000, \"val\": 405}, {\"col\": \"created_at\", \"idx\": 1460903700000, \"val\": 436}, {\"col\": \"created_at\", \"idx\": 1460903760000, \"val\": 445}, {\"col\": \"created_at\", \"idx\": 1460903820000, \"val\": 422}, {\"col\": \"created_at\", \"idx\": 1460903880000, \"val\": 392}, {\"col\": \"created_at\", \"idx\": 1460903940000, \"val\": 434}, {\"col\": \"created_at\", \"idx\": 1460904000000, \"val\": 405}, {\"col\": \"created_at\", \"idx\": 1460904060000, \"val\": 448}, {\"col\": \"created_at\", \"idx\": 1460904120000, \"val\": 395}, {\"col\": \"created_at\", \"idx\": 1460904180000, \"val\": 415}, {\"col\": \"created_at\", \"idx\": 1460904240000, \"val\": 438}, {\"col\": \"created_at\", \"idx\": 1460904300000, \"val\": 442}, {\"col\": \"created_at\", \"idx\": 1460904360000, \"val\": 427}, {\"col\": \"created_at\", \"idx\": 1460904420000, \"val\": 391}, {\"col\": \"created_at\", \"idx\": 1460904480000, \"val\": 408}, {\"col\": \"created_at\", \"idx\": 1460904540000, \"val\": 437}, {\"col\": \"created_at\", \"idx\": 1460904600000, \"val\": 425}, {\"col\": \"created_at\", \"idx\": 1460904660000, \"val\": 483}, {\"col\": \"created_at\", \"idx\": 1460904720000, \"val\": 483}, {\"col\": \"created_at\", \"idx\": 1460904780000, \"val\": 447}, {\"col\": \"created_at\", \"idx\": 1460904840000, \"val\": 458}, {\"col\": \"created_at\", \"idx\": 1460904900000, \"val\": 419}, {\"col\": \"created_at\", \"idx\": 1460904960000, \"val\": 445}, {\"col\": \"created_at\", \"idx\": 1460905020000, \"val\": 382}, {\"col\": \"created_at\", \"idx\": 1460905080000, \"val\": 420}, {\"col\": \"created_at\", \"idx\": 1460905140000, \"val\": 383}, {\"col\": \"created_at\", \"idx\": 1460905200000, \"val\": 431}, {\"col\": \"created_at\", \"idx\": 1460905260000, \"val\": 410}, {\"col\": \"created_at\", \"idx\": 1460905320000, \"val\": 396}, {\"col\": \"created_at\", \"idx\": 1460905380000, \"val\": 373}, {\"col\": \"created_at\", \"idx\": 1460905440000, \"val\": 374}, {\"col\": \"created_at\", \"idx\": 1460905500000, \"val\": 382}, {\"col\": \"created_at\", \"idx\": 1460905560000, \"val\": 411}, {\"col\": \"created_at\", \"idx\": 1460905620000, \"val\": 367}, {\"col\": \"created_at\", \"idx\": 1460905680000, \"val\": 412}, {\"col\": \"created_at\", \"idx\": 1460905740000, \"val\": 425}, {\"col\": \"created_at\", \"idx\": 1460905800000, \"val\": 391}, {\"col\": \"created_at\", \"idx\": 1460905860000, \"val\": 401}, {\"col\": \"created_at\", \"idx\": 1460905920000, \"val\": 400}, {\"col\": \"created_at\", \"idx\": 1460905980000, \"val\": 445}, {\"col\": \"created_at\", \"idx\": 1460906040000, \"val\": 386}, {\"col\": \"created_at\", \"idx\": 1460906100000, \"val\": 378}, {\"col\": \"created_at\", \"idx\": 1460906160000, \"val\": 391}, {\"col\": \"created_at\", \"idx\": 1460906220000, \"val\": 418}, {\"col\": \"created_at\", \"idx\": 1460906280000, \"val\": 341}, {\"col\": \"created_at\", \"idx\": 1460906340000, \"val\": 384}, {\"col\": \"created_at\", \"idx\": 1460906400000, \"val\": 449}, {\"col\": \"created_at\", \"idx\": 1460906460000, \"val\": 373}, {\"col\": \"created_at\", \"idx\": 1460906520000, \"val\": 493}, {\"col\": \"created_at\", \"idx\": 1460906580000, \"val\": 461}, {\"col\": \"created_at\", \"idx\": 1460906640000, \"val\": 388}, {\"col\": \"created_at\", \"idx\": 1460906700000, \"val\": 424}, {\"col\": \"created_at\", \"idx\": 1460906760000, \"val\": 439}, {\"col\": \"created_at\", \"idx\": 1460906820000, \"val\": 409}, {\"col\": \"created_at\", \"idx\": 1460906880000, \"val\": 414}, {\"col\": \"created_at\", \"idx\": 1460906940000, \"val\": 451}, {\"col\": \"created_at\", \"idx\": 1460907000000, \"val\": 410}, {\"col\": \"created_at\", \"idx\": 1460907060000, \"val\": 409}, {\"col\": \"created_at\", \"idx\": 1460907120000, \"val\": 432}, {\"col\": \"created_at\", \"idx\": 1460907180000, \"val\": 472}, {\"col\": \"created_at\", \"idx\": 1460907240000, \"val\": 472}, {\"col\": \"created_at\", \"idx\": 1460907300000, \"val\": 484}, {\"col\": \"created_at\", \"idx\": 1460907360000, \"val\": 483}, {\"col\": \"created_at\", \"idx\": 1460907420000, \"val\": 468}, {\"col\": \"created_at\", \"idx\": 1460907480000, \"val\": 461}, {\"col\": \"created_at\", \"idx\": 1460907540000, \"val\": 500}, {\"col\": \"created_at\", \"idx\": 1460907600000, \"val\": 473}, {\"col\": \"created_at\", \"idx\": 1460907660000, \"val\": 465}, {\"col\": \"created_at\", \"idx\": 1460907720000, \"val\": 477}, {\"col\": \"created_at\", \"idx\": 1460907780000, \"val\": 479}, {\"col\": \"created_at\", \"idx\": 1460907840000, \"val\": 510}, {\"col\": \"created_at\", \"idx\": 1460907900000, \"val\": 498}, {\"col\": \"created_at\", \"idx\": 1460907960000, \"val\": 479}, {\"col\": \"created_at\", \"idx\": 1460908020000, \"val\": 466}, {\"col\": \"created_at\", \"idx\": 1460908080000, \"val\": 528}, {\"col\": \"created_at\", \"idx\": 1460908140000, \"val\": 459}, {\"col\": \"created_at\", \"idx\": 1460908200000, \"val\": 481}, {\"col\": \"created_at\", \"idx\": 1460908260000, \"val\": 467}, {\"col\": \"created_at\", \"idx\": 1460908320000, \"val\": 465}, {\"col\": \"created_at\", \"idx\": 1460908380000, \"val\": 518}, {\"col\": \"created_at\", \"idx\": 1460908440000, \"val\": 521}, {\"col\": \"created_at\", \"idx\": 1460908500000, \"val\": 431}, {\"col\": \"created_at\", \"idx\": 1460908560000, \"val\": 413}, {\"col\": \"created_at\", \"idx\": 1460908620000, \"val\": 419}, {\"col\": \"created_at\", \"idx\": 1460908680000, \"val\": 399}, {\"col\": \"created_at\", \"idx\": 1460908740000, \"val\": 440}, {\"col\": \"created_at\", \"idx\": 1460908800000, \"val\": 445}, {\"col\": \"created_at\", \"idx\": 1460908860000, \"val\": 511}, {\"col\": \"created_at\", \"idx\": 1460908920000, \"val\": 545}, {\"col\": \"created_at\", \"idx\": 1460908980000, \"val\": 550}, {\"col\": \"created_at\", \"idx\": 1460909040000, \"val\": 532}, {\"col\": \"created_at\", \"idx\": 1460909100000, \"val\": 574}, {\"col\": \"created_at\", \"idx\": 1460909160000, \"val\": 540}, {\"col\": \"created_at\", \"idx\": 1460909220000, \"val\": 532}, {\"col\": \"created_at\", \"idx\": 1460909280000, \"val\": 539}, {\"col\": \"created_at\", \"idx\": 1460909340000, \"val\": 477}, {\"col\": \"created_at\", \"idx\": 1460909400000, \"val\": 16}, {\"col\": \"created_at\", \"idx\": 1460909460000, \"val\": 0}, {\"col\": \"created_at\", \"idx\": 1460909520000, \"val\": 0}, {\"col\": \"created_at\", \"idx\": 1460909580000, \"val\": 0}, {\"col\": \"created_at\", \"idx\": 1460909640000, \"val\": 0}, {\"col\": \"created_at\", \"idx\": 1460909700000, \"val\": 0}, {\"col\": \"created_at\", \"idx\": 1460909760000, \"val\": 0}, {\"col\": \"created_at\", \"idx\": 1460909820000, \"val\": 0}, {\"col\": \"created_at\", \"idx\": 1460909880000, \"val\": 0}, {\"col\": \"created_at\", \"idx\": 1460909940000, \"val\": 0}, {\"col\": \"created_at\", \"idx\": 1460910000000, \"val\": 0}, {\"col\": \"created_at\", \"idx\": 1460910060000, \"val\": 0}, {\"col\": \"created_at\", \"idx\": 1460910120000, \"val\": 0}, {\"col\": \"created_at\", \"idx\": 1460910180000, \"val\": 0}, {\"col\": \"created_at\", \"idx\": 1460910240000, \"val\": 0}, {\"col\": \"created_at\", \"idx\": 1460910300000, \"val\": 0}, {\"col\": \"created_at\", \"idx\": 1460910360000, \"val\": 0}, {\"col\": \"created_at\", \"idx\": 1460910420000, \"val\": 0}, {\"col\": \"created_at\", \"idx\": 1460910480000, \"val\": 0}, {\"col\": \"created_at\", \"idx\": 1460910540000, \"val\": 0}, {\"col\": \"created_at\", \"idx\": 1460910600000, \"val\": 0}, {\"col\": \"created_at\", \"idx\": 1460910660000, \"val\": 0}, {\"col\": \"created_at\", \"idx\": 1460910720000, \"val\": 0}, {\"col\": \"created_at\", \"idx\": 1460910780000, \"val\": 0}, {\"col\": \"created_at\", \"idx\": 1460910840000, \"val\": 0}, {\"col\": \"created_at\", \"idx\": 1460910900000, \"val\": 0}, {\"col\": \"created_at\", \"idx\": 1460910960000, \"val\": 0}, {\"col\": \"created_at\", \"idx\": 1460911020000, \"val\": 0}, {\"col\": \"created_at\", \"idx\": 1460911080000, \"val\": 0}, {\"col\": \"created_at\", \"idx\": 1460911140000, \"val\": 0}, {\"col\": \"created_at\", \"idx\": 1460911200000, \"val\": 0}, {\"col\": \"created_at\", \"idx\": 1460911260000, \"val\": 0}, {\"col\": \"created_at\", \"idx\": 1460911320000, \"val\": 0}, {\"col\": \"created_at\", \"idx\": 1460911380000, \"val\": 0}, {\"col\": \"created_at\", \"idx\": 1460911440000, \"val\": 0}, {\"col\": \"created_at\", \"idx\": 1460911500000, \"val\": 0}, {\"col\": \"created_at\", \"idx\": 1460911560000, \"val\": 0}, {\"col\": \"created_at\", \"idx\": 1460911620000, \"val\": 0}, {\"col\": \"created_at\", \"idx\": 1460911680000, \"val\": 0}, {\"col\": \"created_at\", \"idx\": 1460911740000, \"val\": 0}, {\"col\": \"created_at\", \"idx\": 1460911800000, \"val\": 0}, {\"col\": \"created_at\", \"idx\": 1460911860000, \"val\": 0}, {\"col\": \"created_at\", \"idx\": 1460911920000, \"val\": 0}, {\"col\": \"created_at\", \"idx\": 1460911980000, \"val\": 235}, {\"col\": \"created_at\", \"idx\": 1460912040000, \"val\": 442}, {\"col\": \"created_at\", \"idx\": 1460912100000, \"val\": 475}, {\"col\": \"created_at\", \"idx\": 1460912160000, \"val\": 598}, {\"col\": \"created_at\", \"idx\": 1460912220000, \"val\": 573}, {\"col\": \"created_at\", \"idx\": 1460912280000, \"val\": 597}, {\"col\": \"created_at\", \"idx\": 1460912340000, \"val\": 743}, {\"col\": \"created_at\", \"idx\": 1460912400000, \"val\": 815}, {\"col\": \"created_at\", \"idx\": 1460912460000, \"val\": 932}, {\"col\": \"created_at\", \"idx\": 1460912520000, \"val\": 1143}, {\"col\": \"created_at\", \"idx\": 1460912580000, \"val\": 1283}, {\"col\": \"created_at\", \"idx\": 1460912640000, \"val\": 1216}, {\"col\": \"created_at\", \"idx\": 1460912700000, \"val\": 1351}, {\"col\": \"created_at\", \"idx\": 1460912760000, \"val\": 1367}, {\"col\": \"created_at\", \"idx\": 1460912820000, \"val\": 1405}, {\"col\": \"created_at\", \"idx\": 1460912880000, \"val\": 1302}, {\"col\": \"created_at\", \"idx\": 1460912940000, \"val\": 1291}, {\"col\": \"created_at\", \"idx\": 1460913000000, \"val\": 1227}, {\"col\": \"created_at\", \"idx\": 1460913060000, \"val\": 1126}, {\"col\": \"created_at\", \"idx\": 1460913120000, \"val\": 1201}, {\"col\": \"created_at\", \"idx\": 1460913180000, \"val\": 1230}, {\"col\": \"created_at\", \"idx\": 1460913240000, \"val\": 1389}, {\"col\": \"created_at\", \"idx\": 1460913300000, \"val\": 1365}, {\"col\": \"created_at\", \"idx\": 1460913360000, \"val\": 1340}, {\"col\": \"created_at\", \"idx\": 1460913420000, \"val\": 1545}, {\"col\": \"created_at\", \"idx\": 1460913480000, \"val\": 1645}, {\"col\": \"created_at\", \"idx\": 1460913540000, \"val\": 1765}, {\"col\": \"created_at\", \"idx\": 1460913600000, \"val\": 1696}, {\"col\": \"created_at\", \"idx\": 1460913660000, \"val\": 1807}, {\"col\": \"created_at\", \"idx\": 1460913720000, \"val\": 1621}, {\"col\": \"created_at\", \"idx\": 1460913780000, \"val\": 1435}, {\"col\": \"created_at\", \"idx\": 1460913840000, \"val\": 1458}, {\"col\": \"created_at\", \"idx\": 1460913900000, \"val\": 1589}, {\"col\": \"created_at\", \"idx\": 1460913960000, \"val\": 1710}, {\"col\": \"created_at\", \"idx\": 1460914020000, \"val\": 1828}, {\"col\": \"created_at\", \"idx\": 1460914080000, \"val\": 2005}, {\"col\": \"created_at\", \"idx\": 1460914140000, \"val\": 1856}, {\"col\": \"created_at\", \"idx\": 1460914200000, \"val\": 1744}, {\"col\": \"created_at\", \"idx\": 1460914260000, \"val\": 1616}, {\"col\": \"created_at\", \"idx\": 1460914320000, \"val\": 1661}, {\"col\": \"created_at\", \"idx\": 1460914380000, \"val\": 1754}, {\"col\": \"created_at\", \"idx\": 1460914440000, \"val\": 1736}, {\"col\": \"created_at\", \"idx\": 1460914500000, \"val\": 1849}, {\"col\": \"created_at\", \"idx\": 1460914560000, \"val\": 1667}, {\"col\": \"created_at\", \"idx\": 1460914620000, \"val\": 1738}, {\"col\": \"created_at\", \"idx\": 1460914680000, \"val\": 1700}, {\"col\": \"created_at\", \"idx\": 1460914740000, \"val\": 1561}, {\"col\": \"created_at\", \"idx\": 1460914800000, \"val\": 1478}, {\"col\": \"created_at\", \"idx\": 1460914860000, \"val\": 1492}, {\"col\": \"created_at\", \"idx\": 1460914920000, \"val\": 1503}, {\"col\": \"created_at\", \"idx\": 1460914980000, \"val\": 1554}, {\"col\": \"created_at\", \"idx\": 1460915040000, \"val\": 1716}, {\"col\": \"created_at\", \"idx\": 1460915100000, \"val\": 1616}, {\"col\": \"created_at\", \"idx\": 1460915160000, \"val\": 1642}, {\"col\": \"created_at\", \"idx\": 1460915220000, \"val\": 1596}, {\"col\": \"created_at\", \"idx\": 1460915280000, \"val\": 1663}, {\"col\": \"created_at\", \"idx\": 1460915340000, \"val\": 1600}, {\"col\": \"created_at\", \"idx\": 1460915400000, \"val\": 1699}, {\"col\": \"created_at\", \"idx\": 1460915460000, \"val\": 1683}, {\"col\": \"created_at\", \"idx\": 1460915520000, \"val\": 1631}, {\"col\": \"created_at\", \"idx\": 1460915580000, \"val\": 1543}, {\"col\": \"created_at\", \"idx\": 1460915640000, \"val\": 1513}, {\"col\": \"created_at\", \"idx\": 1460915700000, \"val\": 1429}, {\"col\": \"created_at\", \"idx\": 1460915760000, \"val\": 1759}, {\"col\": \"created_at\", \"idx\": 1460915820000, \"val\": 1789}, {\"col\": \"created_at\", \"idx\": 1460915880000, \"val\": 1798}, {\"col\": \"created_at\", \"idx\": 1460915940000, \"val\": 1988}, {\"col\": \"created_at\", \"idx\": 1460916000000, \"val\": 1966}, {\"col\": \"created_at\", \"idx\": 1460916060000, \"val\": 1828}, {\"col\": \"created_at\", \"idx\": 1460916120000, \"val\": 1831}, {\"col\": \"created_at\", \"idx\": 1460916180000, \"val\": 1865}, {\"col\": \"created_at\", \"idx\": 1460916240000, \"val\": 1803}, {\"col\": \"created_at\", \"idx\": 1460916300000, \"val\": 1677}, {\"col\": \"created_at\", \"idx\": 1460916360000, \"val\": 1677}, {\"col\": \"created_at\", \"idx\": 1460916420000, \"val\": 1670}, {\"col\": \"created_at\", \"idx\": 1460916480000, \"val\": 1587}, {\"col\": \"created_at\", \"idx\": 1460916540000, \"val\": 1543}, {\"col\": \"created_at\", \"idx\": 1460916600000, \"val\": 1420}, {\"col\": \"created_at\", \"idx\": 1460916660000, \"val\": 1484}, {\"col\": \"created_at\", \"idx\": 1460916720000, \"val\": 1448}, {\"col\": \"created_at\", \"idx\": 1460916780000, \"val\": 1503}, {\"col\": \"created_at\", \"idx\": 1460916840000, \"val\": 1472}, {\"col\": \"created_at\", \"idx\": 1460916900000, \"val\": 1496}, {\"col\": \"created_at\", \"idx\": 1460916960000, \"val\": 1423}, {\"col\": \"created_at\", \"idx\": 1460917020000, \"val\": 1388}, {\"col\": \"created_at\", \"idx\": 1460917080000, \"val\": 1390}, {\"col\": \"created_at\", \"idx\": 1460917140000, \"val\": 1342}, {\"col\": \"created_at\", \"idx\": 1460917200000, \"val\": 1452}, {\"col\": \"created_at\", \"idx\": 1460917260000, \"val\": 1338}, {\"col\": \"created_at\", \"idx\": 1460917320000, \"val\": 1397}, {\"col\": \"created_at\", \"idx\": 1460917380000, \"val\": 1392}, {\"col\": \"created_at\", \"idx\": 1460917440000, \"val\": 1402}, {\"col\": \"created_at\", \"idx\": 1460917500000, \"val\": 1479}, {\"col\": \"created_at\", \"idx\": 1460917560000, \"val\": 1476}, {\"col\": \"created_at\", \"idx\": 1460917620000, \"val\": 1393}, {\"col\": \"created_at\", \"idx\": 1460917680000, \"val\": 1399}, {\"col\": \"created_at\", \"idx\": 1460917740000, \"val\": 1409}, {\"col\": \"created_at\", \"idx\": 1460917800000, \"val\": 1284}, {\"col\": \"created_at\", \"idx\": 1460917860000, \"val\": 1360}, {\"col\": \"created_at\", \"idx\": 1460917920000, \"val\": 1342}, {\"col\": \"created_at\", \"idx\": 1460917980000, \"val\": 1297}, {\"col\": \"created_at\", \"idx\": 1460918040000, \"val\": 1367}, {\"col\": \"created_at\", \"idx\": 1460918100000, \"val\": 1315}, {\"col\": \"created_at\", \"idx\": 1460918160000, \"val\": 1327}, {\"col\": \"created_at\", \"idx\": 1460918220000, \"val\": 1284}, {\"col\": \"created_at\", \"idx\": 1460918280000, \"val\": 1472}, {\"col\": \"created_at\", \"idx\": 1460918340000, \"val\": 1522}, {\"col\": \"created_at\", \"idx\": 1460918400000, \"val\": 958}, {\"col\": \"created_at\", \"idx\": 1460918460000, \"val\": 0}, {\"col\": \"created_at\", \"idx\": 1460918520000, \"val\": 0}, {\"col\": \"created_at\", \"idx\": 1460918580000, \"val\": 1289}, {\"col\": \"created_at\", \"idx\": 1460918640000, \"val\": 1278}, {\"col\": \"created_at\", \"idx\": 1460918700000, \"val\": 1301}, {\"col\": \"created_at\", \"idx\": 1460918760000, \"val\": 1279}, {\"col\": \"created_at\", \"idx\": 1460918820000, \"val\": 1223}, {\"col\": \"created_at\", \"idx\": 1460918880000, \"val\": 1324}, {\"col\": \"created_at\", \"idx\": 1460918940000, \"val\": 1320}, {\"col\": \"created_at\", \"idx\": 1460919000000, \"val\": 1365}, {\"col\": \"created_at\", \"idx\": 1460919060000, \"val\": 1420}, {\"col\": \"created_at\", \"idx\": 1460919120000, \"val\": 1359}, {\"col\": \"created_at\", \"idx\": 1460919180000, \"val\": 1362}, {\"col\": \"created_at\", \"idx\": 1460919240000, \"val\": 1343}, {\"col\": \"created_at\", \"idx\": 1460919300000, \"val\": 1342}, {\"col\": \"created_at\", \"idx\": 1460919360000, \"val\": 1379}, {\"col\": \"created_at\", \"idx\": 1460919420000, \"val\": 1420}, {\"col\": \"created_at\", \"idx\": 1460919480000, \"val\": 1410}, {\"col\": \"created_at\", \"idx\": 1460919540000, \"val\": 1309}, {\"col\": \"created_at\", \"idx\": 1460919600000, \"val\": 1436}, {\"col\": \"created_at\", \"idx\": 1460919660000, \"val\": 1274}, {\"col\": \"created_at\", \"idx\": 1460919720000, \"val\": 1258}, {\"col\": \"created_at\", \"idx\": 1460919780000, \"val\": 1233}, {\"col\": \"created_at\", \"idx\": 1460919840000, \"val\": 1209}, {\"col\": \"created_at\", \"idx\": 1460919900000, \"val\": 1239}, {\"col\": \"created_at\", \"idx\": 1460919960000, \"val\": 1142}, {\"col\": \"created_at\", \"idx\": 1460920020000, \"val\": 1394}, {\"col\": \"created_at\", \"idx\": 1460920080000, \"val\": 1328}, {\"col\": \"created_at\", \"idx\": 1460920140000, \"val\": 1341}, {\"col\": \"created_at\", \"idx\": 1460920200000, \"val\": 1221}, {\"col\": \"created_at\", \"idx\": 1460920260000, \"val\": 1299}, {\"col\": \"created_at\", \"idx\": 1460920320000, \"val\": 1245}, {\"col\": \"created_at\", \"idx\": 1460920380000, \"val\": 1579}, {\"col\": \"created_at\", \"idx\": 1460920440000, \"val\": 1591}, {\"col\": \"created_at\", \"idx\": 1460920500000, \"val\": 1610}, {\"col\": \"created_at\", \"idx\": 1460920560000, \"val\": 1431}, {\"col\": \"created_at\", \"idx\": 1460920620000, \"val\": 1374}, {\"col\": \"created_at\", \"idx\": 1460920680000, \"val\": 1290}, {\"col\": \"created_at\", \"idx\": 1460920740000, \"val\": 1329}, {\"col\": \"created_at\", \"idx\": 1460920800000, \"val\": 1342}, {\"col\": \"created_at\", \"idx\": 1460920860000, \"val\": 1339}, {\"col\": \"created_at\", \"idx\": 1460920920000, \"val\": 1304}, {\"col\": \"created_at\", \"idx\": 1460920980000, \"val\": 1373}, {\"col\": \"created_at\", \"idx\": 1460921040000, \"val\": 1311}, {\"col\": \"created_at\", \"idx\": 1460921100000, \"val\": 1329}, {\"col\": \"created_at\", \"idx\": 1460921160000, \"val\": 1345}, {\"col\": \"created_at\", \"idx\": 1460921220000, \"val\": 1363}, {\"col\": \"created_at\", \"idx\": 1460921280000, \"val\": 1363}, {\"col\": \"created_at\", \"idx\": 1460921340000, \"val\": 1294}, {\"col\": \"created_at\", \"idx\": 1460921400000, \"val\": 1334}, {\"col\": \"created_at\", \"idx\": 1460921460000, \"val\": 1274}, {\"col\": \"created_at\", \"idx\": 1460921520000, \"val\": 1321}, {\"col\": \"created_at\", \"idx\": 1460921580000, \"val\": 1273}, {\"col\": \"created_at\", \"idx\": 1460921640000, \"val\": 1172}, {\"col\": \"created_at\", \"idx\": 1460921700000, \"val\": 1225}, {\"col\": \"created_at\", \"idx\": 1460921760000, \"val\": 1157}, {\"col\": \"created_at\", \"idx\": 1460921820000, \"val\": 1237}, {\"col\": \"created_at\", \"idx\": 1460921880000, \"val\": 1283}, {\"col\": \"created_at\", \"idx\": 1460921940000, \"val\": 1381}, {\"col\": \"created_at\", \"idx\": 1460922000000, \"val\": 1376}, {\"col\": \"created_at\", \"idx\": 1460922060000, \"val\": 1310}, {\"col\": \"created_at\", \"idx\": 1460922120000, \"val\": 1249}, {\"col\": \"created_at\", \"idx\": 1460922180000, \"val\": 1369}, {\"col\": \"created_at\", \"idx\": 1460922240000, \"val\": 1271}, {\"col\": \"created_at\", \"idx\": 1460922300000, \"val\": 1390}, {\"col\": \"created_at\", \"idx\": 1460922360000, \"val\": 1240}, {\"col\": \"created_at\", \"idx\": 1460922420000, \"val\": 1278}, {\"col\": \"created_at\", \"idx\": 1460922480000, \"val\": 1321}, {\"col\": \"created_at\", \"idx\": 1460922540000, \"val\": 1334}, {\"col\": \"created_at\", \"idx\": 1460922600000, \"val\": 1342}, {\"col\": \"created_at\", \"idx\": 1460922660000, \"val\": 1216}, {\"col\": \"created_at\", \"idx\": 1460922720000, \"val\": 1383}, {\"col\": \"created_at\", \"idx\": 1460922780000, \"val\": 1328}, {\"col\": \"created_at\", \"idx\": 1460922840000, \"val\": 1362}, {\"col\": \"created_at\", \"idx\": 1460922900000, \"val\": 1327}, {\"col\": \"created_at\", \"idx\": 1460922960000, \"val\": 1467}, {\"col\": \"created_at\", \"idx\": 1460923020000, \"val\": 1404}, {\"col\": \"created_at\", \"idx\": 1460923080000, \"val\": 1319}, {\"col\": \"created_at\", \"idx\": 1460923140000, \"val\": 1419}, {\"col\": \"created_at\", \"idx\": 1460923200000, \"val\": 1510}, {\"col\": \"created_at\", \"idx\": 1460923260000, \"val\": 1482}, {\"col\": \"created_at\", \"idx\": 1460923320000, \"val\": 1382}, {\"col\": \"created_at\", \"idx\": 1460923380000, \"val\": 1400}, {\"col\": \"created_at\", \"idx\": 1460923440000, \"val\": 1368}, {\"col\": \"created_at\", \"idx\": 1460923500000, \"val\": 1286}, {\"col\": \"created_at\", \"idx\": 1460923560000, \"val\": 1297}, {\"col\": \"created_at\", \"idx\": 1460923620000, \"val\": 1293}, {\"col\": \"created_at\", \"idx\": 1460923680000, \"val\": 1291}, {\"col\": \"created_at\", \"idx\": 1460923740000, \"val\": 1167}, {\"col\": \"created_at\", \"idx\": 1460923800000, \"val\": 1249}, {\"col\": \"created_at\", \"idx\": 1460923860000, \"val\": 1324}, {\"col\": \"created_at\", \"idx\": 1460923920000, \"val\": 1411}, {\"col\": \"created_at\", \"idx\": 1460923980000, \"val\": 1335}, {\"col\": \"created_at\", \"idx\": 1460924040000, \"val\": 1213}, {\"col\": \"created_at\", \"idx\": 1460924100000, \"val\": 1342}, {\"col\": \"created_at\", \"idx\": 1460924160000, \"val\": 1313}, {\"col\": \"created_at\", \"idx\": 1460924220000, \"val\": 1271}, {\"col\": \"created_at\", \"idx\": 1460924280000, \"val\": 1276}, {\"col\": \"created_at\", \"idx\": 1460924340000, \"val\": 1299}, {\"col\": \"created_at\", \"idx\": 1460924400000, \"val\": 1347}, {\"col\": \"created_at\", \"idx\": 1460924460000, \"val\": 1371}, {\"col\": \"created_at\", \"idx\": 1460924520000, \"val\": 1353}, {\"col\": \"created_at\", \"idx\": 1460924580000, \"val\": 1303}, {\"col\": \"created_at\", \"idx\": 1460924640000, \"val\": 1311}, {\"col\": \"created_at\", \"idx\": 1460924700000, \"val\": 1276}, {\"col\": \"created_at\", \"idx\": 1460924760000, \"val\": 1244}, {\"col\": \"created_at\", \"idx\": 1460924820000, \"val\": 1267}, {\"col\": \"created_at\", \"idx\": 1460924880000, \"val\": 1161}, {\"col\": \"created_at\", \"idx\": 1460924940000, \"val\": 1124}, {\"col\": \"created_at\", \"idx\": 1460925000000, \"val\": 1217}, {\"col\": \"created_at\", \"idx\": 1460925060000, \"val\": 1251}, {\"col\": \"created_at\", \"idx\": 1460925120000, \"val\": 1224}, {\"col\": \"created_at\", \"idx\": 1460925180000, \"val\": 1322}, {\"col\": \"created_at\", \"idx\": 1460925240000, \"val\": 1419}, {\"col\": \"created_at\", \"idx\": 1460925300000, \"val\": 1303}, {\"col\": \"created_at\", \"idx\": 1460925360000, \"val\": 1385}, {\"col\": \"created_at\", \"idx\": 1460925420000, \"val\": 1359}, {\"col\": \"created_at\", \"idx\": 1460925480000, \"val\": 1421}, {\"col\": \"created_at\", \"idx\": 1460925540000, \"val\": 1370}, {\"col\": \"created_at\", \"idx\": 1460925600000, \"val\": 1609}, {\"col\": \"created_at\", \"idx\": 1460925660000, \"val\": 1675}, {\"col\": \"created_at\", \"idx\": 1460925720000, \"val\": 1938}, {\"col\": \"created_at\", \"idx\": 1460925780000, \"val\": 1816}, {\"col\": \"created_at\", \"idx\": 1460925840000, \"val\": 1731}, {\"col\": \"created_at\", \"idx\": 1460925900000, \"val\": 1729}, {\"col\": \"created_at\", \"idx\": 1460925960000, \"val\": 1882}, {\"col\": \"created_at\", \"idx\": 1460926020000, \"val\": 2489}, {\"col\": \"created_at\", \"idx\": 1460926080000, \"val\": 2611}, {\"col\": \"created_at\", \"idx\": 1460926140000, \"val\": 2719}, {\"col\": \"created_at\", \"idx\": 1460926200000, \"val\": 2817}, {\"col\": \"created_at\", \"idx\": 1460926260000, \"val\": 2848}, {\"col\": \"created_at\", \"idx\": 1460926320000, \"val\": 2818}, {\"col\": \"created_at\", \"idx\": 1460926380000, \"val\": 2831}, {\"col\": \"created_at\", \"idx\": 1460926440000, \"val\": 2880}, {\"col\": \"created_at\", \"idx\": 1460926500000, \"val\": 2842}, {\"col\": \"created_at\", \"idx\": 1460926560000, \"val\": 2835}, {\"col\": \"created_at\", \"idx\": 1460926620000, \"val\": 2865}, {\"col\": \"created_at\", \"idx\": 1460926680000, \"val\": 2880}, {\"col\": \"created_at\", \"idx\": 1460926740000, \"val\": 2863}, {\"col\": \"created_at\", \"idx\": 1460926800000, \"val\": 2855}, {\"col\": \"created_at\", \"idx\": 1460926860000, \"val\": 2872}, {\"col\": \"created_at\", \"idx\": 1460926920000, \"val\": 2873}, {\"col\": \"created_at\", \"idx\": 1460926980000, \"val\": 2868}, {\"col\": \"created_at\", \"idx\": 1460927040000, \"val\": 2806}, {\"col\": \"created_at\", \"idx\": 1460927100000, \"val\": 2861}, {\"col\": \"created_at\", \"idx\": 1460927160000, \"val\": 2878}, {\"col\": \"created_at\", \"idx\": 1460927220000, \"val\": 2880}, {\"col\": \"created_at\", \"idx\": 1460927280000, \"val\": 2877}, {\"col\": \"created_at\", \"idx\": 1460927340000, \"val\": 2931}, {\"col\": \"created_at\", \"idx\": 1460927400000, \"val\": 2805}, {\"col\": \"created_at\", \"idx\": 1460927460000, \"val\": 2883}, {\"col\": \"created_at\", \"idx\": 1460927520000, \"val\": 2884}, {\"col\": \"created_at\", \"idx\": 1460927580000, \"val\": 2878}, {\"col\": \"created_at\", \"idx\": 1460927640000, \"val\": 2856}, {\"col\": \"created_at\", \"idx\": 1460927700000, \"val\": 1239}, {\"col\": \"created_at\", \"idx\": 1460927760000, \"val\": 0}, {\"col\": \"created_at\", \"idx\": 1460927820000, \"val\": 0}, {\"col\": \"created_at\", \"idx\": 1460927880000, \"val\": 0}, {\"col\": \"created_at\", \"idx\": 1460927940000, \"val\": 0}, {\"col\": \"created_at\", \"idx\": 1460928000000, \"val\": 0}, {\"col\": \"created_at\", \"idx\": 1460928060000, \"val\": 0}, {\"col\": \"created_at\", \"idx\": 1460928120000, \"val\": 0}, {\"col\": \"created_at\", \"idx\": 1460928180000, \"val\": 0}, {\"col\": \"created_at\", \"idx\": 1460928240000, \"val\": 0}, {\"col\": \"created_at\", \"idx\": 1460928300000, \"val\": 0}, {\"col\": \"created_at\", \"idx\": 1460928360000, \"val\": 0}, {\"col\": \"created_at\", \"idx\": 1460928420000, \"val\": 0}, {\"col\": \"created_at\", \"idx\": 1460928480000, \"val\": 0}, {\"col\": \"created_at\", \"idx\": 1460928540000, \"val\": 0}, {\"col\": \"created_at\", \"idx\": 1460928600000, \"val\": 0}, {\"col\": \"created_at\", \"idx\": 1460928660000, \"val\": 0}, {\"col\": \"created_at\", \"idx\": 1460928720000, \"val\": 0}, {\"col\": \"created_at\", \"idx\": 1460928780000, \"val\": 0}, {\"col\": \"created_at\", \"idx\": 1460928840000, \"val\": 0}, {\"col\": \"created_at\", \"idx\": 1460928900000, \"val\": 0}, {\"col\": \"created_at\", \"idx\": 1460928960000, \"val\": 0}, {\"col\": \"created_at\", \"idx\": 1460929020000, \"val\": 0}, {\"col\": \"created_at\", \"idx\": 1460929080000, \"val\": 0}, {\"col\": \"created_at\", \"idx\": 1460929140000, \"val\": 0}, {\"col\": \"created_at\", \"idx\": 1460929200000, \"val\": 0}, {\"col\": \"created_at\", \"idx\": 1460929260000, \"val\": 0}, {\"col\": \"created_at\", \"idx\": 1460929320000, \"val\": 0}, {\"col\": \"created_at\", \"idx\": 1460929380000, \"val\": 0}, {\"col\": \"created_at\", \"idx\": 1460929440000, \"val\": 0}, {\"col\": \"created_at\", \"idx\": 1460929500000, \"val\": 0}, {\"col\": \"created_at\", \"idx\": 1460929560000, \"val\": 0}, {\"col\": \"created_at\", \"idx\": 1460929620000, \"val\": 0}, {\"col\": \"created_at\", \"idx\": 1460929680000, \"val\": 0}, {\"col\": \"created_at\", \"idx\": 1460929740000, \"val\": 0}, {\"col\": \"created_at\", \"idx\": 1460929800000, \"val\": 0}, {\"col\": \"created_at\", \"idx\": 1460929860000, \"val\": 0}, {\"col\": \"created_at\", \"idx\": 1460929920000, \"val\": 0}, {\"col\": \"created_at\", \"idx\": 1460929980000, \"val\": 0}, {\"col\": \"created_at\", \"idx\": 1460930040000, \"val\": 0}, {\"col\": \"created_at\", \"idx\": 1460930100000, \"val\": 0}, {\"col\": \"created_at\", \"idx\": 1460930160000, \"val\": 0}, {\"col\": \"created_at\", \"idx\": 1460930220000, \"val\": 0}, {\"col\": \"created_at\", \"idx\": 1460930280000, \"val\": 0}, {\"col\": \"created_at\", \"idx\": 1460930340000, \"val\": 0}, {\"col\": \"created_at\", \"idx\": 1460930400000, \"val\": 0}, {\"col\": \"created_at\", \"idx\": 1460930460000, \"val\": 0}, {\"col\": \"created_at\", \"idx\": 1460930520000, \"val\": 0}, {\"col\": \"created_at\", \"idx\": 1460930580000, \"val\": 0}, {\"col\": \"created_at\", \"idx\": 1460930640000, \"val\": 0}, {\"col\": \"created_at\", \"idx\": 1460930700000, \"val\": 0}, {\"col\": \"created_at\", \"idx\": 1460930760000, \"val\": 0}, {\"col\": \"created_at\", \"idx\": 1460930820000, \"val\": 0}, {\"col\": \"created_at\", \"idx\": 1460930880000, \"val\": 0}, {\"col\": \"created_at\", \"idx\": 1460930940000, \"val\": 0}, {\"col\": \"created_at\", \"idx\": 1460931000000, \"val\": 0}, {\"col\": \"created_at\", \"idx\": 1460931060000, \"val\": 0}, {\"col\": \"created_at\", \"idx\": 1460931120000, \"val\": 0}, {\"col\": \"created_at\", \"idx\": 1460931180000, \"val\": 0}, {\"col\": \"created_at\", \"idx\": 1460931240000, \"val\": 0}, {\"col\": \"created_at\", \"idx\": 1460931300000, \"val\": 0}, {\"col\": \"created_at\", \"idx\": 1460931360000, \"val\": 0}, {\"col\": \"created_at\", \"idx\": 1460931420000, \"val\": 0}, {\"col\": \"created_at\", \"idx\": 1460931480000, \"val\": 0}, {\"col\": \"created_at\", \"idx\": 1460931540000, \"val\": 0}, {\"col\": \"created_at\", \"idx\": 1460931600000, \"val\": 0}, {\"col\": \"created_at\", \"idx\": 1460931660000, \"val\": 0}, {\"col\": \"created_at\", \"idx\": 1460931720000, \"val\": 0}, {\"col\": \"created_at\", \"idx\": 1460931780000, \"val\": 0}, {\"col\": \"created_at\", \"idx\": 1460931840000, \"val\": 0}, {\"col\": \"created_at\", \"idx\": 1460931900000, \"val\": 0}, {\"col\": \"created_at\", \"idx\": 1460931960000, \"val\": 0}, {\"col\": \"created_at\", \"idx\": 1460932020000, \"val\": 0}, {\"col\": \"created_at\", \"idx\": 1460932080000, \"val\": 0}, {\"col\": \"created_at\", \"idx\": 1460932140000, \"val\": 0}, {\"col\": \"created_at\", \"idx\": 1460932200000, \"val\": 0}, {\"col\": \"created_at\", \"idx\": 1460932260000, \"val\": 0}, {\"col\": \"created_at\", \"idx\": 1460932320000, \"val\": 0}, {\"col\": \"created_at\", \"idx\": 1460932380000, \"val\": 0}, {\"col\": \"created_at\", \"idx\": 1460932440000, \"val\": 0}, {\"col\": \"created_at\", \"idx\": 1460932500000, \"val\": 0}, {\"col\": \"created_at\", \"idx\": 1460932560000, \"val\": 0}, {\"col\": \"created_at\", \"idx\": 1460932620000, \"val\": 0}, {\"col\": \"created_at\", \"idx\": 1460932680000, \"val\": 0}, {\"col\": \"created_at\", \"idx\": 1460932740000, \"val\": 0}, {\"col\": \"created_at\", \"idx\": 1460932800000, \"val\": 0}, {\"col\": \"created_at\", \"idx\": 1460932860000, \"val\": 0}, {\"col\": \"created_at\", \"idx\": 1460932920000, \"val\": 0}, {\"col\": \"created_at\", \"idx\": 1460932980000, \"val\": 0}, {\"col\": \"created_at\", \"idx\": 1460933040000, \"val\": 0}, {\"col\": \"created_at\", \"idx\": 1460933100000, \"val\": 0}, {\"col\": \"created_at\", \"idx\": 1460933160000, \"val\": 0}, {\"col\": \"created_at\", \"idx\": 1460933220000, \"val\": 0}, {\"col\": \"created_at\", \"idx\": 1460933280000, \"val\": 0}, {\"col\": \"created_at\", \"idx\": 1460933340000, \"val\": 0}, {\"col\": \"created_at\", \"idx\": 1460933400000, \"val\": 0}, {\"col\": \"created_at\", \"idx\": 1460933460000, \"val\": 0}, {\"col\": \"created_at\", \"idx\": 1460933520000, \"val\": 0}, {\"col\": \"created_at\", \"idx\": 1460933580000, \"val\": 0}, {\"col\": \"created_at\", \"idx\": 1460933640000, \"val\": 0}, {\"col\": \"created_at\", \"idx\": 1460933700000, \"val\": 0}, {\"col\": \"created_at\", \"idx\": 1460933760000, \"val\": 0}, {\"col\": \"created_at\", \"idx\": 1460933820000, \"val\": 0}, {\"col\": \"created_at\", \"idx\": 1460933880000, \"val\": 0}, {\"col\": \"created_at\", \"idx\": 1460933940000, \"val\": 0}, {\"col\": \"created_at\", \"idx\": 1460934000000, \"val\": 0}, {\"col\": \"created_at\", \"idx\": 1460934060000, \"val\": 0}, {\"col\": \"created_at\", \"idx\": 1460934120000, \"val\": 0}, {\"col\": \"created_at\", \"idx\": 1460934180000, \"val\": 0}, {\"col\": \"created_at\", \"idx\": 1460934240000, \"val\": 0}, {\"col\": \"created_at\", \"idx\": 1460934300000, \"val\": 0}, {\"col\": \"created_at\", \"idx\": 1460934360000, \"val\": 0}, {\"col\": \"created_at\", \"idx\": 1460934420000, \"val\": 0}, {\"col\": \"created_at\", \"idx\": 1460934480000, \"val\": 0}, {\"col\": \"created_at\", \"idx\": 1460934540000, \"val\": 0}, {\"col\": \"created_at\", \"idx\": 1460934600000, \"val\": 0}, {\"col\": \"created_at\", \"idx\": 1460934660000, \"val\": 0}, {\"col\": \"created_at\", \"idx\": 1460934720000, \"val\": 0}, {\"col\": \"created_at\", \"idx\": 1460934780000, \"val\": 0}, {\"col\": \"created_at\", \"idx\": 1460934840000, \"val\": 0}, {\"col\": \"created_at\", \"idx\": 1460934900000, \"val\": 0}, {\"col\": \"created_at\", \"idx\": 1460934960000, \"val\": 0}, {\"col\": \"created_at\", \"idx\": 1460935020000, \"val\": 0}, {\"col\": \"created_at\", \"idx\": 1460935080000, \"val\": 0}, {\"col\": \"created_at\", \"idx\": 1460935140000, \"val\": 0}, {\"col\": \"created_at\", \"idx\": 1460935200000, \"val\": 0}, {\"col\": \"created_at\", \"idx\": 1460935260000, \"val\": 0}, {\"col\": \"created_at\", \"idx\": 1460935320000, \"val\": 0}, {\"col\": \"created_at\", \"idx\": 1460935380000, \"val\": 0}, {\"col\": \"created_at\", \"idx\": 1460935440000, \"val\": 0}, {\"col\": \"created_at\", \"idx\": 1460935500000, \"val\": 0}, {\"col\": \"created_at\", \"idx\": 1460935560000, \"val\": 0}, {\"col\": \"created_at\", \"idx\": 1460935620000, \"val\": 0}, {\"col\": \"created_at\", \"idx\": 1460935680000, \"val\": 0}, {\"col\": \"created_at\", \"idx\": 1460935740000, \"val\": 0}, {\"col\": \"created_at\", \"idx\": 1460935800000, \"val\": 0}, {\"col\": \"created_at\", \"idx\": 1460935860000, \"val\": 0}, {\"col\": \"created_at\", \"idx\": 1460935920000, \"val\": 0}, {\"col\": \"created_at\", \"idx\": 1460935980000, \"val\": 0}, {\"col\": \"created_at\", \"idx\": 1460936040000, \"val\": 0}, {\"col\": \"created_at\", \"idx\": 1460936100000, \"val\": 0}, {\"col\": \"created_at\", \"idx\": 1460936160000, \"val\": 0}, {\"col\": \"created_at\", \"idx\": 1460936220000, \"val\": 0}, {\"col\": \"created_at\", \"idx\": 1460936280000, \"val\": 0}, {\"col\": \"created_at\", \"idx\": 1460936340000, \"val\": 0}, {\"col\": \"created_at\", \"idx\": 1460936400000, \"val\": 0}, {\"col\": \"created_at\", \"idx\": 1460936460000, \"val\": 0}, {\"col\": \"created_at\", \"idx\": 1460936520000, \"val\": 0}, {\"col\": \"created_at\", \"idx\": 1460936580000, \"val\": 0}, {\"col\": \"created_at\", \"idx\": 1460936640000, \"val\": 0}, {\"col\": \"created_at\", \"idx\": 1460936700000, \"val\": 0}, {\"col\": \"created_at\", \"idx\": 1460936760000, \"val\": 0}, {\"col\": \"created_at\", \"idx\": 1460936820000, \"val\": 0}, {\"col\": \"created_at\", \"idx\": 1460936880000, \"val\": 0}, {\"col\": \"created_at\", \"idx\": 1460936940000, \"val\": 0}, {\"col\": \"created_at\", \"idx\": 1460937000000, \"val\": 0}, {\"col\": \"created_at\", \"idx\": 1460937060000, \"val\": 0}, {\"col\": \"created_at\", \"idx\": 1460937120000, \"val\": 0}, {\"col\": \"created_at\", \"idx\": 1460937180000, \"val\": 0}, {\"col\": \"created_at\", \"idx\": 1460937240000, \"val\": 0}, {\"col\": \"created_at\", \"idx\": 1460937300000, \"val\": 0}, {\"col\": \"created_at\", \"idx\": 1460937360000, \"val\": 0}, {\"col\": \"created_at\", \"idx\": 1460937420000, \"val\": 0}, {\"col\": \"created_at\", \"idx\": 1460937480000, \"val\": 0}, {\"col\": \"created_at\", \"idx\": 1460937540000, \"val\": 0}, {\"col\": \"created_at\", \"idx\": 1460937600000, \"val\": 0}, {\"col\": \"created_at\", \"idx\": 1460937660000, \"val\": 0}, {\"col\": \"created_at\", \"idx\": 1460937720000, \"val\": 0}, {\"col\": \"created_at\", \"idx\": 1460937780000, \"val\": 0}, {\"col\": \"created_at\", \"idx\": 1460937840000, \"val\": 0}, {\"col\": \"created_at\", \"idx\": 1460937900000, \"val\": 0}, {\"col\": \"created_at\", \"idx\": 1460937960000, \"val\": 0}, {\"col\": \"created_at\", \"idx\": 1460938020000, \"val\": 0}, {\"col\": \"created_at\", \"idx\": 1460938080000, \"val\": 0}, {\"col\": \"created_at\", \"idx\": 1460938140000, \"val\": 0}, {\"col\": \"created_at\", \"idx\": 1460938200000, \"val\": 0}, {\"col\": \"created_at\", \"idx\": 1460938260000, \"val\": 0}, {\"col\": \"created_at\", \"idx\": 1460938320000, \"val\": 0}, {\"col\": \"created_at\", \"idx\": 1460938380000, \"val\": 0}, {\"col\": \"created_at\", \"idx\": 1460938440000, \"val\": 0}, {\"col\": \"created_at\", \"idx\": 1460938500000, \"val\": 0}, {\"col\": \"created_at\", \"idx\": 1460938560000, \"val\": 0}, {\"col\": \"created_at\", \"idx\": 1460938620000, \"val\": 0}, {\"col\": \"created_at\", \"idx\": 1460938680000, \"val\": 0}, {\"col\": \"created_at\", \"idx\": 1460938740000, \"val\": 0}, {\"col\": \"created_at\", \"idx\": 1460938800000, \"val\": 0}, {\"col\": \"created_at\", \"idx\": 1460938860000, \"val\": 0}, {\"col\": \"created_at\", \"idx\": 1460938920000, \"val\": 0}, {\"col\": \"created_at\", \"idx\": 1460938980000, \"val\": 0}, {\"col\": \"created_at\", \"idx\": 1460939040000, \"val\": 0}, {\"col\": \"created_at\", \"idx\": 1460939100000, \"val\": 0}, {\"col\": \"created_at\", \"idx\": 1460939160000, \"val\": 0}, {\"col\": \"created_at\", \"idx\": 1460939220000, \"val\": 0}, {\"col\": \"created_at\", \"idx\": 1460939280000, \"val\": 0}, {\"col\": \"created_at\", \"idx\": 1460939340000, \"val\": 0}, {\"col\": \"created_at\", \"idx\": 1460939400000, \"val\": 0}, {\"col\": \"created_at\", \"idx\": 1460939460000, \"val\": 0}, {\"col\": \"created_at\", \"idx\": 1460939520000, \"val\": 0}, {\"col\": \"created_at\", \"idx\": 1460939580000, \"val\": 0}, {\"col\": \"created_at\", \"idx\": 1460939640000, \"val\": 0}, {\"col\": \"created_at\", \"idx\": 1460939700000, \"val\": 0}, {\"col\": \"created_at\", \"idx\": 1460939760000, \"val\": 0}, {\"col\": \"created_at\", \"idx\": 1460939820000, \"val\": 0}, {\"col\": \"created_at\", \"idx\": 1460939880000, \"val\": 0}, {\"col\": \"created_at\", \"idx\": 1460939940000, \"val\": 0}, {\"col\": \"created_at\", \"idx\": 1460940000000, \"val\": 0}, {\"col\": \"created_at\", \"idx\": 1460940060000, \"val\": 0}, {\"col\": \"created_at\", \"idx\": 1460940120000, \"val\": 0}, {\"col\": \"created_at\", \"idx\": 1460940180000, \"val\": 0}, {\"col\": \"created_at\", \"idx\": 1460940240000, \"val\": 0}, {\"col\": \"created_at\", \"idx\": 1460940300000, \"val\": 0}, {\"col\": \"created_at\", \"idx\": 1460940360000, \"val\": 0}, {\"col\": \"created_at\", \"idx\": 1460940420000, \"val\": 0}, {\"col\": \"created_at\", \"idx\": 1460940480000, \"val\": 0}, {\"col\": \"created_at\", \"idx\": 1460940540000, \"val\": 0}, {\"col\": \"created_at\", \"idx\": 1460940600000, \"val\": 0}, {\"col\": \"created_at\", \"idx\": 1460940660000, \"val\": 0}, {\"col\": \"created_at\", \"idx\": 1460940720000, \"val\": 0}, {\"col\": \"created_at\", \"idx\": 1460940780000, \"val\": 0}, {\"col\": \"created_at\", \"idx\": 1460940840000, \"val\": 0}, {\"col\": \"created_at\", \"idx\": 1460940900000, \"val\": 0}, {\"col\": \"created_at\", \"idx\": 1460940960000, \"val\": 0}, {\"col\": \"created_at\", \"idx\": 1460941020000, \"val\": 0}, {\"col\": \"created_at\", \"idx\": 1460941080000, \"val\": 0}, {\"col\": \"created_at\", \"idx\": 1460941140000, \"val\": 0}, {\"col\": \"created_at\", \"idx\": 1460941200000, \"val\": 0}, {\"col\": \"created_at\", \"idx\": 1460941260000, \"val\": 0}, {\"col\": \"created_at\", \"idx\": 1460941320000, \"val\": 0}, {\"col\": \"created_at\", \"idx\": 1460941380000, \"val\": 0}, {\"col\": \"created_at\", \"idx\": 1460941440000, \"val\": 0}, {\"col\": \"created_at\", \"idx\": 1460941500000, \"val\": 0}, {\"col\": \"created_at\", \"idx\": 1460941560000, \"val\": 0}, {\"col\": \"created_at\", \"idx\": 1460941620000, \"val\": 0}, {\"col\": \"created_at\", \"idx\": 1460941680000, \"val\": 0}, {\"col\": \"created_at\", \"idx\": 1460941740000, \"val\": 0}, {\"col\": \"created_at\", \"idx\": 1460941800000, \"val\": 0}, {\"col\": \"created_at\", \"idx\": 1460941860000, \"val\": 0}, {\"col\": \"created_at\", \"idx\": 1460941920000, \"val\": 0}, {\"col\": \"created_at\", \"idx\": 1460941980000, \"val\": 0}, {\"col\": \"created_at\", \"idx\": 1460942040000, \"val\": 0}, {\"col\": \"created_at\", \"idx\": 1460942100000, \"val\": 0}, {\"col\": \"created_at\", \"idx\": 1460942160000, \"val\": 0}, {\"col\": \"created_at\", \"idx\": 1460942220000, \"val\": 0}, {\"col\": \"created_at\", \"idx\": 1460942280000, \"val\": 0}, {\"col\": \"created_at\", \"idx\": 1460942340000, \"val\": 0}, {\"col\": \"created_at\", \"idx\": 1460942400000, \"val\": 0}, {\"col\": \"created_at\", \"idx\": 1460942460000, \"val\": 0}, {\"col\": \"created_at\", \"idx\": 1460942520000, \"val\": 0}, {\"col\": \"created_at\", \"idx\": 1460942580000, \"val\": 0}, {\"col\": \"created_at\", \"idx\": 1460942640000, \"val\": 0}, {\"col\": \"created_at\", \"idx\": 1460942700000, \"val\": 0}, {\"col\": \"created_at\", \"idx\": 1460942760000, \"val\": 0}, {\"col\": \"created_at\", \"idx\": 1460942820000, \"val\": 0}, {\"col\": \"created_at\", \"idx\": 1460942880000, \"val\": 0}, {\"col\": \"created_at\", \"idx\": 1460942940000, \"val\": 0}, {\"col\": \"created_at\", \"idx\": 1460943000000, \"val\": 0}, {\"col\": \"created_at\", \"idx\": 1460943060000, \"val\": 0}, {\"col\": \"created_at\", \"idx\": 1460943120000, \"val\": 0}, {\"col\": \"created_at\", \"idx\": 1460943180000, \"val\": 0}, {\"col\": \"created_at\", \"idx\": 1460943240000, \"val\": 0}, {\"col\": \"created_at\", \"idx\": 1460943300000, \"val\": 0}, {\"col\": \"created_at\", \"idx\": 1460943360000, \"val\": 0}, {\"col\": \"created_at\", \"idx\": 1460943420000, \"val\": 0}, {\"col\": \"created_at\", \"idx\": 1460943480000, \"val\": 0}, {\"col\": \"created_at\", \"idx\": 1460943540000, \"val\": 0}, {\"col\": \"created_at\", \"idx\": 1460943600000, \"val\": 0}, {\"col\": \"created_at\", \"idx\": 1460943660000, \"val\": 0}, {\"col\": \"created_at\", \"idx\": 1460943720000, \"val\": 0}, {\"col\": \"created_at\", \"idx\": 1460943780000, \"val\": 0}, {\"col\": \"created_at\", \"idx\": 1460943840000, \"val\": 0}, {\"col\": \"created_at\", \"idx\": 1460943900000, \"val\": 0}, {\"col\": \"created_at\", \"idx\": 1460943960000, \"val\": 0}, {\"col\": \"created_at\", \"idx\": 1460944020000, \"val\": 0}, {\"col\": \"created_at\", \"idx\": 1460944080000, \"val\": 0}, {\"col\": \"created_at\", \"idx\": 1460944140000, \"val\": 0}, {\"col\": \"created_at\", \"idx\": 1460944200000, \"val\": 0}, {\"col\": \"created_at\", \"idx\": 1460944260000, \"val\": 0}, {\"col\": \"created_at\", \"idx\": 1460944320000, \"val\": 0}, {\"col\": \"created_at\", \"idx\": 1460944380000, \"val\": 0}, {\"col\": \"created_at\", \"idx\": 1460944440000, \"val\": 0}, {\"col\": \"created_at\", \"idx\": 1460944500000, \"val\": 0}, {\"col\": \"created_at\", \"idx\": 1460944560000, \"val\": 0}, {\"col\": \"created_at\", \"idx\": 1460944620000, \"val\": 0}, {\"col\": \"created_at\", \"idx\": 1460944680000, \"val\": 0}, {\"col\": \"created_at\", \"idx\": 1460944740000, \"val\": 0}, {\"col\": \"created_at\", \"idx\": 1460944800000, \"val\": 0}, {\"col\": \"created_at\", \"idx\": 1460944860000, \"val\": 0}, {\"col\": \"created_at\", \"idx\": 1460944920000, \"val\": 0}, {\"col\": \"created_at\", \"idx\": 1460944980000, \"val\": 0}, {\"col\": \"created_at\", \"idx\": 1460945040000, \"val\": 0}, {\"col\": \"created_at\", \"idx\": 1460945100000, \"val\": 0}, {\"col\": \"created_at\", \"idx\": 1460945160000, \"val\": 0}, {\"col\": \"created_at\", \"idx\": 1460945220000, \"val\": 0}, {\"col\": \"created_at\", \"idx\": 1460945280000, \"val\": 1346}, {\"col\": \"created_at\", \"idx\": 1460945340000, \"val\": 2874}, {\"col\": \"created_at\", \"idx\": 1460945400000, \"val\": 2879}, {\"col\": \"created_at\", \"idx\": 1460945460000, \"val\": 2879}, {\"col\": \"created_at\", \"idx\": 1460945520000, \"val\": 332}]}, {\"name\": \"stats\", \"source\": \"table\", \"transform\": [{\"keys\": [\"data.idx\"], \"type\": \"facet\"}, {\"type\": \"stats\", \"value\": \"data.val\"}]}], \"height\": 500, \"legends\": [], \"marks\": [{\"from\": {\"data\": \"table\", \"transform\": [{\"keys\": [\"data.col\"], \"type\": \"facet\"}, {\"height\": \"data.val\", \"point\": \"data.idx\", \"type\": \"stack\"}]}, \"marks\": [{\"properties\": {\"enter\": {\"fill\": {\"field\": \"data.col\", \"scale\": \"color\"}, \"interpolate\": {\"value\": \"monotone\"}, \"x\": {\"field\": \"data.idx\", \"scale\": \"x\"}, \"y\": {\"field\": \"y\", \"scale\": \"y\"}, \"y2\": {\"field\": \"y2\", \"scale\": \"y\"}}}, \"type\": \"area\"}], \"type\": \"group\"}], \"padding\": \"auto\", \"scales\": [{\"domain\": {\"data\": \"table\", \"field\": \"data.idx\"}, \"name\": \"x\", \"range\": \"width\", \"type\": \"time\", \"zero\": false}, {\"domain\": {\"data\": \"stats\", \"field\": \"sum\"}, \"name\": \"y\", \"nice\": true, \"range\": \"height\"}, {\"domain\": {\"data\": \"table\", \"field\": \"data.col\"}, \"name\": \"color\", \"range\": [\"#9e0142\", \"#d53e4f\", \"#f46d43\", \"#fdae61\", \"#fee08b\", \"#ffffbf\", \"#e6f598\", \"#abdda4\", \"#66c2a5\", \"#3288bd\", \"#5e4fa2\"], \"type\": \"ordinal\"}], \"width\": 960}, function(chart) {\n",
       "         chart({el: \"#vis2200cef69b7b49edbeb4181065f7c8d1\"}).update();\n",
       "       });\n",
       "     };\n",
       "     _do_plot();\n",
       "   })();\n",
       "</script>\n",
       "<style>.vega canvas {width: 100%;}</style>\n",
       "        "
      ],
      "text/plain": [
       "<IPython.core.display.HTML object>"
      ]
     },
     "metadata": {},
     "output_type": "display_data"
    }
   ],
   "source": [
    "avg = tweets30s.mean()\n",
    "\n",
    "vincent.core.initialize_notebook()\n",
    "area = vincent.Area(tweets30s)\n",
    "area.colors(brew='Spectral')\n",
    "area.display()"
   ]
  },
  {
   "cell_type": "markdown",
   "metadata": {},
   "source": [
    "* * * \n",
    "\n",
    "### Funções de teste"
   ]
  },
  {
   "cell_type": "code",
   "execution_count": null,
   "metadata": {
    "collapsed": true
   },
   "outputs": [],
   "source": [
    "def datetimeify(df):\n",
    "    df['created_at'] = pd.DatetimeIndex(df.created_at)\n",
    "    return df"
   ]
  },
  {
   "cell_type": "code",
   "execution_count": null,
   "metadata": {
    "collapsed": true
   },
   "outputs": [],
   "source": [
    "def sentiment(df):\n",
    "    text = df.dropna(subset=['text']).text\n",
    "    sentiment = text.apply(lambda text: TextBlob(text).sentiment)\n",
    "    df['polarity'] = sentiment.apply(lambda sentiment: sentiment.polarity)\n",
    "    df['subjectivity'] = sentiment.apply(lambda sentiment: sentiment.subjectivity)\n",
    "    return df"
   ]
  },
  {
   "cell_type": "code",
   "execution_count": null,
   "metadata": {
    "collapsed": true
   },
   "outputs": [],
   "source": [
    "def influence(df):\n",
    "    internal = np.sqrt(df.user_followers_count.apply(lambda x: x + 1))\n",
    "    external = np.sqrt(df.retweet_count.apply(lambda x: x + 1))\n",
    "    df['influence'] = internal * external\n",
    "    return df"
   ]
  },
  {
   "cell_type": "code",
   "execution_count": null,
   "metadata": {
    "collapsed": true
   },
   "outputs": [],
   "source": [
    "def influenced_polarity(df):\n",
    "    df['influenced_polarity'] = df.polarity * df['influence']\n",
    "    return df"
   ]
  },
  {
   "cell_type": "code",
   "execution_count": null,
   "metadata": {
    "collapsed": true
   },
   "outputs": [],
   "source": [
    "def georeference(df):\n",
    "    def place_to_coordinate(place_str, kind):\n",
    "        if pd.isnull(place_str):\n",
    "            return float('nan')\n",
    "        number_matcher = r'(-?\\d+\\.\\d+)[,\\]]'\n",
    "        coordinates = re.findall(number_matcher, place_str)\n",
    "        coordinate = tuple(float(n) for n in coordinates[:2])\n",
    "\n",
    "        if kind == 'longitude':\n",
    "            return coordinate[0]\n",
    "        elif kind == 'latitude':\n",
    "            return coordinate[1]\n",
    "    df['latitude'] = df.place.apply(place_to_coordinate, kind='latitude')\n",
    "    df['longitude'] = df.place.apply(place_to_coordinate, kind='longitude')\n",
    "\n",
    "    return df"
   ]
  },
  {
   "cell_type": "code",
   "execution_count": null,
   "metadata": {
    "collapsed": true
   },
   "outputs": [],
   "source": [
    "def preprocess(df):\n",
    "    return (df.pipe(datetimeify))"
   ]
  },
  {
   "cell_type": "code",
   "execution_count": null,
   "metadata": {
    "collapsed": true
   },
   "outputs": [],
   "source": [
    "def preprocess_df(df):\n",
    "    cleaned = df.pipe(set_hashtags)\n",
    "    copy = cleaned.copy()\n",
    "    return preprocess(copy)\n"
   ]
  },
  {
   "cell_type": "code",
   "execution_count": null,
   "metadata": {
    "collapsed": false
   },
   "outputs": [],
   "source": [
    "def load_df(input_filename):\n",
    "    raw_df = pd.read_json(input_filename)\n",
    "    return preprocess(raw_df)\n",
    "\n",
    "print 'OK'\n"
   ]
  },
  {
   "cell_type": "markdown",
   "metadata": {},
   "source": [
    "* * *\n",
    "\n",
    "### Horários de Tweets"
   ]
  },
  {
   "cell_type": "code",
   "execution_count": null,
   "metadata": {
    "collapsed": false
   },
   "outputs": [],
   "source": [
    "df = load_df('data-docker/peda.json')\n",
    "df.head()"
   ]
  },
  {
   "cell_type": "code",
   "execution_count": null,
   "metadata": {
    "collapsed": false
   },
   "outputs": [],
   "source": [
    "tweets = pd.read_json('data-docker/peda.json')\n",
    "tweets['created_at'] = pd.to_datetime(pd.Series(tweets['created_at']))\n",
    "\n",
    "tweets.set_index('created_at', drop=False, inplace=True)\n",
    "\n",
    "tweets.info()\n",
    "tweets.index = tweets.index.tz_localize('GMT')\n",
    "tweets.index = tweets.index - DateOffset(hours = 3)\n",
    "tweets.index\n",
    "\n",
    "tweets.head()"
   ]
  },
  {
   "cell_type": "code",
   "execution_count": null,
   "metadata": {
    "collapsed": false
   },
   "outputs": [],
   "source": [
    "tweets30s = tweets['created_at'].resample('1s', how='count')\n",
    "tweets30s.head()"
   ]
  },
  {
   "cell_type": "code",
   "execution_count": null,
   "metadata": {
    "collapsed": false
   },
   "outputs": [],
   "source": [
    "avg = tweets30s.mean()\n",
    "\n",
    "vincent.core.initialize_notebook()\n",
    "area = vincent.Area(tweets30s)\n",
    "area.colors(brew='Spectral')\n",
    "area.display()"
   ]
  },
  {
   "cell_type": "markdown",
   "metadata": {},
   "source": [
    "* * *\n",
    "\n",
    "### Testes sentimental analysis"
   ]
  },
  {
   "cell_type": "code",
   "execution_count": null,
   "metadata": {
    "collapsed": false
   },
   "outputs": [],
   "source": [
    "emoticons_str = r\"\"\"\n",
    "    (?:\n",
    "        [:=;] # Eyes\n",
    "        [oO\\-]? # Nose (optional)\n",
    "        [D\\)\\]\\(\\]/\\\\OpP] # Mouth\n",
    "    )\"\"\"\n",
    " \n",
    "regex_str = [\n",
    "    emoticons_str,\n",
    "    r'<[^>]+>', # HTML tags\n",
    "    r'(?:@[\\w_]+)', # @-mentions\n",
    "    r\"(?:\\#+[\\w_]+[\\w\\'_\\-]*[\\w_]+)\", # hash-tags\n",
    "    r'http[s]?://(?:[a-z]|[0-9]|[$-_@.&+]|[!*\\(\\),]|(?:%[0-9a-f][0-9a-f]))+', # URLs\n",
    " \n",
    "    r'(?:(?:\\d+,?)+(?:\\.?\\d+)?)', # numbers\n",
    "    r\"(?:[a-z][a-z'\\-_]+[a-z])\", # words with - and '\n",
    "    r'(?:[\\w_]+)', # other words\n",
    "    r'(?:\\S)' # anything else\n",
    "]\n",
    "    \n",
    "tokens_re = re.compile(r'('+'|'.join(regex_str)+')', re.VERBOSE | re.IGNORECASE)\n",
    "emoticon_re = re.compile(r'^'+emoticons_str+'$', re.VERBOSE | re.IGNORECASE)\n",
    " \n",
    "def tokenize(s):\n",
    "    return tokens_re.findall(s)\n",
    " \n",
    "def preprocess(s, lowercase=True):\n",
    "    tokens = tokenize(s)\n",
    "    if lowercase:\n",
    "        tokens = [token if emoticon_re.search(token) else token.lower() for token in tokens]\n",
    "    return tokens\n",
    " \n",
    "tweet = \"RT @medeirosthiiago: testando exemplo TCC! :D http://example.com #ImpeachmentDay\"\n",
    "print(preprocess(tweet))\n",
    "# ['RT', '@marcobonzanini', ':', 'just', 'an', 'example', '!', ':D', 'http://example.com', '#NLP']\n"
   ]
  }
 ],
 "metadata": {
  "kernelspec": {
   "display_name": "Python 2",
   "language": "python",
   "name": "python2"
  },
  "language_info": {
   "codemirror_mode": {
    "name": "ipython",
    "version": 2
   },
   "file_extension": ".py",
   "mimetype": "text/x-python",
   "name": "python",
   "nbconvert_exporter": "python",
   "pygments_lexer": "ipython2",
   "version": "2.7.11"
  }
 },
 "nbformat": 4,
 "nbformat_minor": 0
}
