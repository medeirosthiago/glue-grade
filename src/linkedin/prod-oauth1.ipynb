{
 "cells": [
  {
   "cell_type": "code",
   "execution_count": 1,
   "metadata": {
    "collapsed": false
   },
   "outputs": [
    {
     "name": "stdout",
     "output_type": "stream",
     "text": [
      "Acesse a URL para adquirir o PIN: https://api.linkedin.com/uas/oauth/authorize?oauth_token=75--e135a4f1-f0fb-47f5-9ed1-877581a0e7ef\n",
      "Digite o PIN: 41583\n"
     ]
    }
   ],
   "source": [
    "from rauth.service import OAuth1Service\n",
    "\n",
    "linkedin = OAuth1Service(\n",
    "    consumer_key='7752sw6qx2r361',\n",
    "    consumer_secret='ZTZjN4WV3sImjf9B',\n",
    "    name='linkedin',\n",
    "    request_token_url='https://api.linkedin.com/uas/oauth/requestToken',\n",
    "    authorize_url='https://api.linkedin.com/uas/oauth/authorize',\n",
    "    access_token_url='https://api.linkedin.com/uas/oauth/accessToken',\n",
    "    base_url='http://api.linkedin.com/v1/')\n",
    "\n",
    "request_token, request_token_secret = linkedin.get_request_token()\n",
    "\n",
    "authorize_url = linkedin.get_authorize_url(request_token)\n",
    "\n",
    "print 'Acesse a URL para adquirir o PIN: ' + authorize_url\n",
    "pin = raw_input('Digite o PIN: ')\n",
    "\n",
    "session = linkedin.get_auth_session(request_token,\n",
    "                                    request_token_secret,\n",
    "                                    data={'oauth_verifier': pin},\n",
    "                                    header_auth=True)"
   ]
  },
  {
   "cell_type": "code",
   "execution_count": 3,
   "metadata": {
    "collapsed": false
   },
   "outputs": [
    {
     "name": "stdout",
     "output_type": "stream",
     "text": [
      "{u'errorCode': 0, u'status': 403, u'message': u'Access to connections denied', u'requestId': u'WXRYRG4PCK', u'timestamp': 1459977004050}\n"
     ]
    }
   ],
   "source": [
    "r = session.get('people/~/connections',\n",
    "                params={'type': 'SHAR', 'format': 'json'},\n",
    "                header_auth=True)\n",
    "\n",
    "updates = r.json()\n",
    "\n",
    "print updates"
   ]
  },
  {
   "cell_type": "code",
   "execution_count": null,
   "metadata": {
    "collapsed": true
   },
   "outputs": [],
   "source": []
  }
 ],
 "metadata": {
  "kernelspec": {
   "display_name": "Python 2",
   "language": "python",
   "name": "python2"
  },
  "language_info": {
   "codemirror_mode": {
    "name": "ipython",
    "version": 2
   },
   "file_extension": ".py",
   "mimetype": "text/x-python",
   "name": "python",
   "nbconvert_exporter": "python",
   "pygments_lexer": "ipython2",
   "version": "2.7.11"
  }
 },
 "nbformat": 4,
 "nbformat_minor": 0
}
