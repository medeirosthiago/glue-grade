{
 "cells": [
  {
   "cell_type": "code",
   "execution_count": null,
   "metadata": {
    "collapsed": false
   },
   "outputs": [],
   "source": [
    "from linkedin import linkedin\n",
    "\n",
    "API_KEY = '7752sw6qx2r361'\n",
    "API_SECRET = 'ZTZjN4WV3sImjf9B'\n",
    "RETURN_URL = 'http://localhost:8000'\n",
    "\n",
    "authentication = linkedin.LinkedInAuthentication(API_KEY, API_SECRET, RETURN_URL, ['r_basicprofile'])\n",
    "\n",
    "print authentication.authorization_url\n",
    "application = linkedin.LinkedInApplication(authentication)"
   ]
  },
  {
   "cell_type": "code",
   "execution_count": null,
   "metadata": {
    "collapsed": false
   },
   "outputs": [],
   "source": [
    "authentication.authorization_code = 'AQQwjOHWwomDUTY03kERi8sZdksVShRgdGdmXM1A4RdD1ybuOu5r6gD0kIKiQMpu_LJdXeN7vGa_vfBMMaELm4BsycT7_zXRUSYReZ1oKG4PXTd5SV0'\n",
    "authentication.get_access_token()"
   ]
  },
  {
   "cell_type": "code",
   "execution_count": null,
   "metadata": {
    "collapsed": true
   },
   "outputs": [],
   "source": [
    "application = linkedin.LinkedInApplication(token='AQXLTH98yNxEBa3ud0UQeIzD2uPFquwyVKx6ReCY0J6zF2QYHEJgQamg9bQrevamUlfPx-Wv6pCnRUbUJ4rN-InsX6HlqdaTnX-Ppx6qLZvoe4_qM1Pt1sKKMvTPG8tAO4qv8CThqCTl3XZZ-TrdFsTkXvd7w7x3nLHreUoTgPMGXFOSexY')\n",
    "application.get_profile()"
   ]
  },
  {
   "cell_type": "code",
   "execution_count": null,
   "metadata": {
    "collapsed": false
   },
   "outputs": [],
   "source": [
    "import json\n",
    "\n",
    "connections = application.get_profile(selectors=['id', 'first-name', 'last-name', 'location', 'distance', 'num-connections', 'skills', 'educations'])\n",
    "connections_data = '../data/profile.json'\n",
    "\n",
    "f = open(connections_data, 'w')\n",
    "f.write(json.dumps(connections, indent=1))\n",
    "f.close()"
   ]
  }
 ],
 "metadata": {
  "kernelspec": {
   "display_name": "Python 2",
   "language": "python",
   "name": "python2"
  },
  "language_info": {
   "codemirror_mode": {
    "name": "ipython",
    "version": 2
   },
   "file_extension": ".py",
   "mimetype": "text/x-python",
   "name": "python",
   "nbconvert_exporter": "python",
   "pygments_lexer": "ipython2",
   "version": "2.7.11"
  }
 },
 "nbformat": 4,
 "nbformat_minor": 0
}
